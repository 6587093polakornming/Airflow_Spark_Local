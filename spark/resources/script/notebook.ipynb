{
 "cells": [
  {
   "cell_type": "code",
   "execution_count": 1,
   "id": "b7b40054-4112-4692-82c7-1bf55c21e5a2",
   "metadata": {},
   "outputs": [
    {
     "name": "stdout",
     "output_type": "stream",
     "text": [
      "[('airflow', 1), ('spark', 1), ('world', 1), ('hello', 3)]\n"
     ]
    }
   ],
   "source": [
    "from pyspark.sql import SparkSession\n",
    "\n",
    "spark = SparkSession.builder.appName(\"WordCount\").getOrCreate()\n",
    "sc = spark.sparkContext\n",
    "lines = sc.parallelize([\"hello world\", \"hello airflow\", \"hello spark\"])\n",
    "counts = lines.flatMap(lambda x: x.split(\" \")) \\\n",
    "              .map(lambda x: (x, 1)) \\\n",
    "              .reduceByKey(lambda a, b: a + b)\n",
    "print(counts.collect())\n",
    "spark.stop()"
   ]
  },
  {
   "cell_type": "code",
   "execution_count": null,
   "id": "0f625455-38c7-4a5b-a0d3-1e27b9db33d6",
   "metadata": {},
   "outputs": [],
   "source": []
  }
 ],
 "metadata": {
  "kernelspec": {
   "display_name": "Python 3 (ipykernel)",
   "language": "python",
   "name": "python3"
  },
  "language_info": {
   "codemirror_mode": {
    "name": "ipython",
    "version": 3
   },
   "file_extension": ".py",
   "mimetype": "text/x-python",
   "name": "python",
   "nbconvert_exporter": "python",
   "pygments_lexer": "ipython3",
   "version": "3.11.6"
  }
 },
 "nbformat": 4,
 "nbformat_minor": 5
}
