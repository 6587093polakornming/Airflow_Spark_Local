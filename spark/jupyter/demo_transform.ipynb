{
 "cells": [
  {
   "cell_type": "code",
   "execution_count": 1,
   "id": "fc715ef5-516c-4b42-9cf4-9b67f0d8bc47",
   "metadata": {},
   "outputs": [
    {
     "name": "stderr",
     "output_type": "stream",
     "text": [
      "Setting default log level to \"WARN\".\n",
      "To adjust logging level use sc.setLogLevel(newLevel). For SparkR, use setLogLevel(newLevel).\n",
      "25/06/25 06:47:23 WARN NativeCodeLoader: Unable to load native-hadoop library for your platform... using builtin-java classes where applicable\n"
     ]
    }
   ],
   "source": [
    "from pyspark.sql import SparkSession\n",
    "\n",
    "spark = SparkSession.builder \\\n",
    "    .appName(\"Demo_Transform\") \\\n",
    "    .master(\"spark://spark-master:7077\") \\\n",
    "    .getOrCreate()"
   ]
  },
  {
   "cell_type": "code",
   "execution_count": 3,
   "id": "d6fc2f2c-986b-4d81-b410-662df548c9bc",
   "metadata": {},
   "outputs": [
    {
     "name": "stderr",
     "output_type": "stream",
     "text": [
      "                                                                                \r"
     ]
    },
    {
     "data": {
      "text/html": [
       "<div>\n",
       "<style scoped>\n",
       "    .dataframe tbody tr th:only-of-type {\n",
       "        vertical-align: middle;\n",
       "    }\n",
       "\n",
       "    .dataframe tbody tr th {\n",
       "        vertical-align: top;\n",
       "    }\n",
       "\n",
       "    .dataframe thead th {\n",
       "        text-align: right;\n",
       "    }\n",
       "</style>\n",
       "<table border=\"1\" class=\"dataframe\">\n",
       "  <thead>\n",
       "    <tr style=\"text-align: right;\">\n",
       "      <th></th>\n",
       "      <th>id</th>\n",
       "      <th>title</th>\n",
       "      <th>vote_average</th>\n",
       "      <th>vote_count</th>\n",
       "      <th>status</th>\n",
       "      <th>release_date</th>\n",
       "      <th>revenue</th>\n",
       "      <th>runtime</th>\n",
       "      <th>adult</th>\n",
       "      <th>budget</th>\n",
       "      <th>original_language</th>\n",
       "      <th>overview</th>\n",
       "      <th>popularity</th>\n",
       "      <th>genres</th>\n",
       "      <th>production_companies</th>\n",
       "      <th>spoken_languages</th>\n",
       "      <th>keywords</th>\n",
       "      <th>production_countries</th>\n",
       "    </tr>\n",
       "  </thead>\n",
       "  <tbody>\n",
       "    <tr>\n",
       "      <th>0</th>\n",
       "      <td>5</td>\n",
       "      <td>Four Rooms</td>\n",
       "      <td>5.784</td>\n",
       "      <td>2436</td>\n",
       "      <td>Released</td>\n",
       "      <td>1995-12-09</td>\n",
       "      <td>4257354</td>\n",
       "      <td>98</td>\n",
       "      <td>False</td>\n",
       "      <td>4000000</td>\n",
       "      <td>en</td>\n",
       "      <td>It's Ted the Bellhop's first night on the job....</td>\n",
       "      <td>15.295</td>\n",
       "      <td>Comedy</td>\n",
       "      <td>Miramax, A Band Apart</td>\n",
       "      <td>English</td>\n",
       "      <td>hotel, new year's eve, witch, bet, sperm, hote...</td>\n",
       "      <td>united states of america</td>\n",
       "    </tr>\n",
       "    <tr>\n",
       "      <th>1</th>\n",
       "      <td>6</td>\n",
       "      <td>Judgment Night</td>\n",
       "      <td>6.533</td>\n",
       "      <td>302</td>\n",
       "      <td>Released</td>\n",
       "      <td>1993-10-15</td>\n",
       "      <td>12136938</td>\n",
       "      <td>109</td>\n",
       "      <td>False</td>\n",
       "      <td>21000000</td>\n",
       "      <td>en</td>\n",
       "      <td>While racing to a boxing match, Frank, Mike, J...</td>\n",
       "      <td>13.564</td>\n",
       "      <td>Action, Crime, Thriller</td>\n",
       "      <td>Largo Entertainment, JVC</td>\n",
       "      <td>English</td>\n",
       "      <td>drug dealer, chicago, illinois, escape, one ni...</td>\n",
       "      <td>united states of america</td>\n",
       "    </tr>\n",
       "    <tr>\n",
       "      <th>2</th>\n",
       "      <td>12</td>\n",
       "      <td>Finding Nemo</td>\n",
       "      <td>7.824</td>\n",
       "      <td>18061</td>\n",
       "      <td>Released</td>\n",
       "      <td>2003-05-30</td>\n",
       "      <td>940335536</td>\n",
       "      <td>100</td>\n",
       "      <td>False</td>\n",
       "      <td>94000000</td>\n",
       "      <td>en</td>\n",
       "      <td>Nemo, an adventurous young clownfish, is unexp...</td>\n",
       "      <td>55.456</td>\n",
       "      <td>Animation, Family</td>\n",
       "      <td>Pixar</td>\n",
       "      <td>English</td>\n",
       "      <td>sydney, australia, parent child relationship, ...</td>\n",
       "      <td>united states of america</td>\n",
       "    </tr>\n",
       "    <tr>\n",
       "      <th>3</th>\n",
       "      <td>13</td>\n",
       "      <td>Forrest Gump</td>\n",
       "      <td>8.477</td>\n",
       "      <td>25409</td>\n",
       "      <td>Released</td>\n",
       "      <td>1994-06-23</td>\n",
       "      <td>677387716</td>\n",
       "      <td>142</td>\n",
       "      <td>False</td>\n",
       "      <td>55000000</td>\n",
       "      <td>en</td>\n",
       "      <td>A man with a low IQ has accomplished great thi...</td>\n",
       "      <td>92.693</td>\n",
       "      <td>Comedy, Drama, Romance</td>\n",
       "      <td>Paramount, The Steve Tisch Company, Wendy Fine...</td>\n",
       "      <td>English</td>\n",
       "      <td>vietnam war, vietnam veteran, mentally disable...</td>\n",
       "      <td>united states of america</td>\n",
       "    </tr>\n",
       "    <tr>\n",
       "      <th>4</th>\n",
       "      <td>15</td>\n",
       "      <td>Citizen Kane</td>\n",
       "      <td>8.015</td>\n",
       "      <td>5034</td>\n",
       "      <td>Released</td>\n",
       "      <td>1941-04-17</td>\n",
       "      <td>23218000</td>\n",
       "      <td>119</td>\n",
       "      <td>False</td>\n",
       "      <td>839727</td>\n",
       "      <td>en</td>\n",
       "      <td>Newspaper magnate, Charles Foster Kane is take...</td>\n",
       "      <td>28.218</td>\n",
       "      <td>Mystery, Drama</td>\n",
       "      <td>Mercury Productions, RKO Radio Pictures</td>\n",
       "      <td>English</td>\n",
       "      <td>media tycoon, florida, art collector, newspape...</td>\n",
       "      <td>united states of america</td>\n",
       "    </tr>\n",
       "  </tbody>\n",
       "</table>\n",
       "</div>"
      ],
      "text/plain": [
       "   id           title  vote_average  vote_count    status release_date  \\\n",
       "0   5      Four Rooms         5.784        2436  Released   1995-12-09   \n",
       "1   6  Judgment Night         6.533         302  Released   1993-10-15   \n",
       "2  12    Finding Nemo         7.824       18061  Released   2003-05-30   \n",
       "3  13    Forrest Gump         8.477       25409  Released   1994-06-23   \n",
       "4  15    Citizen Kane         8.015        5034  Released   1941-04-17   \n",
       "\n",
       "     revenue  runtime  adult    budget original_language  \\\n",
       "0    4257354       98  False   4000000                en   \n",
       "1   12136938      109  False  21000000                en   \n",
       "2  940335536      100  False  94000000                en   \n",
       "3  677387716      142  False  55000000                en   \n",
       "4   23218000      119  False    839727                en   \n",
       "\n",
       "                                            overview  popularity  \\\n",
       "0  It's Ted the Bellhop's first night on the job....      15.295   \n",
       "1  While racing to a boxing match, Frank, Mike, J...      13.564   \n",
       "2  Nemo, an adventurous young clownfish, is unexp...      55.456   \n",
       "3  A man with a low IQ has accomplished great thi...      92.693   \n",
       "4  Newspaper magnate, Charles Foster Kane is take...      28.218   \n",
       "\n",
       "                    genres                               production_companies  \\\n",
       "0                   Comedy                              Miramax, A Band Apart   \n",
       "1  Action, Crime, Thriller                           Largo Entertainment, JVC   \n",
       "2        Animation, Family                                              Pixar   \n",
       "3   Comedy, Drama, Romance  Paramount, The Steve Tisch Company, Wendy Fine...   \n",
       "4           Mystery, Drama            Mercury Productions, RKO Radio Pictures   \n",
       "\n",
       "  spoken_languages                                           keywords  \\\n",
       "0          English  hotel, new year's eve, witch, bet, sperm, hote...   \n",
       "1          English  drug dealer, chicago, illinois, escape, one ni...   \n",
       "2          English  sydney, australia, parent child relationship, ...   \n",
       "3          English  vietnam war, vietnam veteran, mentally disable...   \n",
       "4          English  media tycoon, florida, art collector, newspape...   \n",
       "\n",
       "       production_countries  \n",
       "0  united states of america  \n",
       "1  united states of america  \n",
       "2  united states of america  \n",
       "3  united states of america  \n",
       "4  united states of america  "
      ]
     },
     "execution_count": 3,
     "metadata": {},
     "output_type": "execute_result"
    }
   ],
   "source": [
    "CLEAN_DATA_PATH = \"/opt/bitnami/spark/resources/dataset/cleaned_data\"\n",
    "\n",
    "df = spark.read \\\n",
    "    .option(\"header\", True) \\\n",
    "    .option(\"inferSchema\", True) \\\n",
    "    .csv(CLEAN_DATA_PATH)\n",
    "\n",
    "df.limit(5).toPandas()"
   ]
  },
  {
   "cell_type": "code",
   "execution_count": 4,
   "id": "081aaf19-07e7-4cc6-95ff-0d41389bdbc4",
   "metadata": {},
   "outputs": [
    {
     "name": "stdout",
     "output_type": "stream",
     "text": [
      "root\n",
      " |-- id: integer (nullable = true)\n",
      " |-- title: string (nullable = true)\n",
      " |-- vote_average: double (nullable = true)\n",
      " |-- vote_count: integer (nullable = true)\n",
      " |-- status: string (nullable = true)\n",
      " |-- release_date: timestamp (nullable = true)\n",
      " |-- revenue: integer (nullable = true)\n",
      " |-- runtime: integer (nullable = true)\n",
      " |-- adult: boolean (nullable = true)\n",
      " |-- budget: integer (nullable = true)\n",
      " |-- original_language: string (nullable = true)\n",
      " |-- overview: string (nullable = true)\n",
      " |-- popularity: double (nullable = true)\n",
      " |-- genres: string (nullable = true)\n",
      " |-- production_companies: string (nullable = true)\n",
      " |-- spoken_languages: string (nullable = true)\n",
      " |-- keywords: string (nullable = true)\n",
      " |-- production_countries: string (nullable = true)\n",
      "\n"
     ]
    }
   ],
   "source": [
    "df.printSchema()"
   ]
  },
  {
   "cell_type": "code",
   "execution_count": 5,
   "id": "d01f6e3c-fe1e-439b-b2dd-e7575e798c3c",
   "metadata": {},
   "outputs": [
    {
     "name": "stdout",
     "output_type": "stream",
     "text": [
      "(8441, 18)\n"
     ]
    }
   ],
   "source": [
    "print((df.count(), len(df.columns)))"
   ]
  },
  {
   "cell_type": "code",
   "execution_count": 7,
   "id": "03884a30-78c9-4557-8d61-37d0cb4c6960",
   "metadata": {
    "scrolled": true
   },
   "outputs": [
    {
     "name": "stdout",
     "output_type": "stream",
     "text": [
      "+--------+--------+-------------------+-----+-----------------+--------------------+\n",
      "|movie_id|  status|       release_date|adult|original_language|            overview|\n",
      "+--------+--------+-------------------+-----+-----------------+--------------------+\n",
      "|       5|Released|1995-12-09 00:00:00|false|               en|It's Ted the Bell...|\n",
      "|       6|Released|1993-10-15 00:00:00|false|               en|While racing to a...|\n",
      "|      12|Released|2003-05-30 00:00:00|false|               en|Nemo, an adventur...|\n",
      "|      13|Released|1994-06-23 00:00:00|false|               en|A man with a low ...|\n",
      "|      15|Released|1941-04-17 00:00:00|false|               en|Newspaper magnate...|\n",
      "+--------+--------+-------------------+-----+-----------------+--------------------+\n",
      "only showing top 5 rows\n",
      "\n"
     ]
    }
   ],
   "source": [
    "# Create Dim Movie\n",
    "dim_movie_df = df.select(\"id\", \"status\", \"release_date\", \"adult\", \"original_language\", \"overview\") \\\n",
    "                 .withColumnRenamed(\"id\", \"movie_id\")\n",
    "\n",
    "dim_movie_df.show(5)"
   ]
  },
  {
   "cell_type": "code",
   "execution_count": 8,
   "id": "e3042a35-96de-4545-ba11-3872d9e00c2e",
   "metadata": {},
   "outputs": [
    {
     "name": "stdout",
     "output_type": "stream",
     "text": [
      "root\n",
      " |-- movie_id: integer (nullable = true)\n",
      " |-- status: string (nullable = true)\n",
      " |-- release_date: timestamp (nullable = true)\n",
      " |-- adult: boolean (nullable = true)\n",
      " |-- original_language: string (nullable = true)\n",
      " |-- overview: string (nullable = true)\n",
      "\n"
     ]
    }
   ],
   "source": [
    "dim_movie_df.printSchema()"
   ]
  },
  {
   "cell_type": "code",
   "execution_count": 9,
   "id": "15f32fa8-2e18-4bca-94aa-ae24080b5112",
   "metadata": {},
   "outputs": [
    {
     "name": "stdout",
     "output_type": "stream",
     "text": [
      "+--------+------------+----------+----------+--------+---------+-------+\n",
      "|movie_id|vote_average|popularity|vote_count|  budget|  revenue|runtime|\n",
      "+--------+------------+----------+----------+--------+---------+-------+\n",
      "|       5|       5.784|    15.295|      2436| 4000000|  4257354|     98|\n",
      "|       6|       6.533|    13.564|       302|21000000| 12136938|    109|\n",
      "|      12|       7.824|    55.456|     18061|94000000|940335536|    100|\n",
      "|      13|       8.477|    92.693|     25409|55000000|677387716|    142|\n",
      "|      15|       8.015|    28.218|      5034|  839727| 23218000|    119|\n",
      "+--------+------------+----------+----------+--------+---------+-------+\n",
      "only showing top 5 rows\n",
      "\n"
     ]
    }
   ],
   "source": [
    "fact_movie_df = df.select(\"id\", \"vote_average\", \"popularity\", \"vote_count\", \"budget\", \"revenue\", \"runtime\") \\\n",
    "                  .withColumnRenamed(\"id\", \"movie_id\")\n",
    "\n",
    "fact_movie_df.show(5)"
   ]
  },
  {
   "cell_type": "code",
   "execution_count": 10,
   "id": "4ff50b73-957e-4a4f-875e-22c91c4924f1",
   "metadata": {},
   "outputs": [
    {
     "name": "stdout",
     "output_type": "stream",
     "text": [
      "root\n",
      " |-- movie_id: integer (nullable = true)\n",
      " |-- vote_average: double (nullable = true)\n",
      " |-- popularity: double (nullable = true)\n",
      " |-- vote_count: integer (nullable = true)\n",
      " |-- budget: integer (nullable = true)\n",
      " |-- revenue: integer (nullable = true)\n",
      " |-- runtime: integer (nullable = true)\n",
      "\n"
     ]
    }
   ],
   "source": [
    "fact_movie_df.printSchema()"
   ]
  },
  {
   "cell_type": "code",
   "execution_count": 32,
   "id": "71a1cf78-2719-4a9e-a84c-ac6d76144353",
   "metadata": {},
   "outputs": [
    {
     "name": "stdout",
     "output_type": "stream",
     "text": [
      "+--------+----------+\n",
      "|genre_id|genre_name|\n",
      "+--------+----------+\n",
      "|       0|     Crime|\n",
      "|       1|   Romance|\n",
      "|       2|  TV Movie|\n",
      "|       3|  Thriller|\n",
      "|       4| Adventure|\n",
      "+--------+----------+\n",
      "only showing top 5 rows\n",
      "\n"
     ]
    }
   ],
   "source": [
    "from pyspark.sql.functions import explode, split, trim, col, monotonically_increasing_id\n",
    "\n",
    "# dim_genres = df.select(\"genres\").withColumnRenamed(\"genres\", \"genre_name\")\n",
    "# dim_genres = dim_genres.withColumn(\"genre_name\", split(\"genre_name\", \", \"))\n",
    "# dim_genres = dim_genres.withColumn(\"genre_name\", explode(\"genre_name\"))\n",
    "# dim_genres = dim_genres.select(trim(\"genre_name\")).distinct()\n",
    "\n",
    "# Create distinct genre names\n",
    "dim_genres_df = (\n",
    "    df.select(explode(split(col(\"genres\"), \",\\s*\")).alias(\"genre_name\"))\n",
    "      .select(trim(col(\"genre_name\")).alias(\"genre_name\"))\n",
    "      .distinct()\n",
    ")\n",
    "\n",
    "# Add genre_id using monotonically_increasing_id\n",
    "dim_genres_df = dim_genres_df.withColumn(\"genre_id\", monotonically_increasing_id())\n",
    "\n",
    "# Optional: reorder columns\n",
    "dim_genres_df = dim_genres_df.select(\"genre_id\", \"genre_name\")\n",
    "\n",
    "dim_genres_df.show(5)"
   ]
  },
  {
   "cell_type": "code",
   "execution_count": 34,
   "id": "1eebe4f5-9f13-404a-810a-8abaf5a5f83a",
   "metadata": {},
   "outputs": [],
   "source": [
    "from pyspark.sql import DataFrame\n",
    "from pyspark.sql.functions import explode, split, trim, col, monotonically_increasing_id\n",
    "\n",
    "def create_dim_table_from_column(df: DataFrame, column_name: str, delimiter: str = \",\", id_column: str = \"id\", value_column: str = \"value\") -> DataFrame:\n",
    "    \"\"\"\n",
    "    Create a dimension table with distinct values from a delimited string column,\n",
    "    and assign a unique ID using monotonically_increasing_id.\n",
    "\n",
    "    Parameters:\n",
    "    - df: Input Spark DataFrame\n",
    "    - column_name: Name of the column to extract distinct values from\n",
    "    - delimiter: Delimiter to split the values (default is comma)\n",
    "    - id_column: Name for the generated ID column (default is 'id')\n",
    "    - value_column: Name for the value column (default is 'value')\n",
    "\n",
    "    Returns:\n",
    "    - A DataFrame with columns [id_column, value_column]\n",
    "    \"\"\"\n",
    "    return (\n",
    "        df.select(explode(split(col(column_name), delimiter + r\"\\s*\")).alias(value_column))\n",
    "          .select(trim(col(value_column)).alias(value_column))\n",
    "          .distinct()\n",
    "          .withColumn(id_column, monotonically_increasing_id())\n",
    "          .select(id_column, value_column)\n",
    "    )"
   ]
  },
  {
   "cell_type": "code",
   "execution_count": 35,
   "id": "9568321c-6ae0-41c7-85cd-3e2321c70ab5",
   "metadata": {},
   "outputs": [
    {
     "name": "stdout",
     "output_type": "stream",
     "text": [
      "+--------+----------+\n",
      "|genre_id|genre_name|\n",
      "+--------+----------+\n",
      "|       0|     Crime|\n",
      "|       1|   Romance|\n",
      "|       2|  TV Movie|\n",
      "|       3|  Thriller|\n",
      "|       4| Adventure|\n",
      "+--------+----------+\n",
      "only showing top 5 rows\n",
      "\n"
     ]
    }
   ],
   "source": [
    "dim_genres_df = create_dim_table_from_column(df, \"genres\", id_column=\"genre_id\", value_column=\"genre_name\")\n",
    "dim_genres_df.show(5)"
   ]
  },
  {
   "cell_type": "code",
   "execution_count": 36,
   "id": "214398a4-01a0-4bc1-af44-c21f843986dc",
   "metadata": {},
   "outputs": [
    {
     "name": "stdout",
     "output_type": "stream",
     "text": [
      "+----------+------------+\n",
      "|keyword_id|keyword_name|\n",
      "+----------+------------+\n",
      "|         0|       1970s|\n",
      "|         1| pirate ship|\n",
      "|         2|       anime|\n",
      "|         3|inflammatory|\n",
      "|         4|  hoverboard|\n",
      "+----------+------------+\n",
      "only showing top 5 rows\n",
      "\n"
     ]
    }
   ],
   "source": [
    "dim_keyword_df = create_dim_table_from_column(\n",
    "    df, \"keywords\", id_column=\"keyword_id\", value_column=\"keyword_name\"\n",
    ")\n",
    "\n",
    "dim_keyword_df.show(5)"
   ]
  },
  {
   "cell_type": "code",
   "execution_count": 37,
   "id": "ba1fcac0-63b1-4bdd-a609-6482ea6fadcb",
   "metadata": {},
   "outputs": [
    {
     "data": {
      "text/plain": [
       "15225"
      ]
     },
     "execution_count": 37,
     "metadata": {},
     "output_type": "execute_result"
    }
   ],
   "source": [
    "dim_keyword_df.count()"
   ]
  },
  {
   "cell_type": "code",
   "execution_count": 40,
   "id": "7d45445b-89ba-468b-84b6-0cc7a3535ae5",
   "metadata": {},
   "outputs": [
    {
     "name": "stdout",
     "output_type": "stream",
     "text": [
      "+----------+--------------------+\n",
      "|company_id|        company_name|\n",
      "+----------+--------------------+\n",
      "|         0|                 PEA|\n",
      "|         1|            ZDF/Arte|\n",
      "|         2|    Relativity Media|\n",
      "|         3|    Koppelman-Levien|\n",
      "|         4|Win's Entertainme...|\n",
      "+----------+--------------------+\n",
      "only showing top 5 rows\n",
      "\n"
     ]
    }
   ],
   "source": [
    "dim_production_company_df = create_dim_table_from_column(\n",
    "    df, \"production_companies\", id_column=\"company_id\", value_column=\"company_name\"\n",
    ")\n",
    "\n",
    "dim_production_company_df.show(5)"
   ]
  },
  {
   "cell_type": "code",
   "execution_count": 41,
   "id": "a0c3795b-7c04-48ed-85c1-3c20ac43e060",
   "metadata": {},
   "outputs": [
    {
     "data": {
      "text/plain": [
       "8950"
      ]
     },
     "execution_count": 41,
     "metadata": {},
     "output_type": "execute_result"
    }
   ],
   "source": [
    "dim_production_company_df.count()"
   ]
  },
  {
   "cell_type": "code",
   "execution_count": 42,
   "id": "35c3f3ad-1d74-4a93-bcdc-fd6b3c90848b",
   "metadata": {},
   "outputs": [
    {
     "name": "stdout",
     "output_type": "stream",
     "text": [
      "+----------+------------+\n",
      "|country_id|country_name|\n",
      "+----------+------------+\n",
      "|         0|     finland|\n",
      "|         1|   australia|\n",
      "|         2|      greece|\n",
      "|         3|    portugal|\n",
      "|         4|      israel|\n",
      "+----------+------------+\n",
      "only showing top 5 rows\n",
      "\n"
     ]
    }
   ],
   "source": [
    "dim_production_country_df = create_dim_table_from_column(\n",
    "    df, \"production_countries\", id_column=\"country_id\", value_column=\"country_name\"\n",
    ")\n",
    "\n",
    "dim_production_country_df.show(5)"
   ]
  },
  {
   "cell_type": "code",
   "execution_count": 43,
   "id": "ce381d8e-4ef8-4111-9fa3-bc2ecc533f1e",
   "metadata": {},
   "outputs": [
    {
     "data": {
      "text/plain": [
       "108"
      ]
     },
     "execution_count": 43,
     "metadata": {},
     "output_type": "execute_result"
    }
   ],
   "source": [
    "dim_production_country_df.count()"
   ]
  },
  {
   "cell_type": "code",
   "execution_count": 44,
   "id": "1ef53f19-795c-4d3e-be5c-ac5cd18967cf",
   "metadata": {},
   "outputs": [
    {
     "name": "stdout",
     "output_type": "stream",
     "text": [
      "+-----------+-------------+\n",
      "|language_id|language_name|\n",
      "+-----------+-------------+\n",
      "|          0|      Lingala|\n",
      "|          1|         Urdu|\n",
      "|          2|        Khmer|\n",
      "|          3|      Maltese|\n",
      "|          4|          Ido|\n",
      "+-----------+-------------+\n",
      "only showing top 5 rows\n",
      "\n"
     ]
    }
   ],
   "source": [
    "dim_spoken_language_df = create_dim_table_from_column(\n",
    "    df, \"spoken_languages\", id_column=\"language_id\", value_column=\"language_name\"\n",
    ")\n",
    "\n",
    "dim_spoken_language_df.show(5)"
   ]
  },
  {
   "cell_type": "code",
   "execution_count": 45,
   "id": "7587a101-9836-4d19-8b19-2803bcbdb295",
   "metadata": {},
   "outputs": [
    {
     "data": {
      "text/plain": [
       "114"
      ]
     },
     "execution_count": 45,
     "metadata": {},
     "output_type": "execute_result"
    }
   ],
   "source": [
    "dim_spoken_language_df.count()"
   ]
  },
  {
   "cell_type": "markdown",
   "id": "09ae0ea3-4fcd-43f1-9ee5-fec25b79025a",
   "metadata": {},
   "source": [
    "# Create Bridge Table"
   ]
  },
  {
   "cell_type": "code",
   "execution_count": 64,
   "id": "5be4ae3e-6f55-494c-af0b-f667c9bcb3fe",
   "metadata": {},
   "outputs": [
    {
     "name": "stdout",
     "output_type": "stream",
     "text": [
      "+---------+--------+--------+\n",
      "|bridge_id|movie_id|genre_id|\n",
      "+---------+--------+--------+\n",
      "|        0| 1139554|       0|\n",
      "|        1| 1061412|       0|\n",
      "|        2| 1014066|       0|\n",
      "|        3|  958006|       0|\n",
      "|        4|  919573|       0|\n",
      "+---------+--------+--------+\n",
      "only showing top 5 rows\n",
      "\n"
     ]
    }
   ],
   "source": [
    "from pyspark.sql.functions import explode, split, trim, col, monotonically_increasing_id\n",
    "\n",
    "# dim_genres = df.select(\"genres\").withColumnRenamed(\"genres\", \"genre_name\")\n",
    "# dim_genres = dim_genres.withColumn(\"genre_name\", split(\"genre_name\", \", \"))\n",
    "# dim_genres = dim_genres.withColumn(\"genre_name\", explode(\"genre_name\"))\n",
    "# dim_genres = dim_genres.select(trim(\"genre_name\")).distinct()\n",
    "\n",
    "# Load \n",
    "\n",
    "# Create Function Bridge Table\n",
    "bridge_movie_genre_df = df.select(\"id\", \"genres\").withColumnRenamed(\"id\", \"movie_id\")\n",
    "bridge_movie_genre_df = bridge_movie_genre_df.withColumn(\"genres\", split(\"genres\", \", \"))\n",
    "bridge_movie_genre_df = bridge_movie_genre_df.withColumn(\"genres\", explode(\"genres\"))\n",
    "bridge_movie_genre_df = bridge_movie_genre_df.select(\"movie_id\", trim(\"genres\").alias(\"genres\"))\n",
    "bridge_movie_genre_df = bridge_movie_genre_df.join(\n",
    "                            dim_genres_df, \n",
    "                            bridge_movie_genre_df.genres == dim_genres_df.genre_name, \n",
    "                            \"inner\"\n",
    "                        )\n",
    "bridge_movie_genre_df = bridge_movie_genre_df.select(\"movie_id\", \"genre_id\")\n",
    "bridge_movie_genre_df = bridge_movie_genre_df.withColumn(\"bridge_id\", monotonically_increasing_id())\n",
    "\n",
    "# Reorder\n",
    "bridge_movie_genre_df = bridge_movie_genre_df.select(\"bridge_id\", \"movie_id\", \"genre_id\")\n",
    "\n",
    "bridge_movie_genre_df.show(5)"
   ]
  },
  {
   "cell_type": "code",
   "execution_count": 65,
   "id": "59531c9a-4bd2-421a-9a7a-e04b7e7aa6ca",
   "metadata": {},
   "outputs": [
    {
     "data": {
      "text/plain": [
       "21580"
      ]
     },
     "execution_count": 65,
     "metadata": {},
     "output_type": "execute_result"
    }
   ],
   "source": [
    "bridge_movie_genre_df.count()"
   ]
  },
  {
   "cell_type": "code",
   "execution_count": 60,
   "id": "0a0a911e-9324-4f76-936c-2034f16818f2",
   "metadata": {},
   "outputs": [
    {
     "name": "stdout",
     "output_type": "stream",
     "text": [
      "+--------+------+--------+----------+\n",
      "|movie_id|genres|genre_id|genre_name|\n",
      "+--------+------+--------+----------+\n",
      "| 1139554| Crime|       0|     Crime|\n",
      "| 1061412| Crime|       0|     Crime|\n",
      "| 1014066| Crime|       0|     Crime|\n",
      "|  958006| Crime|       0|     Crime|\n",
      "|  919573| Crime|       0|     Crime|\n",
      "+--------+------+--------+----------+\n",
      "only showing top 5 rows\n",
      "\n"
     ]
    }
   ],
   "source": [
    "bridge_movie_genre_df = bridge_movie_genre_df.join(\n",
    "                            dim_genres_df, \n",
    "                            bridge_movie_genre_df.genres == dim_genres_df.genre_name, \n",
    "                            \"inner\"\n",
    "                        )\n",
    "\n",
    "bridge_movie_genre_df.show(5)"
   ]
  },
  {
   "cell_type": "code",
   "execution_count": 61,
   "id": "f58ae2f8-5712-428c-b195-74d92ee0e38a",
   "metadata": {},
   "outputs": [
    {
     "data": {
      "text/plain": [
       "21580"
      ]
     },
     "execution_count": 61,
     "metadata": {},
     "output_type": "execute_result"
    }
   ],
   "source": [
    "bridge_movie_genre_df.count()"
   ]
  },
  {
   "cell_type": "code",
   "execution_count": 67,
   "id": "554656dc-6614-4a02-87d4-8f31d6b5ec30",
   "metadata": {},
   "outputs": [],
   "source": [
    "from pyspark.sql import DataFrame\n",
    "from pyspark.sql.functions import split, explode, trim, col, monotonically_increasing_id\n",
    "\n",
    "def create_bridge_table(\n",
    "    fact_df: DataFrame,\n",
    "    dim_df: DataFrame,\n",
    "    fact_id_col: str,\n",
    "    fact_list_col: str,\n",
    "    dim_value_col: str,\n",
    "    dim_id_col: str,\n",
    "    delimiter: str = \", \",\n",
    "    bridge_id_col: str = \"bridge_id\"\n",
    ") -> DataFrame:\n",
    "    \"\"\"\n",
    "    Create a bridge (many-to-many) table between a fact table and a dimension table.\n",
    "\n",
    "    Parameters:\n",
    "    - fact_df: Source DataFrame containing list column (e.g. genres)\n",
    "    - dim_df: Dimension DataFrame with distinct values and IDs\n",
    "    - fact_id_col: Name of ID column in the fact table (e.g. movie_id)\n",
    "    - fact_list_col: Name of delimited string column in the fact table (e.g. genres)\n",
    "    - dim_value_col: Name of value column in the dimension table (e.g. genre_name)\n",
    "    - dim_id_col: Name of ID column in the dimension table (e.g. genre_id)\n",
    "    - delimiter: Delimiter to split the values (default: ', ')\n",
    "    - bridge_id_col: Name of ID column to generate in the bridge table\n",
    "\n",
    "    Returns:\n",
    "    - DataFrame with bridge table [bridge_id, fact_id_col, dim_id_col]\n",
    "    \"\"\"\n",
    "    exploded_df = (\n",
    "        fact_df.select(col(fact_id_col), col(fact_list_col))\n",
    "               .withColumn(fact_list_col, split(col(fact_list_col), delimiter))\n",
    "               .withColumn(fact_list_col, explode(col(fact_list_col)))\n",
    "               .select(col(fact_id_col), trim(col(fact_list_col)).alias(fact_list_col))\n",
    "    )\n",
    "\n",
    "    joined_df = (\n",
    "        exploded_df.join(\n",
    "            dim_df,\n",
    "            exploded_df[fact_list_col] == dim_df[dim_value_col],\n",
    "            \"inner\"\n",
    "        )\n",
    "    )\n",
    "\n",
    "    bridge_df = (\n",
    "        joined_df.select(col(fact_id_col), col(dim_id_col))\n",
    "                 .withColumn(bridge_id_col, monotonically_increasing_id())\n",
    "                 .select(bridge_id_col, fact_id_col, dim_id_col)\n",
    "    )\n",
    "\n",
    "    return bridge_df"
   ]
  },
  {
   "cell_type": "code",
   "execution_count": 77,
   "id": "72b9ec18-b54a-4fad-a50a-6d24ae8b2c38",
   "metadata": {},
   "outputs": [
    {
     "name": "stdout",
     "output_type": "stream",
     "text": [
      "+---------+--------+--------+\n",
      "|bridge_id|movie_id|genre_id|\n",
      "+---------+--------+--------+\n",
      "|        0| 1139554|       0|\n",
      "|        1| 1061412|       0|\n",
      "|        2| 1014066|       0|\n",
      "|        3|  958006|       0|\n",
      "|        4|  919573|       0|\n",
      "+---------+--------+--------+\n",
      "only showing top 5 rows\n",
      "\n"
     ]
    }
   ],
   "source": [
    "bridge_movie_genre_df = create_bridge_table(\n",
    "    fact_df=df,\n",
    "    dim_df=dim_genres_df,\n",
    "    fact_id_col=\"id\",\n",
    "    fact_list_col=\"genres\",\n",
    "    dim_value_col=\"genre_name\",\n",
    "    dim_id_col=\"genre_id\",\n",
    "    bridge_id_col=\"bridge_id\"\n",
    ")\n",
    "\n",
    "bridge_movie_genre_df = bridge_movie_genre_df.withColumnRenamed(\"id\", \"movie_id\")\n",
    "\n",
    "bridge_movie_genre_df.show(5)"
   ]
  },
  {
   "cell_type": "code",
   "execution_count": 69,
   "id": "794a021a-a296-4410-90a1-0925151f2753",
   "metadata": {},
   "outputs": [
    {
     "data": {
      "text/plain": [
       "21580"
      ]
     },
     "execution_count": 69,
     "metadata": {},
     "output_type": "execute_result"
    }
   ],
   "source": [
    "bridge_movie_genre_df.count()"
   ]
  },
  {
   "cell_type": "code",
   "execution_count": 78,
   "id": "e10ddf56-9741-41ff-b7dd-2538f3ad5b8e",
   "metadata": {},
   "outputs": [
    {
     "name": "stdout",
     "output_type": "stream",
     "text": [
      "+---------+--------+----------+\n",
      "|bridge_id|movie_id|keyword_id|\n",
      "+---------+--------+----------+\n",
      "|        0|  878361|         0|\n",
      "|        1|  760104|         0|\n",
      "|        2|  756999|         0|\n",
      "|        3|  718032|         0|\n",
      "|        4|  555285|         0|\n",
      "+---------+--------+----------+\n",
      "only showing top 5 rows\n",
      "\n"
     ]
    }
   ],
   "source": [
    "bridge_movie_keyword_df = create_bridge_table(\n",
    "    fact_df=df,\n",
    "    dim_df=dim_keyword_df,\n",
    "    fact_id_col=\"id\",\n",
    "    fact_list_col=\"keywords\",\n",
    "    dim_value_col=\"keyword_name\",\n",
    "    dim_id_col=\"keyword_id\",\n",
    "    bridge_id_col=\"bridge_id\"\n",
    ")\n",
    "\n",
    "bridge_movie_keyword_df = bridge_movie_keyword_df.withColumnRenamed(\"id\", \"movie_id\")\n",
    "\n",
    "bridge_movie_keyword_df.show(5)"
   ]
  },
  {
   "cell_type": "code",
   "execution_count": 73,
   "id": "362f44d7-2ddc-43b3-a293-dcc0745f94be",
   "metadata": {},
   "outputs": [
    {
     "data": {
      "text/plain": [
       "81539"
      ]
     },
     "execution_count": 73,
     "metadata": {},
     "output_type": "execute_result"
    }
   ],
   "source": [
    "bridge_movie_keyword_df.count()"
   ]
  },
  {
   "cell_type": "code",
   "execution_count": 79,
   "id": "f44b6d8e-5c12-42ac-b65e-44dee0950678",
   "metadata": {},
   "outputs": [
    {
     "name": "stdout",
     "output_type": "stream",
     "text": [
      "+---------+--------+----------+\n",
      "|bridge_id|movie_id|company_id|\n",
      "+---------+--------+----------+\n",
      "|        0|    1643|         0|\n",
      "|        1|     429|         0|\n",
      "|        2|  888321|         1|\n",
      "|        3|  336804|         1|\n",
      "|        4|  126250|         1|\n",
      "+---------+--------+----------+\n",
      "only showing top 5 rows\n",
      "\n"
     ]
    }
   ],
   "source": [
    "bridge_movie_company_df = create_bridge_table(\n",
    "    fact_df=df,\n",
    "    dim_df=dim_production_company_df,\n",
    "    fact_id_col=\"id\",\n",
    "    fact_list_col=\"production_companies\",\n",
    "    dim_value_col=\"company_name\",\n",
    "    dim_id_col=\"company_id\",\n",
    "    bridge_id_col=\"bridge_id\"\n",
    ")\n",
    "\n",
    "bridge_movie_company_df = bridge_movie_company_df.withColumnRenamed(\"id\", \"movie_id\")\n",
    "\n",
    "bridge_movie_company_df.show(5)"
   ]
  },
  {
   "cell_type": "code",
   "execution_count": 76,
   "id": "605004d0-a1b2-4b21-a404-9bd0175f453d",
   "metadata": {},
   "outputs": [
    {
     "data": {
      "text/plain": [
       "27226"
      ]
     },
     "execution_count": 76,
     "metadata": {},
     "output_type": "execute_result"
    }
   ],
   "source": [
    "bridge_movie_company_df.count()"
   ]
  },
  {
   "cell_type": "code",
   "execution_count": 80,
   "id": "31493128-47fb-47b6-9f72-e9e2415b7bd4",
   "metadata": {},
   "outputs": [
    {
     "name": "stdout",
     "output_type": "stream",
     "text": [
      "+---------+--------+----------+\n",
      "|bridge_id|movie_id|country_id|\n",
      "+---------+--------+----------+\n",
      "|        0|  840326|         0|\n",
      "|        1|  798286|         0|\n",
      "|        2|  302349|         0|\n",
      "|        3|  230179|         0|\n",
      "|        4|  224746|         0|\n",
      "+---------+--------+----------+\n",
      "only showing top 5 rows\n",
      "\n"
     ]
    }
   ],
   "source": [
    "bridge_movie_country_df = create_bridge_table(\n",
    "    fact_df=df,\n",
    "    dim_df=dim_production_country_df,\n",
    "    fact_id_col=\"id\",\n",
    "    fact_list_col=\"production_countries\",\n",
    "    dim_value_col=\"country_name\",\n",
    "    dim_id_col=\"country_id\",\n",
    "    bridge_id_col=\"bridge_id\"\n",
    ")\n",
    "\n",
    "bridge_movie_country_df = bridge_movie_country_df.withColumnRenamed(\"id\", \"movie_id\")\n",
    "bridge_movie_country_df.show(5)"
   ]
  },
  {
   "cell_type": "code",
   "execution_count": 81,
   "id": "3163826c-b4c5-4dd9-a11b-1d22f022ce6c",
   "metadata": {},
   "outputs": [
    {
     "data": {
      "text/plain": [
       "12080"
      ]
     },
     "execution_count": 81,
     "metadata": {},
     "output_type": "execute_result"
    }
   ],
   "source": [
    "bridge_movie_country_df.count()"
   ]
  },
  {
   "cell_type": "code",
   "execution_count": 82,
   "id": "cb79d0e0-3aaa-4077-a6c1-81a0fb21ce8c",
   "metadata": {},
   "outputs": [
    {
     "name": "stdout",
     "output_type": "stream",
     "text": [
      "+---------+--------+-----------+\n",
      "|bridge_id|movie_id|language_id|\n",
      "+---------+--------+-----------+\n",
      "|        0|    1247|          0|\n",
      "|        1|  544402|          1|\n",
      "|        2|  543005|          1|\n",
      "|        3|  495429|          1|\n",
      "|        4|  473309|          1|\n",
      "+---------+--------+-----------+\n",
      "only showing top 5 rows\n",
      "\n"
     ]
    }
   ],
   "source": [
    "bridge_movie_language_df = create_bridge_table(\n",
    "    fact_df=df,\n",
    "    dim_df=dim_spoken_language_df,\n",
    "    fact_id_col=\"id\",\n",
    "    fact_list_col=\"spoken_languages\",\n",
    "    dim_value_col=\"language_name\",\n",
    "    dim_id_col=\"language_id\",\n",
    "    bridge_id_col=\"bridge_id\"\n",
    ")\n",
    "\n",
    "bridge_movie_language_df = bridge_movie_language_df.withColumnRenamed(\"id\", \"movie_id\")\n",
    "bridge_movie_language_df.show(5)"
   ]
  },
  {
   "cell_type": "code",
   "execution_count": 83,
   "id": "c72c2ccf-5cf4-4754-a13a-94c1e42897d4",
   "metadata": {},
   "outputs": [
    {
     "data": {
      "text/plain": [
       "12477"
      ]
     },
     "execution_count": 83,
     "metadata": {},
     "output_type": "execute_result"
    }
   ],
   "source": [
    "bridge_movie_language_df.count()"
   ]
  },
  {
   "cell_type": "code",
   "execution_count": 85,
   "id": "6caf0e7f-8a52-4289-a024-783338eed31f",
   "metadata": {},
   "outputs": [],
   "source": [
    "spark.stop()"
   ]
  },
  {
   "cell_type": "code",
   "execution_count": null,
   "id": "5f7dc65c-a28e-4283-a353-76a4d8078d76",
   "metadata": {},
   "outputs": [],
   "source": []
  }
 ],
 "metadata": {
  "kernelspec": {
   "display_name": "Python 3 (ipykernel)",
   "language": "python",
   "name": "python3"
  },
  "language_info": {
   "codemirror_mode": {
    "name": "ipython",
    "version": 3
   },
   "file_extension": ".py",
   "mimetype": "text/x-python",
   "name": "python",
   "nbconvert_exporter": "python",
   "pygments_lexer": "ipython3",
   "version": "3.11.6"
  }
 },
 "nbformat": 4,
 "nbformat_minor": 5
}
