{
 "cells": [
  {
   "cell_type": "code",
   "execution_count": 11,
   "id": "39804ed4-8655-4eb2-bc93-61de47d7a6a9",
   "metadata": {},
   "outputs": [],
   "source": [
    "from pyspark.sql import SparkSession\n",
    "\n",
    "spark = SparkSession.builder \\\n",
    "    .appName(\"Transform_Data_Spark\") \\\n",
    "    .master(\"spark://spark-master:7077\") \\\n",
    "    .getOrCreate()"
   ]
  },
  {
   "cell_type": "code",
   "execution_count": 12,
   "id": "2417d877-9e29-420f-9026-35e97a643180",
   "metadata": {},
   "outputs": [],
   "source": [
    "from pyspark.sql import DataFrame\n",
    "from pyspark.sql.functions import split, explode, trim, col, monotonically_increasing_id\n",
    "\n",
    "def create_dim_table_from_column(df: DataFrame, column_name: str, delimiter: str = \",\", id_column: str = \"id\", value_column: str = \"value\") -> DataFrame:\n",
    "    \"\"\"\n",
    "    Create a dimension table with distinct values from a delimited string column,\n",
    "    and assign a unique ID using monotonically_increasing_id.\n",
    "\n",
    "    Parameters:\n",
    "    - df: Input Spark DataFrame\n",
    "    - column_name: Name of the column to extract distinct values from\n",
    "    - delimiter: Delimiter to split the values (default is comma)\n",
    "    - id_column: Name for the generated ID column (default is 'id')\n",
    "    - value_column: Name for the value column (default is 'value')\n",
    "\n",
    "    Returns:\n",
    "    - A DataFrame with columns [id_column, value_column]\n",
    "    \"\"\"\n",
    "    return (\n",
    "        df.select(explode(split(col(column_name), delimiter + r\"\\s*\")).alias(value_column))\n",
    "          .select(trim(col(value_column)).alias(value_column))\n",
    "          .distinct()\n",
    "          .withColumn(id_column, monotonically_increasing_id())\n",
    "          .select(id_column, value_column)\n",
    "    )\n",
    "\n",
    "def create_bridge_table(\n",
    "    fact_df: DataFrame,\n",
    "    dim_df: DataFrame,\n",
    "    fact_id_col: str,\n",
    "    fact_list_col: str,\n",
    "    dim_value_col: str,\n",
    "    dim_id_col: str,\n",
    "    delimiter: str = \", \",\n",
    "    bridge_id_col: str = \"bridge_id\"\n",
    ") -> DataFrame:\n",
    "    \"\"\"\n",
    "    Create a bridge (many-to-many) table between a fact table and a dimension table.\n",
    "\n",
    "    Parameters:\n",
    "    - fact_df: Source DataFrame containing list column (e.g. genres)\n",
    "    - dim_df: Dimension DataFrame with distinct values and IDs\n",
    "    - fact_id_col: Name of ID column in the fact table (e.g. movie_id)\n",
    "    - fact_list_col: Name of delimited string column in the fact table (e.g. genres)\n",
    "    - dim_value_col: Name of value column in the dimension table (e.g. genre_name)\n",
    "    - dim_id_col: Name of ID column in the dimension table (e.g. genre_id)\n",
    "    - delimiter: Delimiter to split the values (default: ', ')\n",
    "    - bridge_id_col: Name of ID column to generate in the bridge table\n",
    "\n",
    "    Returns:\n",
    "    - DataFrame with bridge table [bridge_id, fact_id_col, dim_id_col]\n",
    "    \"\"\"\n",
    "    exploded_df = (\n",
    "        fact_df.select(col(fact_id_col), col(fact_list_col))\n",
    "               .withColumn(fact_list_col, split(col(fact_list_col), delimiter))\n",
    "               .withColumn(fact_list_col, explode(col(fact_list_col)))\n",
    "               .select(col(fact_id_col), trim(col(fact_list_col)).alias(fact_list_col))\n",
    "    )\n",
    "\n",
    "    joined_df = (\n",
    "        exploded_df.join(\n",
    "            dim_df,\n",
    "            exploded_df[fact_list_col] == dim_df[dim_value_col],\n",
    "            \"inner\"\n",
    "        )\n",
    "    )\n",
    "\n",
    "    bridge_df = (\n",
    "        joined_df.select(col(fact_id_col), col(dim_id_col))\n",
    "                 .withColumn(bridge_id_col, monotonically_increasing_id())\n",
    "                 .select(bridge_id_col, fact_id_col, dim_id_col)\n",
    "    )\n",
    "\n",
    "    return bridge_df"
   ]
  },
  {
   "cell_type": "code",
   "execution_count": 6,
   "id": "7cd71997-7a88-4832-89f4-d9ae0bb75f65",
   "metadata": {},
   "outputs": [],
   "source": [
    "# CLEAN_DATA_PATH = \"/opt/bitnami/spark/resources/dataset/cleaned_data\"\n",
    "\n",
    "# df = spark.read \\\n",
    "#     .option(\"header\", True) \\\n",
    "#     .option(\"inferSchema\", True) \\\n",
    "#     .csv(CLEAN_DATA_PATH)\n",
    "\n",
    "# # Create Dim Movie\n",
    "# dim_movie_df = df.select(\"id\", \"status\", \"release_date\", \"adult\", \"original_language\", \"overview\") \\\n",
    "#                  .withColumnRenamed(\"id\", \"movie_id\")\n",
    "\n",
    "# # Create Fact Movie\n",
    "# fact_movie_df = df.select(\"id\", \"vote_average\", \"popularity\", \"vote_count\", \"budget\", \"revenue\", \"runtime\") \\\n",
    "#                   .withColumnRenamed(\"id\", \"movie_id\")\n",
    "\n",
    "# # Create Dim Genres\n",
    "# dim_genres_df = create_dim_table_from_column(\n",
    "#     df, \"genres\", id_column=\"genre_id\", value_column=\"genre_name\"\n",
    "# )\n",
    "\n",
    "# # Create Dim Keyword\n",
    "# dim_keyword_df = create_dim_table_from_column(\n",
    "#     df, \"keywords\", id_column=\"keyword_id\", value_column=\"keyword_name\"\n",
    "# )\n",
    "\n",
    "# # Create Dim Production Company\n",
    "# dim_production_company_df = create_dim_table_from_column(\n",
    "#     df, \"production_companies\", id_column=\"company_id\", value_column=\"company_name\"\n",
    "# )\n",
    "\n",
    "# # Create Dim Production Country\n",
    "# dim_production_country_df = create_dim_table_from_column(\n",
    "#     df, \"production_countries\", id_column=\"country_id\", value_column=\"country_name\"\n",
    "# )\n",
    "\n",
    "# # Create Dim Spoken Language\n",
    "# dim_spoken_language_df = create_dim_table_from_column(\n",
    "#     df, \"spoken_languages\", id_column=\"language_id\", value_column=\"language_name\"\n",
    "# )\n",
    "\n",
    "# # Create Bridge Table\n",
    "# bridge_movie_genre_df = create_bridge_table(\n",
    "#     fact_df=df,\n",
    "#     dim_df=dim_genres_df,\n",
    "#     fact_id_col=\"id\",\n",
    "#     fact_list_col=\"genres\",\n",
    "#     dim_value_col=\"genre_name\",\n",
    "#     dim_id_col=\"genre_id\",\n",
    "#     bridge_id_col=\"bridge_id\"\n",
    "# )\n",
    "# bridge_movie_genre_df = bridge_movie_genre_df.withColumnRenamed(\"id\", \"movie_id\")\n",
    "\n",
    "# bridge_movie_keyword_df = create_bridge_table(\n",
    "#     fact_df=df,\n",
    "#     dim_df=dim_keyword_df,\n",
    "#     fact_id_col=\"id\",\n",
    "#     fact_list_col=\"keywords\",\n",
    "#     dim_value_col=\"keyword_name\",\n",
    "#     dim_id_col=\"keyword_id\",\n",
    "#     bridge_id_col=\"bridge_id\"\n",
    "# )\n",
    "# bridge_movie_keyword_df = bridge_movie_keyword_df.withColumnRenamed(\"id\", \"movie_id\")\n",
    "\n",
    "# bridge_movie_company_df = create_bridge_table(\n",
    "#     fact_df=df,\n",
    "#     dim_df=dim_production_company_df,\n",
    "#     fact_id_col=\"id\",\n",
    "#     fact_list_col=\"production_companies\",\n",
    "#     dim_value_col=\"company_name\",\n",
    "#     dim_id_col=\"company_id\",\n",
    "#     bridge_id_col=\"bridge_id\"\n",
    "# )\n",
    "# bridge_movie_company_df = bridge_movie_company_df.withColumnRenamed(\"id\", \"movie_id\")\n",
    "\n",
    "# bridge_movie_country_df = create_bridge_table(\n",
    "#     fact_df=df,\n",
    "#     dim_df=dim_production_country_df,\n",
    "#     fact_id_col=\"id\",\n",
    "#     fact_list_col=\"production_countries\",\n",
    "#     dim_value_col=\"country_name\",\n",
    "#     dim_id_col=\"country_id\",\n",
    "#     bridge_id_col=\"bridge_id\"\n",
    "# )\n",
    "# bridge_movie_country_df = bridge_movie_country_df.withColumnRenamed(\"id\", \"movie_id\")\n",
    "\n",
    "# bridge_movie_language_df = create_bridge_table(\n",
    "#     fact_df=df,\n",
    "#     dim_df=dim_spoken_language_df,\n",
    "#     fact_id_col=\"id\",\n",
    "#     fact_list_col=\"spoken_languages\",\n",
    "#     dim_value_col=\"language_name\",\n",
    "#     dim_id_col=\"language_id\",\n",
    "#     bridge_id_col=\"bridge_id\"\n",
    "# )\n",
    "# bridge_movie_language_df = bridge_movie_language_df.withColumnRenamed(\"id\", \"movie_id\")"
   ]
  },
  {
   "cell_type": "code",
   "execution_count": 13,
   "id": "8e6f19f9-e651-4af0-a246-51db536ebf3c",
   "metadata": {},
   "outputs": [
    {
     "name": "stderr",
     "output_type": "stream",
     "text": [
      "                                                                                \r"
     ]
    }
   ],
   "source": [
    "CLEAN_DATA_PATH = \"/opt/bitnami/spark/resources/dataset/cleaned_data\"\n",
    "\n",
    "# Read data\n",
    "df = spark.read.option(\"header\", True).option(\"inferSchema\", True).csv(CLEAN_DATA_PATH).cache()\n",
    "\n",
    "# === Dimension Tables ===\n",
    "dim_movie_df = df.select(\"id\", \"status\", \"release_date\", \"adult\", \"original_language\", \"overview\") \\\n",
    "                 .withColumnRenamed(\"id\", \"movie_id\")\n",
    "\n",
    "# === Fact Tables ===\n",
    "fact_movie_df = df.select(\"id\", \"vote_average\", \"popularity\", \"vote_count\", \"budget\", \"revenue\", \"runtime\") \\\n",
    "                  .withColumnRenamed(\"id\", \"movie_id\")\n",
    "\n",
    "# === Create dimension tables from multi-value columns ===\n",
    "dim_specs = [\n",
    "    (\"genres\", \"genre_id\", \"genre_name\"),\n",
    "    (\"keywords\", \"keyword_id\", \"keyword_name\"),\n",
    "    (\"production_companies\", \"company_id\", \"company_name\"),\n",
    "    (\"production_countries\", \"country_id\", \"country_name\"),\n",
    "    (\"spoken_languages\", \"language_id\", \"language_name\")\n",
    "]\n",
    "\n",
    "dim_tables = {}\n",
    "for col_name, id_col, value_col in dim_specs:\n",
    "    dim_tables[col_name] = create_dim_table_from_column(\n",
    "        df, col_name, id_column=id_col, value_column=value_col\n",
    "    )\n",
    "\n",
    "# === Create bridge tables dynamically ===\n",
    "bridge_tables = {}\n",
    "\n",
    "for col_name, id_col, value_col in dim_specs:\n",
    "    bridge_df = create_bridge_table(\n",
    "        fact_df=df,\n",
    "        dim_df=dim_tables[col_name],\n",
    "        fact_id_col=\"id\",\n",
    "        fact_list_col=col_name,\n",
    "        dim_value_col=value_col,\n",
    "        dim_id_col=id_col,\n",
    "        bridge_id_col=\"bridge_id\"\n",
    "    ).withColumnRenamed(\"id\", \"movie_id\")\n",
    "    \n",
    "    bridge_tables[col_name] = bridge_df"
   ]
  },
  {
   "cell_type": "code",
   "execution_count": 27,
   "id": "bdb4be0d-4b43-4116-92dd-d3c048b52d02",
   "metadata": {},
   "outputs": [],
   "source": [
    "dim_genres_df = dim_tables[\"genres\"]\n",
    "dim_keyword_df = dim_tables[\"keywords\"]\n",
    "dim_production_company_df = dim_tables[\"production_companies\"]\n",
    "dim_production_country_df = dim_tables[\"production_countries\"]\n",
    "dim_spoken_language_df = dim_tables[\"spoken_languages\"]\n",
    "\n",
    "bridge_movie_genre_df = bridge_tables[\"genres\"]\n",
    "bridge_movie_keyword_df = bridge_tables[\"keywords\"]\n",
    "bridge_movie_company_df = bridge_tables[\"production_companies\"]\n",
    "bridge_movie_country_df = bridge_tables[\"production_countries\"]\n",
    "bridge_movie_language_df = bridge_tables[\"spoken_languages\"]"
   ]
  },
  {
   "cell_type": "code",
   "execution_count": 19,
   "id": "bcc1bc75-3e30-4a43-97cb-fe2039b09cd2",
   "metadata": {
    "scrolled": true
   },
   "outputs": [
    {
     "name": "stdout",
     "output_type": "stream",
     "text": [
      "+--------+--------+-------------------+-----+-----------------+--------------------+\n",
      "|movie_id|  status|       release_date|adult|original_language|            overview|\n",
      "+--------+--------+-------------------+-----+-----------------+--------------------+\n",
      "|       5|Released|1995-12-09 00:00:00|false|               en|It's Ted the Bell...|\n",
      "|       6|Released|1993-10-15 00:00:00|false|               en|While racing to a...|\n",
      "|      12|Released|2003-05-30 00:00:00|false|               en|Nemo, an adventur...|\n",
      "|      13|Released|1994-06-23 00:00:00|false|               en|A man with a low ...|\n",
      "|      15|Released|1941-04-17 00:00:00|false|               en|Newspaper magnate...|\n",
      "+--------+--------+-------------------+-----+-----------------+--------------------+\n",
      "only showing top 5 rows\n",
      "\n"
     ]
    },
    {
     "data": {
      "text/plain": [
       "8441"
      ]
     },
     "execution_count": 19,
     "metadata": {},
     "output_type": "execute_result"
    }
   ],
   "source": [
    "dim_movie_df.show(5)\n",
    "dim_movie_df.count()"
   ]
  },
  {
   "cell_type": "code",
   "execution_count": 20,
   "id": "0378b281-0507-4250-90c7-490d3778d4d0",
   "metadata": {
    "scrolled": true
   },
   "outputs": [
    {
     "name": "stdout",
     "output_type": "stream",
     "text": [
      "+--------+------------+----------+----------+--------+---------+-------+\n",
      "|movie_id|vote_average|popularity|vote_count|  budget|  revenue|runtime|\n",
      "+--------+------------+----------+----------+--------+---------+-------+\n",
      "|       5|       5.784|    15.295|      2436| 4000000|  4257354|     98|\n",
      "|       6|       6.533|    13.564|       302|21000000| 12136938|    109|\n",
      "|      12|       7.824|    55.456|     18061|94000000|940335536|    100|\n",
      "|      13|       8.477|    92.693|     25409|55000000|677387716|    142|\n",
      "|      15|       8.015|    28.218|      5034|  839727| 23218000|    119|\n",
      "+--------+------------+----------+----------+--------+---------+-------+\n",
      "only showing top 5 rows\n",
      "\n"
     ]
    },
    {
     "data": {
      "text/plain": [
       "8441"
      ]
     },
     "execution_count": 20,
     "metadata": {},
     "output_type": "execute_result"
    }
   ],
   "source": [
    "fact_movie_df.show(5)\n",
    "fact_movie_df.count()"
   ]
  },
  {
   "cell_type": "code",
   "execution_count": 21,
   "id": "cfb8e3a7-bd7a-4153-a20b-f32da17e17ee",
   "metadata": {},
   "outputs": [
    {
     "data": {
      "text/plain": [
       "dict_keys(['genres', 'keywords', 'production_companies', 'production_countries', 'spoken_languages'])"
      ]
     },
     "execution_count": 21,
     "metadata": {},
     "output_type": "execute_result"
    }
   ],
   "source": [
    "dim_tables.keys()"
   ]
  },
  {
   "cell_type": "code",
   "execution_count": 23,
   "id": "5401e285-758b-4d63-8ff7-cf00257be0fb",
   "metadata": {
    "scrolled": true
   },
   "outputs": [
    {
     "name": "stdout",
     "output_type": "stream",
     "text": [
      "genres\n",
      "+--------+----------+\n",
      "|genre_id|genre_name|\n",
      "+--------+----------+\n",
      "|       0|     Crime|\n",
      "|       1|   Romance|\n",
      "|       2|  TV Movie|\n",
      "|       3|  Thriller|\n",
      "|       4| Adventure|\n",
      "+--------+----------+\n",
      "only showing top 5 rows\n",
      "\n",
      "19\n",
      "keywords\n",
      "+----------+------------+\n",
      "|keyword_id|keyword_name|\n",
      "+----------+------------+\n",
      "|         0|       1970s|\n",
      "|         1| pirate ship|\n",
      "|         2|       anime|\n",
      "|         3|inflammatory|\n",
      "|         4|  hoverboard|\n",
      "+----------+------------+\n",
      "only showing top 5 rows\n",
      "\n",
      "15225\n",
      "production_companies\n",
      "+----------+--------------------+\n",
      "|company_id|        company_name|\n",
      "+----------+--------------------+\n",
      "|         0|                 PEA|\n",
      "|         1|            ZDF/Arte|\n",
      "|         2|    Relativity Media|\n",
      "|         3|    Koppelman-Levien|\n",
      "|         4|Win's Entertainme...|\n",
      "+----------+--------------------+\n",
      "only showing top 5 rows\n",
      "\n",
      "8950\n",
      "production_countries\n",
      "+----------+------------+\n",
      "|country_id|country_name|\n",
      "+----------+------------+\n",
      "|         0|     finland|\n",
      "|         1|   australia|\n",
      "|         2|      greece|\n",
      "|         3|    portugal|\n",
      "|         4|      israel|\n",
      "+----------+------------+\n",
      "only showing top 5 rows\n",
      "\n",
      "108\n",
      "spoken_languages\n",
      "+-----------+-------------+\n",
      "|language_id|language_name|\n",
      "+-----------+-------------+\n",
      "|          0|      Lingala|\n",
      "|          1|         Urdu|\n",
      "|          2|        Khmer|\n",
      "|          3|      Maltese|\n",
      "|          4|          Ido|\n",
      "+-----------+-------------+\n",
      "only showing top 5 rows\n",
      "\n",
      "114\n"
     ]
    }
   ],
   "source": [
    "for key, table in dim_tables.items():\n",
    "    print(key)\n",
    "    table.show(5)\n",
    "    print(table.count())"
   ]
  },
  {
   "cell_type": "code",
   "execution_count": 24,
   "id": "8e9dbfbb-aca3-4eb4-9585-5d450d671785",
   "metadata": {},
   "outputs": [
    {
     "data": {
      "text/plain": [
       "dict_keys(['genres', 'keywords', 'production_companies', 'production_countries', 'spoken_languages'])"
      ]
     },
     "execution_count": 24,
     "metadata": {},
     "output_type": "execute_result"
    }
   ],
   "source": [
    " bridge_tables.keys()"
   ]
  },
  {
   "cell_type": "code",
   "execution_count": 25,
   "id": "735ca402-46f8-4890-9fa6-a75a685f59c8",
   "metadata": {},
   "outputs": [
    {
     "name": "stdout",
     "output_type": "stream",
     "text": [
      "genres\n",
      "+---------+--------+--------+\n",
      "|bridge_id|movie_id|genre_id|\n",
      "+---------+--------+--------+\n",
      "|        0| 1139554|       0|\n",
      "|        1| 1061412|       0|\n",
      "|        2| 1014066|       0|\n",
      "|        3|  958006|       0|\n",
      "|        4|  919573|       0|\n",
      "+---------+--------+--------+\n",
      "only showing top 5 rows\n",
      "\n",
      "21580\n",
      "keywords\n",
      "+---------+--------+----------+\n",
      "|bridge_id|movie_id|keyword_id|\n",
      "+---------+--------+----------+\n",
      "|        0|  878361|         0|\n",
      "|        1|  760104|         0|\n",
      "|        2|  756999|         0|\n",
      "|        3|  718032|         0|\n",
      "|        4|  555285|         0|\n",
      "+---------+--------+----------+\n",
      "only showing top 5 rows\n",
      "\n",
      "81539\n",
      "production_companies\n",
      "+---------+--------+----------+\n",
      "|bridge_id|movie_id|company_id|\n",
      "+---------+--------+----------+\n",
      "|        0|    1643|         0|\n",
      "|        1|     429|         0|\n",
      "|        2|  888321|         1|\n",
      "|        3|  336804|         1|\n",
      "|        4|  126250|         1|\n",
      "+---------+--------+----------+\n",
      "only showing top 5 rows\n",
      "\n",
      "27226\n",
      "production_countries\n",
      "+---------+--------+----------+\n",
      "|bridge_id|movie_id|country_id|\n",
      "+---------+--------+----------+\n",
      "|        0|  840326|         0|\n",
      "|        1|  798286|         0|\n",
      "|        2|  302349|         0|\n",
      "|        3|  230179|         0|\n",
      "|        4|  224746|         0|\n",
      "+---------+--------+----------+\n",
      "only showing top 5 rows\n",
      "\n",
      "12080\n",
      "spoken_languages\n",
      "+---------+--------+-----------+\n",
      "|bridge_id|movie_id|language_id|\n",
      "+---------+--------+-----------+\n",
      "|        0|    1247|          0|\n",
      "|        1|  544402|          1|\n",
      "|        2|  543005|          1|\n",
      "|        3|  495429|          1|\n",
      "|        4|  473309|          1|\n",
      "+---------+--------+-----------+\n",
      "only showing top 5 rows\n",
      "\n",
      "12477\n"
     ]
    }
   ],
   "source": [
    "for key, table in bridge_tables.items():\n",
    "    print(key)\n",
    "    table.show(5)\n",
    "    print(table.count())"
   ]
  },
  {
   "cell_type": "code",
   "execution_count": 28,
   "id": "a517278c-a438-4e08-bff2-cd2f584ef138",
   "metadata": {},
   "outputs": [],
   "source": [
    "spark.stop()"
   ]
  },
  {
   "cell_type": "code",
   "execution_count": null,
   "id": "fe5fb6d3-e74b-4cd5-be25-d4c4f4b16eb5",
   "metadata": {},
   "outputs": [],
   "source": []
  }
 ],
 "metadata": {
  "kernelspec": {
   "display_name": "Python 3 (ipykernel)",
   "language": "python",
   "name": "python3"
  },
  "language_info": {
   "codemirror_mode": {
    "name": "ipython",
    "version": 3
   },
   "file_extension": ".py",
   "mimetype": "text/x-python",
   "name": "python",
   "nbconvert_exporter": "python",
   "pygments_lexer": "ipython3",
   "version": "3.11.6"
  }
 },
 "nbformat": 4,
 "nbformat_minor": 5
}
