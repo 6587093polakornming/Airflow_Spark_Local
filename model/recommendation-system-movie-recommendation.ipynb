{
 "cells": [
  {
   "cell_type": "markdown",
   "id": "4c8d3433",
   "metadata": {
    "papermill": {
     "duration": 0.00766,
     "end_time": "2024-12-22T17:05:36.679273",
     "exception": false,
     "start_time": "2024-12-22T17:05:36.671613",
     "status": "completed"
    },
    "tags": []
   },
   "source": [
    "# Movie Recommendation System: Project Overview\n",
    "\n",
    "The goal of this project is to develop a movie recommendation system that delivers personalized movie suggestions based on movie content and attributes. By analyzing movie descriptions and keywords, this system helps users discover films that align with their tastes, enhancing their movie-watching experience.\n",
    "\n",
    "This project specifically implements a Content-Based Filtering recommendation system using the TMDb Movies Dataset (2023).\n",
    "\n",
    "Content-Based Filtering focuses on the characteristics of the movies themselves, rather than relying on user ratings or collaborative patterns.\n",
    "It analyzes textual data such as movie overviews and keywords to find similarities between movies, ensuring accurate and relevant recommendations.\n",
    "By leveraging advanced natural language processing techniques, this system efficiently handles a large dataset (25,000 movies) and demonstrates the effectiveness of content-based approaches in providing meaningful recommendations."
   ]
  },
  {
   "cell_type": "markdown",
   "id": "f10eea19",
   "metadata": {},
   "source": [
    "https://www.kaggle.com/code/moridata/recommendation-system-movie-recommendation/notebook"
   ]
  },
  {
   "cell_type": "markdown",
   "id": "d64c595a",
   "metadata": {
    "papermill": {
     "duration": 0.0065,
     "end_time": "2024-12-22T17:05:36.692864",
     "exception": false,
     "start_time": "2024-12-22T17:05:36.686364",
     "status": "completed"
    },
    "tags": []
   },
   "source": [
    "# Types of Recommendation Systems:\n",
    "\n",
    "Recommendation systems can be broadly categorized into Non-Personalized and Personalized approaches, with each having unique advantages. These systems can be implemented using various techniques, depending on the data available and the level of personalization required.\n",
    "\n",
    "**Content-Based Filtering:** \n",
    "    Recommends movies similar to those a user has liked in the past, based on movie features (genre, actors, director, plot keywords).\n",
    "    \n",
    "**Collaborative Filtering:** \n",
    "    Recommends movies that users with similar tastes have liked, without explicitly considering movie features.\n",
    "    \n",
    "**Hybrid Approaches:** \n",
    "    Combines content-based and collaborative filtering for improved accuracy."
   ]
  },
  {
   "cell_type": "markdown",
   "id": "fe5356d4",
   "metadata": {
    "papermill": {
     "duration": 0.006413,
     "end_time": "2024-12-22T17:05:36.707216",
     "exception": false,
     "start_time": "2024-12-22T17:05:36.700803",
     "status": "completed"
    },
    "tags": []
   },
   "source": [
    "# Import Libraries "
   ]
  },
  {
   "cell_type": "code",
   "execution_count": 1,
   "id": "339f9dcb",
   "metadata": {
    "execution": {
     "iopub.execute_input": "2024-12-22T17:05:36.722173Z",
     "iopub.status.busy": "2024-12-22T17:05:36.721756Z",
     "iopub.status.idle": "2024-12-22T17:05:39.485872Z",
     "shell.execute_reply": "2024-12-22T17:05:39.485002Z"
    },
    "papermill": {
     "duration": 2.774289,
     "end_time": "2024-12-22T17:05:39.488164",
     "exception": false,
     "start_time": "2024-12-22T17:05:36.713875",
     "status": "completed"
    },
    "tags": []
   },
   "outputs": [],
   "source": [
    "import pandas as pd\n",
    "import numpy as np\n",
    "\n",
    "from sklearn.feature_extraction.text import TfidfVectorizer, CountVectorizer\n",
    "from sklearn.metrics.pairwise import cosine_similarity\n",
    "import nltk\n",
    "from nltk.corpus import stopwords\n",
    "from nltk.stem import WordNetLemmatizer\n",
    "from ast import literal_eval # For safely converting stringified lists"
   ]
  },
  {
   "cell_type": "markdown",
   "id": "24a0aa6f",
   "metadata": {
    "papermill": {
     "duration": 0.006744,
     "end_time": "2024-12-22T17:05:39.501951",
     "exception": false,
     "start_time": "2024-12-22T17:05:39.495207",
     "status": "completed"
    },
    "tags": []
   },
   "source": [
    "# Load Data"
   ]
  },
  {
   "cell_type": "code",
   "execution_count": 2,
   "id": "dd61ee04",
   "metadata": {
    "execution": {
     "iopub.execute_input": "2024-12-22T17:05:39.517267Z",
     "iopub.status.busy": "2024-12-22T17:05:39.516765Z",
     "iopub.status.idle": "2024-12-22T17:05:58.584211Z",
     "shell.execute_reply": "2024-12-22T17:05:58.582983Z"
    },
    "papermill": {
     "duration": 19.077816,
     "end_time": "2024-12-22T17:05:58.586606",
     "exception": false,
     "start_time": "2024-12-22T17:05:39.508790",
     "status": "completed"
    },
    "tags": []
   },
   "outputs": [],
   "source": [
    "df = pd.read_csv('/kaggle/input/tmdb-movies-dataset-2023-930k-movies/TMDB_movie_dataset_v11.csv')"
   ]
  },
  {
   "cell_type": "markdown",
   "id": "97e9d4e0",
   "metadata": {
    "papermill": {
     "duration": 0.00641,
     "end_time": "2024-12-22T17:05:58.600226",
     "exception": false,
     "start_time": "2024-12-22T17:05:58.593816",
     "status": "completed"
    },
    "tags": []
   },
   "source": [
    "# 1. Exploratory Data Analysis (EDA)"
   ]
  },
  {
   "cell_type": "code",
   "execution_count": 3,
   "id": "bc41a294",
   "metadata": {
    "execution": {
     "iopub.execute_input": "2024-12-22T17:05:58.615808Z",
     "iopub.status.busy": "2024-12-22T17:05:58.614841Z",
     "iopub.status.idle": "2024-12-22T17:05:58.649714Z",
     "shell.execute_reply": "2024-12-22T17:05:58.648743Z"
    },
    "papermill": {
     "duration": 0.045364,
     "end_time": "2024-12-22T17:05:58.652082",
     "exception": false,
     "start_time": "2024-12-22T17:05:58.606718",
     "status": "completed"
    },
    "tags": []
   },
   "outputs": [
    {
     "data": {
      "text/html": [
       "<div>\n",
       "<style scoped>\n",
       "    .dataframe tbody tr th:only-of-type {\n",
       "        vertical-align: middle;\n",
       "    }\n",
       "\n",
       "    .dataframe tbody tr th {\n",
       "        vertical-align: top;\n",
       "    }\n",
       "\n",
       "    .dataframe thead th {\n",
       "        text-align: right;\n",
       "    }\n",
       "</style>\n",
       "<table border=\"1\" class=\"dataframe\">\n",
       "  <thead>\n",
       "    <tr style=\"text-align: right;\">\n",
       "      <th></th>\n",
       "      <th>id</th>\n",
       "      <th>title</th>\n",
       "      <th>vote_average</th>\n",
       "      <th>vote_count</th>\n",
       "      <th>status</th>\n",
       "      <th>release_date</th>\n",
       "      <th>revenue</th>\n",
       "      <th>runtime</th>\n",
       "      <th>adult</th>\n",
       "      <th>backdrop_path</th>\n",
       "      <th>...</th>\n",
       "      <th>original_title</th>\n",
       "      <th>overview</th>\n",
       "      <th>popularity</th>\n",
       "      <th>poster_path</th>\n",
       "      <th>tagline</th>\n",
       "      <th>genres</th>\n",
       "      <th>production_companies</th>\n",
       "      <th>production_countries</th>\n",
       "      <th>spoken_languages</th>\n",
       "      <th>keywords</th>\n",
       "    </tr>\n",
       "  </thead>\n",
       "  <tbody>\n",
       "    <tr>\n",
       "      <th>0</th>\n",
       "      <td>27205</td>\n",
       "      <td>Inception</td>\n",
       "      <td>8.364</td>\n",
       "      <td>34495</td>\n",
       "      <td>Released</td>\n",
       "      <td>2010-07-15</td>\n",
       "      <td>825532764</td>\n",
       "      <td>148</td>\n",
       "      <td>False</td>\n",
       "      <td>/8ZTVqvKDQ8emSGUEMjsS4yHAwrp.jpg</td>\n",
       "      <td>...</td>\n",
       "      <td>Inception</td>\n",
       "      <td>Cobb, a skilled thief who commits corporate es...</td>\n",
       "      <td>83.952</td>\n",
       "      <td>/oYuLEt3zVCKq57qu2F8dT7NIa6f.jpg</td>\n",
       "      <td>Your mind is the scene of the crime.</td>\n",
       "      <td>Action, Science Fiction, Adventure</td>\n",
       "      <td>Legendary Pictures, Syncopy, Warner Bros. Pict...</td>\n",
       "      <td>United Kingdom, United States of America</td>\n",
       "      <td>English, French, Japanese, Swahili</td>\n",
       "      <td>rescue, mission, dream, airplane, paris, franc...</td>\n",
       "    </tr>\n",
       "    <tr>\n",
       "      <th>1</th>\n",
       "      <td>157336</td>\n",
       "      <td>Interstellar</td>\n",
       "      <td>8.417</td>\n",
       "      <td>32571</td>\n",
       "      <td>Released</td>\n",
       "      <td>2014-11-05</td>\n",
       "      <td>701729206</td>\n",
       "      <td>169</td>\n",
       "      <td>False</td>\n",
       "      <td>/pbrkL804c8yAv3zBZR4QPEafpAR.jpg</td>\n",
       "      <td>...</td>\n",
       "      <td>Interstellar</td>\n",
       "      <td>The adventures of a group of explorers who mak...</td>\n",
       "      <td>140.241</td>\n",
       "      <td>/gEU2QniE6E77NI6lCU6MxlNBvIx.jpg</td>\n",
       "      <td>Mankind was born on Earth. It was never meant ...</td>\n",
       "      <td>Adventure, Drama, Science Fiction</td>\n",
       "      <td>Legendary Pictures, Syncopy, Lynda Obst Produc...</td>\n",
       "      <td>United Kingdom, United States of America</td>\n",
       "      <td>English</td>\n",
       "      <td>rescue, future, spacecraft, race against time,...</td>\n",
       "    </tr>\n",
       "  </tbody>\n",
       "</table>\n",
       "<p>2 rows × 24 columns</p>\n",
       "</div>"
      ],
      "text/plain": [
       "       id         title  vote_average  vote_count    status release_date  \\\n",
       "0   27205     Inception         8.364       34495  Released   2010-07-15   \n",
       "1  157336  Interstellar         8.417       32571  Released   2014-11-05   \n",
       "\n",
       "     revenue  runtime  adult                     backdrop_path  ...  \\\n",
       "0  825532764      148  False  /8ZTVqvKDQ8emSGUEMjsS4yHAwrp.jpg  ...   \n",
       "1  701729206      169  False  /pbrkL804c8yAv3zBZR4QPEafpAR.jpg  ...   \n",
       "\n",
       "   original_title                                           overview  \\\n",
       "0       Inception  Cobb, a skilled thief who commits corporate es...   \n",
       "1    Interstellar  The adventures of a group of explorers who mak...   \n",
       "\n",
       "  popularity                       poster_path  \\\n",
       "0     83.952  /oYuLEt3zVCKq57qu2F8dT7NIa6f.jpg   \n",
       "1    140.241  /gEU2QniE6E77NI6lCU6MxlNBvIx.jpg   \n",
       "\n",
       "                                             tagline  \\\n",
       "0               Your mind is the scene of the crime.   \n",
       "1  Mankind was born on Earth. It was never meant ...   \n",
       "\n",
       "                               genres  \\\n",
       "0  Action, Science Fiction, Adventure   \n",
       "1   Adventure, Drama, Science Fiction   \n",
       "\n",
       "                                production_companies  \\\n",
       "0  Legendary Pictures, Syncopy, Warner Bros. Pict...   \n",
       "1  Legendary Pictures, Syncopy, Lynda Obst Produc...   \n",
       "\n",
       "                       production_countries  \\\n",
       "0  United Kingdom, United States of America   \n",
       "1  United Kingdom, United States of America   \n",
       "\n",
       "                     spoken_languages  \\\n",
       "0  English, French, Japanese, Swahili   \n",
       "1                             English   \n",
       "\n",
       "                                            keywords  \n",
       "0  rescue, mission, dream, airplane, paris, franc...  \n",
       "1  rescue, future, spacecraft, race against time,...  \n",
       "\n",
       "[2 rows x 24 columns]"
      ]
     },
     "execution_count": 3,
     "metadata": {},
     "output_type": "execute_result"
    }
   ],
   "source": [
    "df.head(2)"
   ]
  },
  {
   "cell_type": "code",
   "execution_count": 4,
   "id": "f309dca5",
   "metadata": {
    "execution": {
     "iopub.execute_input": "2024-12-22T17:05:58.668480Z",
     "iopub.status.busy": "2024-12-22T17:05:58.667547Z",
     "iopub.status.idle": "2024-12-22T17:05:58.674443Z",
     "shell.execute_reply": "2024-12-22T17:05:58.673221Z"
    },
    "papermill": {
     "duration": 0.017182,
     "end_time": "2024-12-22T17:05:58.676440",
     "exception": false,
     "start_time": "2024-12-22T17:05:58.659258",
     "status": "completed"
    },
    "tags": []
   },
   "outputs": [
    {
     "data": {
      "text/plain": [
       "(1150581, 24)"
      ]
     },
     "execution_count": 4,
     "metadata": {},
     "output_type": "execute_result"
    }
   ],
   "source": [
    "df.shape"
   ]
  },
  {
   "cell_type": "code",
   "execution_count": 5,
   "id": "39177790",
   "metadata": {
    "execution": {
     "iopub.execute_input": "2024-12-22T17:05:58.692980Z",
     "iopub.status.busy": "2024-12-22T17:05:58.691971Z",
     "iopub.status.idle": "2024-12-22T17:05:58.698604Z",
     "shell.execute_reply": "2024-12-22T17:05:58.697689Z"
    },
    "papermill": {
     "duration": 0.016902,
     "end_time": "2024-12-22T17:05:58.700665",
     "exception": false,
     "start_time": "2024-12-22T17:05:58.683763",
     "status": "completed"
    },
    "tags": []
   },
   "outputs": [
    {
     "data": {
      "text/plain": [
       "Index(['id', 'title', 'vote_average', 'vote_count', 'status', 'release_date',\n",
       "       'revenue', 'runtime', 'adult', 'backdrop_path', 'budget', 'homepage',\n",
       "       'imdb_id', 'original_language', 'original_title', 'overview',\n",
       "       'popularity', 'poster_path', 'tagline', 'genres',\n",
       "       'production_companies', 'production_countries', 'spoken_languages',\n",
       "       'keywords'],\n",
       "      dtype='object')"
      ]
     },
     "execution_count": 5,
     "metadata": {},
     "output_type": "execute_result"
    }
   ],
   "source": [
    "df.columns"
   ]
  },
  {
   "cell_type": "markdown",
   "id": "0d26d779",
   "metadata": {
    "papermill": {
     "duration": 0.00695,
     "end_time": "2024-12-22T17:05:58.714887",
     "exception": false,
     "start_time": "2024-12-22T17:05:58.707937",
     "status": "completed"
    },
    "tags": []
   },
   "source": [
    "**The TMDb Movies Dataset 2023 contains extensive information about over 1,000,000 movies. Key features include:**\n",
    "\n",
    "**Movie Details:**\n",
    "\n",
    "    movie_id: Unique identifier for each movie.\n",
    "    title: The name of the movie.\n",
    "    genres: A list of movie genres (e.g., Action, Drama, Comedy).\n",
    "    release_date: The date when the movie was released.\n",
    "    overview: A short summary of the movie plot.\n",
    "**Ratings and Popularity:**\n",
    "\n",
    "    vote_average: Average rating given by users.\n",
    "    vote_count: The number of ratings the movie has received.\n",
    "**Additional Information:**\n",
    "\n",
    "    budget: The movie's production budget.\n",
    "    revenue: The total revenue generated by the movie.\n",
    "    runtime: The duration of the movie.\n",
    "    cast and crew: Information about the actors, directors, and producers."
   ]
  },
  {
   "cell_type": "markdown",
   "id": "2bf7d718",
   "metadata": {
    "papermill": {
     "duration": 0.00677,
     "end_time": "2024-12-22T17:05:58.728809",
     "exception": false,
     "start_time": "2024-12-22T17:05:58.722039",
     "status": "completed"
    },
    "tags": []
   },
   "source": [
    "# 2. Data Preprocessing\n",
    "\n",
    "### Missing Values"
   ]
  },
  {
   "cell_type": "code",
   "execution_count": 6,
   "id": "ae4911f5",
   "metadata": {
    "execution": {
     "iopub.execute_input": "2024-12-22T17:05:58.745278Z",
     "iopub.status.busy": "2024-12-22T17:05:58.744265Z",
     "iopub.status.idle": "2024-12-22T17:05:59.603943Z",
     "shell.execute_reply": "2024-12-22T17:05:59.602909Z"
    },
    "papermill": {
     "duration": 0.870176,
     "end_time": "2024-12-22T17:05:59.606129",
     "exception": false,
     "start_time": "2024-12-22T17:05:58.735953",
     "status": "completed"
    },
    "tags": []
   },
   "outputs": [
    {
     "data": {
      "text/plain": [
       "id                            0\n",
       "title                        13\n",
       "vote_average                  0\n",
       "vote_count                    0\n",
       "status                        0\n",
       "release_date             193011\n",
       "revenue                       0\n",
       "runtime                       0\n",
       "adult                         0\n",
       "backdrop_path            846461\n",
       "budget                        0\n",
       "homepage                1028998\n",
       "imdb_id                  544445\n",
       "original_language             0\n",
       "original_title               13\n",
       "overview                 235526\n",
       "popularity                    0\n",
       "poster_path              366090\n",
       "tagline                  989281\n",
       "genres                   463525\n",
       "production_companies     632871\n",
       "production_countries     512652\n",
       "spoken_languages         492880\n",
       "keywords                 840518\n",
       "dtype: int64"
      ]
     },
     "execution_count": 6,
     "metadata": {},
     "output_type": "execute_result"
    }
   ],
   "source": [
    "df.isnull().sum()"
   ]
  },
  {
   "cell_type": "markdown",
   "id": "6af9d9a9",
   "metadata": {
    "papermill": {
     "duration": 0.006927,
     "end_time": "2024-12-22T17:05:59.620336",
     "exception": false,
     "start_time": "2024-12-22T17:05:59.613409",
     "status": "completed"
    },
    "tags": []
   },
   "source": [
    "### Duplicate "
   ]
  },
  {
   "cell_type": "code",
   "execution_count": 7,
   "id": "73fe16fc",
   "metadata": {
    "execution": {
     "iopub.execute_input": "2024-12-22T17:05:59.636429Z",
     "iopub.status.busy": "2024-12-22T17:05:59.635655Z",
     "iopub.status.idle": "2024-12-22T17:06:03.732931Z",
     "shell.execute_reply": "2024-12-22T17:06:03.731936Z"
    },
    "papermill": {
     "duration": 4.107771,
     "end_time": "2024-12-22T17:06:03.735234",
     "exception": false,
     "start_time": "2024-12-22T17:05:59.627463",
     "status": "completed"
    },
    "tags": []
   },
   "outputs": [
    {
     "data": {
      "text/plain": [
       "368"
      ]
     },
     "execution_count": 7,
     "metadata": {},
     "output_type": "execute_result"
    }
   ],
   "source": [
    "# Count the number of duplicate rows\n",
    "df.duplicated().sum()"
   ]
  },
  {
   "cell_type": "code",
   "execution_count": 8,
   "id": "3bec2b0c",
   "metadata": {
    "execution": {
     "iopub.execute_input": "2024-12-22T17:06:03.751976Z",
     "iopub.status.busy": "2024-12-22T17:06:03.751595Z",
     "iopub.status.idle": "2024-12-22T17:06:07.460359Z",
     "shell.execute_reply": "2024-12-22T17:06:07.459289Z"
    },
    "papermill": {
     "duration": 3.719684,
     "end_time": "2024-12-22T17:06:07.462600",
     "exception": false,
     "start_time": "2024-12-22T17:06:03.742916",
     "status": "completed"
    },
    "tags": []
   },
   "outputs": [
    {
     "data": {
      "text/html": [
       "<div>\n",
       "<style scoped>\n",
       "    .dataframe tbody tr th:only-of-type {\n",
       "        vertical-align: middle;\n",
       "    }\n",
       "\n",
       "    .dataframe tbody tr th {\n",
       "        vertical-align: top;\n",
       "    }\n",
       "\n",
       "    .dataframe thead th {\n",
       "        text-align: right;\n",
       "    }\n",
       "</style>\n",
       "<table border=\"1\" class=\"dataframe\">\n",
       "  <thead>\n",
       "    <tr style=\"text-align: right;\">\n",
       "      <th></th>\n",
       "      <th>id</th>\n",
       "      <th>title</th>\n",
       "      <th>vote_average</th>\n",
       "      <th>vote_count</th>\n",
       "      <th>status</th>\n",
       "      <th>release_date</th>\n",
       "      <th>revenue</th>\n",
       "      <th>runtime</th>\n",
       "      <th>adult</th>\n",
       "      <th>backdrop_path</th>\n",
       "      <th>...</th>\n",
       "      <th>original_title</th>\n",
       "      <th>overview</th>\n",
       "      <th>popularity</th>\n",
       "      <th>poster_path</th>\n",
       "      <th>tagline</th>\n",
       "      <th>genres</th>\n",
       "      <th>production_companies</th>\n",
       "      <th>production_countries</th>\n",
       "      <th>spoken_languages</th>\n",
       "      <th>keywords</th>\n",
       "    </tr>\n",
       "  </thead>\n",
       "  <tbody>\n",
       "    <tr>\n",
       "      <th>234137</th>\n",
       "      <td>1220680</td>\n",
       "      <td>Mr. Kobayashi</td>\n",
       "      <td>10.0</td>\n",
       "      <td>1</td>\n",
       "      <td>Released</td>\n",
       "      <td>NaN</td>\n",
       "      <td>0</td>\n",
       "      <td>0</td>\n",
       "      <td>False</td>\n",
       "      <td>NaN</td>\n",
       "      <td>...</td>\n",
       "      <td>Mr. Kobayashi</td>\n",
       "      <td>NaN</td>\n",
       "      <td>0.63</td>\n",
       "      <td>/h4Xyf3gJgCWVTMlz1yuSqPLSVZ3.jpg</td>\n",
       "      <td>NaN</td>\n",
       "      <td>Action, Drama</td>\n",
       "      <td>NaN</td>\n",
       "      <td>NaN</td>\n",
       "      <td>NaN</td>\n",
       "      <td>samurai, katana sword</td>\n",
       "    </tr>\n",
       "    <tr>\n",
       "      <th>234701</th>\n",
       "      <td>1226029</td>\n",
       "      <td>Dima Koval: Stand-up from Vegas</td>\n",
       "      <td>10.0</td>\n",
       "      <td>1</td>\n",
       "      <td>Released</td>\n",
       "      <td>2023-12-05</td>\n",
       "      <td>0</td>\n",
       "      <td>0</td>\n",
       "      <td>False</td>\n",
       "      <td>NaN</td>\n",
       "      <td>...</td>\n",
       "      <td>Dima Koval: Stand-up from Vegas</td>\n",
       "      <td>NaN</td>\n",
       "      <td>1.40</td>\n",
       "      <td>/gMREsQHG7Na3Tmhdg4OH51LPHt.jpg</td>\n",
       "      <td>NaN</td>\n",
       "      <td>Comedy</td>\n",
       "      <td>Standup-view</td>\n",
       "      <td>Russia</td>\n",
       "      <td>Russian</td>\n",
       "      <td>stand-up comedy, stand-up russia</td>\n",
       "    </tr>\n",
       "    <tr>\n",
       "      <th>235628</th>\n",
       "      <td>1214170</td>\n",
       "      <td>Frienemies</td>\n",
       "      <td>10.0</td>\n",
       "      <td>1</td>\n",
       "      <td>Released</td>\n",
       "      <td>2013-07-15</td>\n",
       "      <td>0</td>\n",
       "      <td>11</td>\n",
       "      <td>False</td>\n",
       "      <td>/kssDqwfU82S2h1omqkuvCr9CJ8p.jpg</td>\n",
       "      <td>...</td>\n",
       "      <td>Frienemies</td>\n",
       "      <td>Four friends Mike, Shane, Diego and Matt plan ...</td>\n",
       "      <td>0.60</td>\n",
       "      <td>/vRjOyfbNFb85JN8oeCMmBSu1oXx.jpg</td>\n",
       "      <td>Friendships come and go.</td>\n",
       "      <td>Comedy, Action, Thriller</td>\n",
       "      <td>NaN</td>\n",
       "      <td>NaN</td>\n",
       "      <td>NaN</td>\n",
       "      <td>NaN</td>\n",
       "    </tr>\n",
       "  </tbody>\n",
       "</table>\n",
       "<p>3 rows × 24 columns</p>\n",
       "</div>"
      ],
      "text/plain": [
       "             id                            title  vote_average  vote_count  \\\n",
       "234137  1220680                    Mr. Kobayashi          10.0           1   \n",
       "234701  1226029  Dima Koval: Stand-up from Vegas          10.0           1   \n",
       "235628  1214170                       Frienemies          10.0           1   \n",
       "\n",
       "          status release_date  revenue  runtime  adult  \\\n",
       "234137  Released          NaN        0        0  False   \n",
       "234701  Released   2023-12-05        0        0  False   \n",
       "235628  Released   2013-07-15        0       11  False   \n",
       "\n",
       "                           backdrop_path  ...  \\\n",
       "234137                               NaN  ...   \n",
       "234701                               NaN  ...   \n",
       "235628  /kssDqwfU82S2h1omqkuvCr9CJ8p.jpg  ...   \n",
       "\n",
       "                         original_title  \\\n",
       "234137                    Mr. Kobayashi   \n",
       "234701  Dima Koval: Stand-up from Vegas   \n",
       "235628                       Frienemies   \n",
       "\n",
       "                                                 overview popularity  \\\n",
       "234137                                                NaN       0.63   \n",
       "234701                                                NaN       1.40   \n",
       "235628  Four friends Mike, Shane, Diego and Matt plan ...       0.60   \n",
       "\n",
       "                             poster_path                   tagline  \\\n",
       "234137  /h4Xyf3gJgCWVTMlz1yuSqPLSVZ3.jpg                       NaN   \n",
       "234701   /gMREsQHG7Na3Tmhdg4OH51LPHt.jpg                       NaN   \n",
       "235628  /vRjOyfbNFb85JN8oeCMmBSu1oXx.jpg  Friendships come and go.   \n",
       "\n",
       "                          genres  production_companies production_countries  \\\n",
       "234137             Action, Drama                   NaN                  NaN   \n",
       "234701                    Comedy          Standup-view               Russia   \n",
       "235628  Comedy, Action, Thriller                   NaN                  NaN   \n",
       "\n",
       "       spoken_languages                          keywords  \n",
       "234137              NaN             samurai, katana sword  \n",
       "234701          Russian  stand-up comedy, stand-up russia  \n",
       "235628              NaN                               NaN  \n",
       "\n",
       "[3 rows x 24 columns]"
      ]
     },
     "execution_count": 8,
     "metadata": {},
     "output_type": "execute_result"
    }
   ],
   "source": [
    "# Find duplicate rows and display them\n",
    "df[df.duplicated()][:3]"
   ]
  },
  {
   "cell_type": "code",
   "execution_count": 9,
   "id": "5108b950",
   "metadata": {
    "execution": {
     "iopub.execute_input": "2024-12-22T17:06:07.479628Z",
     "iopub.status.busy": "2024-12-22T17:06:07.479249Z",
     "iopub.status.idle": "2024-12-22T17:06:11.363947Z",
     "shell.execute_reply": "2024-12-22T17:06:11.362817Z"
    },
    "papermill": {
     "duration": 3.89604,
     "end_time": "2024-12-22T17:06:11.366402",
     "exception": false,
     "start_time": "2024-12-22T17:06:07.470362",
     "status": "completed"
    },
    "tags": []
   },
   "outputs": [],
   "source": [
    "# Remove duplicate rows, keeping the first occurrence\n",
    "df.drop_duplicates(inplace=True)"
   ]
  },
  {
   "cell_type": "markdown",
   "id": "0a0445e5",
   "metadata": {
    "papermill": {
     "duration": 0.007301,
     "end_time": "2024-12-22T17:06:11.381520",
     "exception": false,
     "start_time": "2024-12-22T17:06:11.374219",
     "status": "completed"
    },
    "tags": []
   },
   "source": [
    "# Recommendation Systems\n",
    "\n",
    "## Content-Based Filtering:\n",
    "\n",
    "Content-based filtering recommends items similar to those a user has liked in the past, based on the items' inherent characteristics. In the context of movie recommendations, this means suggesting movies similar to ones a user has previously enjoyed, by analyzing features like genre, plot summaries, actors, director, etc. To implement this, I first preprocessed the movie data, extracting relevant features. Specifically, I parsed the \"genres\" column, converting stringified lists into usable lists of genres, and created binary vectors representing the presence or absence of each genre for each movie. I also used TF-IDF (Term Frequency-Inverse Document Frequency) to convert the \"overview\" (plot summary) text into numerical vectors, capturing the importance of words within each movie's description. Then, I calculated the cosine similarity between movies based on both their genre vectors and TF-IDF vectors of their overviews. Finally, I combined these similarity scores using weighted averages to create a composite similarity matrix. This matrix is then used to recommend movies; given a movie a user likes, the system finds other movies with the highest combined similarity scores and recommends them. This approach ensures that the recommendations are based on the actual content of the movies, rather than relying on user preferences or ratings from other users."
   ]
  },
  {
   "cell_type": "code",
   "execution_count": 10,
   "id": "1ef38648",
   "metadata": {
    "execution": {
     "iopub.execute_input": "2024-12-22T17:06:11.398603Z",
     "iopub.status.busy": "2024-12-22T17:06:11.397596Z",
     "iopub.status.idle": "2024-12-22T17:06:11.405243Z",
     "shell.execute_reply": "2024-12-22T17:06:11.404258Z"
    },
    "papermill": {
     "duration": 0.018437,
     "end_time": "2024-12-22T17:06:11.407308",
     "exception": false,
     "start_time": "2024-12-22T17:06:11.388871",
     "status": "completed"
    },
    "tags": []
   },
   "outputs": [
    {
     "data": {
      "text/plain": [
       "0             Action, Science Fiction, Adventure\n",
       "1              Adventure, Drama, Science Fiction\n",
       "2                 Drama, Action, Crime, Thriller\n",
       "3    Action, Adventure, Fantasy, Science Fiction\n",
       "4             Science Fiction, Action, Adventure\n",
       "Name: genres, dtype: object"
      ]
     },
     "execution_count": 10,
     "metadata": {},
     "output_type": "execute_result"
    }
   ],
   "source": [
    "df['genres'].head()"
   ]
  },
  {
   "cell_type": "code",
   "execution_count": 11,
   "id": "9bbde312",
   "metadata": {
    "execution": {
     "iopub.execute_input": "2024-12-22T17:06:11.429348Z",
     "iopub.status.busy": "2024-12-22T17:06:11.428814Z",
     "iopub.status.idle": "2024-12-22T17:06:11.437210Z",
     "shell.execute_reply": "2024-12-22T17:06:11.435846Z"
    },
    "papermill": {
     "duration": 0.022664,
     "end_time": "2024-12-22T17:06:11.439250",
     "exception": false,
     "start_time": "2024-12-22T17:06:11.416586",
     "status": "completed"
    },
    "tags": []
   },
   "outputs": [
    {
     "data": {
      "text/plain": [
       "0    Cobb, a skilled thief who commits corporate es...\n",
       "1    The adventures of a group of explorers who mak...\n",
       "2    Batman raises the stakes in his war on crime. ...\n",
       "3    In the 22nd century, a paraplegic Marine is di...\n",
       "4    When an unexpected enemy emerges and threatens...\n",
       "Name: overview, dtype: object"
      ]
     },
     "execution_count": 11,
     "metadata": {},
     "output_type": "execute_result"
    }
   ],
   "source": [
    "df['overview'].head()"
   ]
  },
  {
   "cell_type": "code",
   "execution_count": 12,
   "id": "87e21263",
   "metadata": {
    "execution": {
     "iopub.execute_input": "2024-12-22T17:06:11.462468Z",
     "iopub.status.busy": "2024-12-22T17:06:11.461297Z",
     "iopub.status.idle": "2024-12-22T17:06:11.471643Z",
     "shell.execute_reply": "2024-12-22T17:06:11.470579Z"
    },
    "papermill": {
     "duration": 0.026833,
     "end_time": "2024-12-22T17:06:11.474658",
     "exception": false,
     "start_time": "2024-12-22T17:06:11.447825",
     "status": "completed"
    },
    "tags": []
   },
   "outputs": [
    {
     "data": {
      "text/plain": [
       "0    rescue, mission, dream, airplane, paris, franc...\n",
       "1    rescue, future, spacecraft, race against time,...\n",
       "2    joker, sadism, chaos, secret identity, crime f...\n",
       "3    future, society, culture clash, space travel, ...\n",
       "4    new york city, superhero, shield, based on com...\n",
       "Name: keywords, dtype: object"
      ]
     },
     "execution_count": 12,
     "metadata": {},
     "output_type": "execute_result"
    }
   ],
   "source": [
    "df['keywords'].head()"
   ]
  },
  {
   "cell_type": "markdown",
   "id": "769c3bf0",
   "metadata": {
    "papermill": {
     "duration": 0.011043,
     "end_time": "2024-12-22T17:06:11.497243",
     "exception": false,
     "start_time": "2024-12-22T17:06:11.486200",
     "status": "completed"
    },
    "tags": []
   },
   "source": [
    "Download necessary NLTK data\n",
    "The code ensures that all required resources from the NLTK library are available for text processing. This is often necessary when working with stopwords or lemmatization. The resources are downloaded only if they are not already available."
   ]
  },
  {
   "cell_type": "code",
   "execution_count": 13,
   "id": "1c2c28f5",
   "metadata": {
    "execution": {
     "iopub.execute_input": "2024-12-22T17:06:11.519028Z",
     "iopub.status.busy": "2024-12-22T17:06:11.518643Z",
     "iopub.status.idle": "2024-12-22T17:06:11.846425Z",
     "shell.execute_reply": "2024-12-22T17:06:11.845215Z"
    },
    "papermill": {
     "duration": 0.339277,
     "end_time": "2024-12-22T17:06:11.848584",
     "exception": false,
     "start_time": "2024-12-22T17:06:11.509307",
     "status": "completed"
    },
    "tags": []
   },
   "outputs": [
    {
     "name": "stdout",
     "output_type": "stream",
     "text": [
      "[nltk_data] Downloading package wordnet to /usr/share/nltk_data...\n",
      "[nltk_data]   Package wordnet is already up-to-date!\n",
      "[nltk_data] Downloading package wordnet to /usr/share/nltk_data...\n",
      "[nltk_data]   Package wordnet is already up-to-date!\n"
     ]
    }
   ],
   "source": [
    "# Download necessary NLTK data (only need to do this once)\n",
    "try:\n",
    "    stopwords.words('english')\n",
    "except LookupError:\n",
    "    nltk.download('stopwords')\n",
    "try:\n",
    "    WordNetLemmatizer().lemmatize('test')\n",
    "except LookupError:\n",
    "    nltk.download('wordnet')\n",
    "\n",
    "# Download WordNet if not already available\n",
    "try:\n",
    "    nltk.data.find('corpora/wordnet.zip')\n",
    "except LookupError:\n",
    "    nltk.download('wordnet')"
   ]
  },
  {
   "cell_type": "markdown",
   "id": "fb2546de",
   "metadata": {
    "papermill": {
     "duration": 0.007817,
     "end_time": "2024-12-22T17:06:11.864433",
     "exception": false,
     "start_time": "2024-12-22T17:06:11.856616",
     "status": "completed"
    },
    "tags": []
   },
   "source": [
    "Preprocessing Setup\n",
    "The code sets up key components for text preprocessing, such as defining stopwords and initializing a lemmatizer."
   ]
  },
  {
   "cell_type": "code",
   "execution_count": 14,
   "id": "051be4f5",
   "metadata": {
    "execution": {
     "iopub.execute_input": "2024-12-22T17:06:11.881696Z",
     "iopub.status.busy": "2024-12-22T17:06:11.881297Z",
     "iopub.status.idle": "2024-12-22T17:06:11.886709Z",
     "shell.execute_reply": "2024-12-22T17:06:11.885719Z"
    },
    "papermill": {
     "duration": 0.016189,
     "end_time": "2024-12-22T17:06:11.888643",
     "exception": false,
     "start_time": "2024-12-22T17:06:11.872454",
     "status": "completed"
    },
    "tags": []
   },
   "outputs": [],
   "source": [
    "# Preprocessing functions\n",
    "stop_words = set(stopwords.words('english'))  # Define stop words for text processing\n",
    "lemmatizer = WordNetLemmatizer()  # Initialize lemmatizer for stemming words to their root form"
   ]
  },
  {
   "cell_type": "markdown",
   "id": "d02e1dd3",
   "metadata": {
    "papermill": {
     "duration": 0.007383,
     "end_time": "2024-12-22T17:06:11.903900",
     "exception": false,
     "start_time": "2024-12-22T17:06:11.896517",
     "status": "completed"
    },
    "tags": []
   },
   "source": [
    "Text Preprocessing Functions"
   ]
  },
  {
   "cell_type": "code",
   "execution_count": null,
   "id": "d66b09e5",
   "metadata": {
    "execution": {
     "iopub.execute_input": "2024-12-22T17:06:11.920899Z",
     "iopub.status.busy": "2024-12-22T17:06:11.920507Z",
     "iopub.status.idle": "2024-12-22T17:06:11.926965Z",
     "shell.execute_reply": "2024-12-22T17:06:11.925970Z"
    },
    "papermill": {
     "duration": 0.017421,
     "end_time": "2024-12-22T17:06:11.928901",
     "exception": false,
     "start_time": "2024-12-22T17:06:11.911480",
     "status": "completed"
    },
    "tags": []
   },
   "outputs": [],
   "source": [
    "def remove_stopwords(text):\n",
    "    \"\"\"Remove stopwords from a given text.\"\"\"\n",
    "    if isinstance(text, str):  # Check if the input is a string\n",
    "        words = [word for word in text.split() if word.lower() not in stop_words]\n",
    "        return \" \".join(words)  # Join words back into a string\n",
    "    return \"\"\n",
    "\n",
    "def lemmatize_text(text):\n",
    "    \"\"\"Lemmatize the words in a given text.\"\"\"\n",
    "    if isinstance(text, str):  # Check if the input is a string\n",
    "        words = [lemmatizer.lemmatize(word) for word in text.split()]\n",
    "        return \" \".join(words)  # Join lemmatized words back into a string\n",
    "    return \"\""
   ]
  },
  {
   "cell_type": "markdown",
   "id": "c484e281",
   "metadata": {
    "papermill": {
     "duration": 0.007384,
     "end_time": "2024-12-22T17:06:11.944246",
     "exception": false,
     "start_time": "2024-12-22T17:06:11.936862",
     "status": "completed"
    },
    "tags": []
   },
   "source": [
    "What is Jaccard Similarity?\n",
    "The Jaccard similarity is a statistical measure used to determine how similar two sets are. It compares the number of shared elements between the sets to the total number of unique elements.\n",
    "\n",
    "Formula:\n",
    "\n",
    "Jaccard Similarity = Size of Intersection / Size of Union"
   ]
  },
  {
   "cell_type": "code",
   "execution_count": 16,
   "id": "4138833a",
   "metadata": {
    "execution": {
     "iopub.execute_input": "2024-12-22T17:06:11.961207Z",
     "iopub.status.busy": "2024-12-22T17:06:11.960809Z",
     "iopub.status.idle": "2024-12-22T17:06:11.966017Z",
     "shell.execute_reply": "2024-12-22T17:06:11.965006Z"
    },
    "papermill": {
     "duration": 0.016023,
     "end_time": "2024-12-22T17:06:11.967962",
     "exception": false,
     "start_time": "2024-12-22T17:06:11.951939",
     "status": "completed"
    },
    "tags": []
   },
   "outputs": [],
   "source": [
    "def jaccard_similarity(set1, set2):\n",
    "    \"\"\"Calculate Jaccard similarity between two sets.\"\"\"\n",
    "    intersection = len(set1.intersection(set2))  # Size of intersection\n",
    "    union = len(set1.union(set2))  # Size of union\n",
    "    return intersection / union if union != 0 else 0  # Avoid division by zero "
   ]
  },
  {
   "cell_type": "markdown",
   "id": "2fe2753c",
   "metadata": {
    "papermill": {
     "duration": 0.007344,
     "end_time": "2024-12-22T17:06:11.983260",
     "exception": false,
     "start_time": "2024-12-22T17:06:11.975916",
     "status": "completed"
    },
    "tags": []
   },
   "source": [
    "The safe_literal_eval function safely evaluates strings that may represent data structures like lists, tuples, or dictionaries. If the value is a string, it attempts to parse it using literal_eval, and if that fails, it splits the string by commas into a list. If the value is None or NaN, it returns an empty list. For other types of input, the function simply returns the value as-is. The function is applied to the keywords and genres columns of a DataFrame, ensuring that string representations of lists or similar structures are properly converted into Python objects."
   ]
  },
  {
   "cell_type": "code",
   "execution_count": 17,
   "id": "0f248471",
   "metadata": {
    "execution": {
     "iopub.execute_input": "2024-12-22T17:06:11.999827Z",
     "iopub.status.busy": "2024-12-22T17:06:11.999459Z",
     "iopub.status.idle": "2024-12-22T17:06:28.703862Z",
     "shell.execute_reply": "2024-12-22T17:06:28.702667Z"
    },
    "papermill": {
     "duration": 16.715578,
     "end_time": "2024-12-22T17:06:28.706352",
     "exception": false,
     "start_time": "2024-12-22T17:06:11.990774",
     "status": "completed"
    },
    "tags": []
   },
   "outputs": [],
   "source": [
    "from ast import literal_eval\n",
    "import numpy as np\n",
    "\n",
    "def safe_literal_eval(value):\n",
    "    \"\"\"Safely evaluate a string to its literal representation.\"\"\"\n",
    "    if isinstance(value, str):  # Check if it's a string\n",
    "        try:\n",
    "            # Try to evaluate the string as a literal (e.g., list, tuple, dict)\n",
    "            return literal_eval(value)\n",
    "        except (ValueError, SyntaxError):\n",
    "            # If evaluation fails, return the string as a list by splitting on commas\n",
    "            return value.split(',') if value else []\n",
    "    elif isinstance(value, float) and np.isnan(value):  # Handle NaN values\n",
    "        return []  # Return an empty list for NaN values\n",
    "    elif value is None:  # Handle None explicitly\n",
    "        return []  # Return an empty list for None\n",
    "    else:\n",
    "        return value  # Return the value as-is if it's already in the correct format\n",
    "\n",
    "# Apply the function to the specified columns\n",
    "features = ['keywords', 'genres']\n",
    "for feature in features:\n",
    "    df[feature] = df[feature].apply(safe_literal_eval)"
   ]
  },
  {
   "cell_type": "code",
   "execution_count": 18,
   "id": "2d01c422",
   "metadata": {
    "execution": {
     "iopub.execute_input": "2024-12-22T17:06:28.724982Z",
     "iopub.status.busy": "2024-12-22T17:06:28.724047Z",
     "iopub.status.idle": "2024-12-22T17:06:32.172267Z",
     "shell.execute_reply": "2024-12-22T17:06:32.171037Z"
    },
    "papermill": {
     "duration": 3.459813,
     "end_time": "2024-12-22T17:06:32.174873",
     "exception": false,
     "start_time": "2024-12-22T17:06:28.715060",
     "status": "completed"
    },
    "tags": []
   },
   "outputs": [],
   "source": [
    "# Function to convert all strings to lower case and strip names of spaces\n",
    "def clean_data(x):\n",
    "    if isinstance(x, list):\n",
    "        return [str.lower(i.replace(\" \", \"\")) for i in x]\n",
    "    else:\n",
    "        return ''\n",
    "        \n",
    "\n",
    "# Apply clean_data function to your features.\n",
    "features = ['keywords', 'genres']\n",
    "\n",
    "for feature in features:\n",
    "    df[feature] = df[feature].apply(clean_data)"
   ]
  },
  {
   "cell_type": "markdown",
   "id": "4c61d723",
   "metadata": {
    "papermill": {
     "duration": 0.007949,
     "end_time": "2024-12-22T17:06:32.191529",
     "exception": false,
     "start_time": "2024-12-22T17:06:32.183580",
     "status": "completed"
    },
    "tags": []
   },
   "source": [
    "It first limits the data to the first 25,000 (RAM issue) rows for efficiency and fills missing values in the overview and keywords columns with empty strings. Then, it uses TF-IDF vectorization on the overviews and CountVectorizer on the keywords (after ensuring the keywords are properly formatted as strings). Cosine similarity is computed for both overviews and keywords to measure similarity between movies. This setup allows for the creation of a recommendation system by comparing movies based on either their content or their keywords."
   ]
  },
  {
   "cell_type": "code",
   "execution_count": 19,
   "id": "1cd86506",
   "metadata": {
    "execution": {
     "iopub.execute_input": "2024-12-22T17:06:32.208881Z",
     "iopub.status.busy": "2024-12-22T17:06:32.208492Z",
     "iopub.status.idle": "2024-12-22T17:06:53.270279Z",
     "shell.execute_reply": "2024-12-22T17:06:53.269390Z"
    },
    "papermill": {
     "duration": 21.073067,
     "end_time": "2024-12-22T17:06:53.272586",
     "exception": false,
     "start_time": "2024-12-22T17:06:32.199519",
     "status": "completed"
    },
    "tags": []
   },
   "outputs": [],
   "source": [
    "df = df[:25000]\n",
    "\n",
    "# Import necessary libraries\n",
    "from sklearn.feature_extraction.text import TfidfVectorizer, CountVectorizer\n",
    "from sklearn.metrics.pairwise import cosine_similarity\n",
    "import pandas as pd\n",
    "\n",
    "# Assuming you already have 'df' as your DataFrame\n",
    "# Handle missing values in overview and keywords columns\n",
    "df['overview'] = df['overview'].fillna('')  # Replace NaN in overview\n",
    "df['keywords'] = df['keywords'].fillna('')  # Replace NaN in keywords\n",
    "\n",
    "# Feature Extraction\n",
    "# Create TF-IDF matrix for movie overviews\n",
    "tfidf_overview = TfidfVectorizer(stop_words='english')\n",
    "tfidf_overview_matrix = tfidf_overview.fit_transform(df['overview'])\n",
    "\n",
    "# Convert keywords into strings (if they are lists) and create a TF-IDF matrix for keywords\n",
    "# Ensure keywords are properly joined into a string for vectorization\n",
    "keywords_ = [' '.join(keywords) if isinstance(keywords, list) else keywords for keywords in df['keywords']]\n",
    "vector = CountVectorizer(stop_words='english')\n",
    "vector_keywords_matrix = vector.fit_transform(keywords_)\n",
    "\n",
    "# Extract genres and titles as lists for similarity computation\n",
    "movie_genres = df['genres'].tolist()\n",
    "movie_titles = df['title'].tolist()\n",
    "\n",
    "# Calculate cosine similarity for both overview and keywords\n",
    "cosine_sim_overview = cosine_similarity(tfidf_overview_matrix)\n",
    "cosine_sim_keywords = cosine_similarity(vector_keywords_matrix)"
   ]
  },
  {
   "cell_type": "markdown",
   "id": "4b2e661b",
   "metadata": {
    "papermill": {
     "duration": 0.007751,
     "end_time": "2024-12-22T17:06:53.288750",
     "exception": false,
     "start_time": "2024-12-22T17:06:53.280999",
     "status": "completed"
    },
    "tags": []
   },
   "source": [
    "The combined_similarity function calculates the similarity between two movies by considering three factors: genres (using Jaccard similarity), overviews (using cosine similarity), and keywords (also using cosine similarity). Each factor's contribution is weighted according to specified parameters (genre_weight, overview_weight, and keyword_weight). The get_recommendations function finds the index of the movie title in the dataset and computes its similarity to all other movies using the combined_similarity function. It then sorts the movies by their similarity scores and returns the top N recommendations. This setup allows for personalized movie recommendations by considering multiple attributes of each movie."
   ]
  },
  {
   "cell_type": "code",
   "execution_count": 20,
   "id": "f8f23359",
   "metadata": {
    "execution": {
     "iopub.execute_input": "2024-12-22T17:06:53.306457Z",
     "iopub.status.busy": "2024-12-22T17:06:53.306059Z",
     "iopub.status.idle": "2024-12-22T17:06:53.311964Z",
     "shell.execute_reply": "2024-12-22T17:06:53.311006Z"
    },
    "papermill": {
     "duration": 0.017132,
     "end_time": "2024-12-22T17:06:53.313941",
     "exception": false,
     "start_time": "2024-12-22T17:06:53.296809",
     "status": "completed"
    },
    "tags": []
   },
   "outputs": [],
   "source": [
    "def combined_similarity(movie1_index, movie2_index, genre_weight=0.2, overview_weight=0.5, keyword_weight=0.3):\n",
    "    \"\"\"\n",
    "    Combine similarity scores from genres, overview, and keywords with adjustable weights.\n",
    "    \"\"\"\n",
    "    genre_sim = jaccard_similarity(set(movie_genres[movie1_index]), set(movie_genres[movie2_index]))  # Jaccard similarity for genres\n",
    "    overview_sim = cosine_sim_overview[movie1_index, movie2_index]  # Cosine similarity for overviews\n",
    "    keyword_sim = cosine_sim_keywords[movie1_index, movie2_index]  # Cosine similarity for keywords\n",
    "    return (genre_weight * genre_sim) + (overview_weight * overview_sim) + (keyword_weight * keyword_sim)  # Weighted sum of similarities"
   ]
  },
  {
   "cell_type": "code",
   "execution_count": null,
   "id": "ec369407",
   "metadata": {
    "execution": {
     "iopub.execute_input": "2024-12-22T17:06:53.331785Z",
     "iopub.status.busy": "2024-12-22T17:06:53.331032Z",
     "iopub.status.idle": "2024-12-22T17:06:53.338160Z",
     "shell.execute_reply": "2024-12-22T17:06:53.337147Z"
    },
    "papermill": {
     "duration": 0.018086,
     "end_time": "2024-12-22T17:06:53.340084",
     "exception": false,
     "start_time": "2024-12-22T17:06:53.321998",
     "status": "completed"
    },
    "tags": []
   },
   "outputs": [],
   "source": [
    "def get_recommendations(movie_title, top_n=10):\n",
    "    \"\"\"\n",
    "    Get top N recommendations for a given movie title based on combined similarity scores.\n",
    "    \"\"\"\n",
    "    # Check if the input is a string\n",
    "    if not isinstance(movie_title, str):\n",
    "        return \"Error: Movie title must be a string.\"\n",
    "\n",
    "    try:\n",
    "        movie_index = movie_titles.index(movie_title)  # Find index of the given movie\n",
    "    except ValueError:\n",
    "        return f\"Error: '{movie_title}' not found in the dataset.\"  # Handle case when the movie is not in the dataset\n",
    "    \n",
    "    similarities = [(i, combined_similarity(movie_index, i)) for i in range(len(movie_titles)) if i != movie_index]  # Calculate similarity for all other movies\n",
    "    similarities.sort(key=lambda x: x[1], reverse=True)  # Sort movies by similarity score in descending order\n",
    "    \n",
    "    print(f\"\\nRecommendations for '{movie_title}':\")\n",
    "    for i, (movie, sim) in enumerate(similarities[:top_n], 1):\n",
    "        print(f\"{i}. Movie: {movie_titles[movie]}, Similarity: {sim}\")"
   ]
  },
  {
   "cell_type": "code",
   "execution_count": 22,
   "id": "9a11e1be",
   "metadata": {
    "execution": {
     "iopub.execute_input": "2024-12-22T17:06:53.358043Z",
     "iopub.status.busy": "2024-12-22T17:06:53.357155Z",
     "iopub.status.idle": "2024-12-22T17:06:53.434720Z",
     "shell.execute_reply": "2024-12-22T17:06:53.433669Z"
    },
    "papermill": {
     "duration": 0.089035,
     "end_time": "2024-12-22T17:06:53.437125",
     "exception": false,
     "start_time": "2024-12-22T17:06:53.348090",
     "status": "completed"
    },
    "tags": []
   },
   "outputs": [
    {
     "name": "stdout",
     "output_type": "stream",
     "text": [
      "\n",
      "Recommendations for 'The Dark Knight Rises':\n",
      "1. Movie: The Dark Knight, Similarity: 0.44367078129061277\n",
      "2. Movie: Batman Begins, Similarity: 0.3312319791073811\n",
      "3. Movie: Batman: The Long Halloween, Part One, Similarity: 0.31948801598275717\n",
      "4. Movie: Batman: The Long Halloween, Part Two, Similarity: 0.2988531543167315\n",
      "5. Movie: Batman vs. Two-Face, Similarity: 0.2820051833757711\n",
      "6. Movie: The Siege, Similarity: 0.25485826749439033\n",
      "7. Movie: The Batman, Similarity: 0.25241304745002513\n",
      "8. Movie: Class of 1984, Similarity: 0.24245820935684362\n",
      "9. Movie: The Negotiator, Similarity: 0.23901814723701992\n",
      "10. Movie: Double Impact, Similarity: 0.23857391239249676\n",
      "None\n",
      "Error: 'Non Existent Movie' not found in the dataset.\n",
      "Error: Movie title must be a string.\n"
     ]
    }
   ],
   "source": [
    "# Example Usage\n",
    "recommendations = get_recommendations('The Dark Knight Rises')  # Get recommendations for 'The Dark Knight Rises'\n",
    "print(recommendations)\n",
    "\n",
    "recommendations = get_recommendations('Non Existent Movie')  # Test with a movie not in the dataset\n",
    "print(recommendations)\n",
    "\n",
    "recommendations = get_recommendations(12345)  # Test with a non-string input\n",
    "print(recommendations)"
   ]
  },
  {
   "cell_type": "markdown",
   "id": "5e13a0e1",
   "metadata": {
    "papermill": {
     "duration": 0.007597,
     "end_time": "2024-12-22T17:06:53.453058",
     "exception": false,
     "start_time": "2024-12-22T17:06:53.445461",
     "status": "completed"
    },
    "tags": []
   },
   "source": [
    "# Thank you "
   ]
  },
  {
   "cell_type": "code",
   "execution_count": null,
   "id": "699faee6",
   "metadata": {
    "papermill": {
     "duration": 0.007516,
     "end_time": "2024-12-22T17:06:53.468641",
     "exception": false,
     "start_time": "2024-12-22T17:06:53.461125",
     "status": "completed"
    },
    "tags": []
   },
   "outputs": [],
   "source": []
  }
 ],
 "metadata": {
  "kaggle": {
   "accelerator": "none",
   "dataSources": [
    {
     "datasetId": 3816617,
     "sourceId": 10269292,
     "sourceType": "datasetVersion"
    }
   ],
   "dockerImageVersionId": 30804,
   "isGpuEnabled": false,
   "isInternetEnabled": true,
   "language": "python",
   "sourceType": "notebook"
  },
  "kernelspec": {
   "display_name": "venv (3.13.5)",
   "language": "python",
   "name": "python3"
  },
  "language_info": {
   "codemirror_mode": {
    "name": "ipython",
    "version": 3
   },
   "file_extension": ".py",
   "mimetype": "text/x-python",
   "name": "python",
   "nbconvert_exporter": "python",
   "pygments_lexer": "ipython3",
   "version": "3.13.5"
  },
  "papermill": {
   "default_parameters": {},
   "duration": 82.322187,
   "end_time": "2024-12-22T17:06:55.904182",
   "environment_variables": {},
   "exception": null,
   "input_path": "__notebook__.ipynb",
   "output_path": "__notebook__.ipynb",
   "parameters": {},
   "start_time": "2024-12-22T17:05:33.581995",
   "version": "2.6.0"
  }
 },
 "nbformat": 4,
 "nbformat_minor": 5
}
