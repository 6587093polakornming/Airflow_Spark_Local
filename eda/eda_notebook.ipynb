{
 "cells": [
  {
   "cell_type": "markdown",
   "id": "6dd4d27a",
   "metadata": {},
   "source": [
    "# EDA Full TMDB Movies Dataset 2024 Analysis"
   ]
  },
  {
   "cell_type": "markdown",
   "id": "99d51d11",
   "metadata": {},
   "source": [
    "The TMDb (The Movie Database) is a comprehensive movie database that provides information about movies, including details like titles, ratings, release dates, revenue, genres, and much more.\n",
    "\n",
    "This dataset contains a collection of 1,000,000 movies from the TMDB database."
   ]
  },
  {
   "cell_type": "markdown",
   "id": "34575ab0",
   "metadata": {},
   "source": [
    "Link: https://www.kaggle.com/datasets/asaniczka/tmdb-movies-dataset-2023-930k-movies/code?datasetId=3816617&sortBy=voteCount"
   ]
  },
  {
   "cell_type": "code",
   "execution_count": 1,
   "id": "b00c506a",
   "metadata": {},
   "outputs": [
    {
     "name": "stderr",
     "output_type": "stream",
     "text": [
      "d:\\Github_ThisPC\\Airflow_Spark_Local\\eda\\venv\\Lib\\site-packages\\tqdm\\auto.py:21: TqdmWarning: IProgress not found. Please update jupyter and ipywidgets. See https://ipywidgets.readthedocs.io/en/stable/user_install.html\n",
      "  from .autonotebook import tqdm as notebook_tqdm\n"
     ]
    }
   ],
   "source": [
    "# Install dependencies as needed:\n",
    "# pip install kagglehub[pandas-datasets]\n",
    "import kagglehub\n",
    "from kagglehub import KaggleDatasetAdapter\n",
    "import numpy as np \n",
    "import pandas as pd "
   ]
  },
  {
   "cell_type": "code",
   "execution_count": null,
   "id": "bd59f108",
   "metadata": {},
   "outputs": [
    {
     "name": "stderr",
     "output_type": "stream",
     "text": [
      "d:\\Github_ThisPC\\Airflow_Spark_Local\\eda\\venv\\Lib\\site-packages\\tqdm\\auto.py:21: TqdmWarning: IProgress not found. Please update jupyter and ipywidgets. See https://ipywidgets.readthedocs.io/en/stable/user_install.html\n",
      "  from .autonotebook import tqdm as notebook_tqdm\n",
      "C:\\Users\\User\\AppData\\Local\\Temp\\ipykernel_19912\\706151263.py:10: DeprecationWarning: load_dataset is deprecated and will be removed in a future version.\n",
      "  df = kagglehub.load_dataset(\n"
     ]
    },
    {
     "name": "stdout",
     "output_type": "stream",
     "text": [
      "Resuming download from 357564416 bytes (201876389 bytes left)...\n",
      "Resuming download from https://www.kaggle.com/api/v1/datasets/download/asaniczka/tmdb-movies-dataset-2023-930k-movies?dataset_version_number=597&file_name=TMDB_movie_dataset_v11.csv (357564416/559440805) bytes left.\n"
     ]
    },
    {
     "name": "stderr",
     "output_type": "stream",
     "text": [
      "100%|██████████| 534M/534M [02:02<00:00, 1.64MB/s]\n"
     ]
    }
   ],
   "source": [
    "# Set the path to the file you'd like to load\n",
    "file_path = \"TMDB_movie_dataset_v11.csv\"\n",
    "\n",
    "# Load the latest version\n",
    "try:\n",
    "  df = kagglehub.load_dataset(\n",
    "    KaggleDatasetAdapter.PANDAS,\n",
    "    \"asaniczka/tmdb-movies-dataset-2023-930k-movies\",\n",
    "    file_path,\n",
    "    # Provide any additional arguments like \n",
    "    # sql_query or pandas_kwargs. See the \n",
    "    # documenation for more information:\n",
    "    # https://github.com/Kaggle/kagglehub/blob/main/README.md#kaggledatasetadapterpandas\n",
    "  )\n",
    "except kagglehub.KaggleHubError as e:\n",
    "  print(f\"Error loading dataset: {e}\")\n",
    "  df = pd.read_csv(file_path)\n",
    "  # Display the first few rows of the DataFrame"
   ]
  },
  {
   "cell_type": "code",
   "execution_count": 42,
   "id": "a55ae4fd",
   "metadata": {},
   "outputs": [],
   "source": [
    "file_path = \"TMDB_movie_dataset_v11.csv\"\n",
    "df = pd.read_csv(file_path)"
   ]
  },
  {
   "cell_type": "code",
   "execution_count": 43,
   "id": "ad2398bb",
   "metadata": {},
   "outputs": [
    {
     "data": {
      "text/html": [
       "<div>\n",
       "<style scoped>\n",
       "    .dataframe tbody tr th:only-of-type {\n",
       "        vertical-align: middle;\n",
       "    }\n",
       "\n",
       "    .dataframe tbody tr th {\n",
       "        vertical-align: top;\n",
       "    }\n",
       "\n",
       "    .dataframe thead th {\n",
       "        text-align: right;\n",
       "    }\n",
       "</style>\n",
       "<table border=\"1\" class=\"dataframe\">\n",
       "  <thead>\n",
       "    <tr style=\"text-align: right;\">\n",
       "      <th></th>\n",
       "      <th>id</th>\n",
       "      <th>title</th>\n",
       "      <th>vote_average</th>\n",
       "      <th>vote_count</th>\n",
       "      <th>status</th>\n",
       "      <th>release_date</th>\n",
       "      <th>revenue</th>\n",
       "      <th>runtime</th>\n",
       "      <th>adult</th>\n",
       "      <th>backdrop_path</th>\n",
       "      <th>...</th>\n",
       "      <th>original_title</th>\n",
       "      <th>overview</th>\n",
       "      <th>popularity</th>\n",
       "      <th>poster_path</th>\n",
       "      <th>tagline</th>\n",
       "      <th>genres</th>\n",
       "      <th>production_companies</th>\n",
       "      <th>production_countries</th>\n",
       "      <th>spoken_languages</th>\n",
       "      <th>keywords</th>\n",
       "    </tr>\n",
       "  </thead>\n",
       "  <tbody>\n",
       "    <tr>\n",
       "      <th>0</th>\n",
       "      <td>27205</td>\n",
       "      <td>Inception</td>\n",
       "      <td>8.364</td>\n",
       "      <td>34495</td>\n",
       "      <td>Released</td>\n",
       "      <td>2010-07-15</td>\n",
       "      <td>825532764</td>\n",
       "      <td>148</td>\n",
       "      <td>False</td>\n",
       "      <td>/8ZTVqvKDQ8emSGUEMjsS4yHAwrp.jpg</td>\n",
       "      <td>...</td>\n",
       "      <td>Inception</td>\n",
       "      <td>Cobb, a skilled thief who commits corporate es...</td>\n",
       "      <td>83.952</td>\n",
       "      <td>/oYuLEt3zVCKq57qu2F8dT7NIa6f.jpg</td>\n",
       "      <td>Your mind is the scene of the crime.</td>\n",
       "      <td>Action, Science Fiction, Adventure</td>\n",
       "      <td>Legendary Pictures, Syncopy, Warner Bros. Pict...</td>\n",
       "      <td>United Kingdom, United States of America</td>\n",
       "      <td>English, French, Japanese, Swahili</td>\n",
       "      <td>rescue, mission, dream, airplane, paris, franc...</td>\n",
       "    </tr>\n",
       "    <tr>\n",
       "      <th>1</th>\n",
       "      <td>157336</td>\n",
       "      <td>Interstellar</td>\n",
       "      <td>8.417</td>\n",
       "      <td>32571</td>\n",
       "      <td>Released</td>\n",
       "      <td>2014-11-05</td>\n",
       "      <td>701729206</td>\n",
       "      <td>169</td>\n",
       "      <td>False</td>\n",
       "      <td>/pbrkL804c8yAv3zBZR4QPEafpAR.jpg</td>\n",
       "      <td>...</td>\n",
       "      <td>Interstellar</td>\n",
       "      <td>The adventures of a group of explorers who mak...</td>\n",
       "      <td>140.241</td>\n",
       "      <td>/gEU2QniE6E77NI6lCU6MxlNBvIx.jpg</td>\n",
       "      <td>Mankind was born on Earth. It was never meant ...</td>\n",
       "      <td>Adventure, Drama, Science Fiction</td>\n",
       "      <td>Legendary Pictures, Syncopy, Lynda Obst Produc...</td>\n",
       "      <td>United Kingdom, United States of America</td>\n",
       "      <td>English</td>\n",
       "      <td>rescue, future, spacecraft, race against time,...</td>\n",
       "    </tr>\n",
       "    <tr>\n",
       "      <th>2</th>\n",
       "      <td>155</td>\n",
       "      <td>The Dark Knight</td>\n",
       "      <td>8.512</td>\n",
       "      <td>30619</td>\n",
       "      <td>Released</td>\n",
       "      <td>2008-07-16</td>\n",
       "      <td>1004558444</td>\n",
       "      <td>152</td>\n",
       "      <td>False</td>\n",
       "      <td>/nMKdUUepR0i5zn0y1T4CsSB5chy.jpg</td>\n",
       "      <td>...</td>\n",
       "      <td>The Dark Knight</td>\n",
       "      <td>Batman raises the stakes in his war on crime. ...</td>\n",
       "      <td>130.643</td>\n",
       "      <td>/qJ2tW6WMUDux911r6m7haRef0WH.jpg</td>\n",
       "      <td>Welcome to a world without rules.</td>\n",
       "      <td>Drama, Action, Crime, Thriller</td>\n",
       "      <td>DC Comics, Legendary Pictures, Syncopy, Isobel...</td>\n",
       "      <td>United Kingdom, United States of America</td>\n",
       "      <td>English, Mandarin</td>\n",
       "      <td>joker, sadism, chaos, secret identity, crime f...</td>\n",
       "    </tr>\n",
       "    <tr>\n",
       "      <th>3</th>\n",
       "      <td>19995</td>\n",
       "      <td>Avatar</td>\n",
       "      <td>7.573</td>\n",
       "      <td>29815</td>\n",
       "      <td>Released</td>\n",
       "      <td>2009-12-15</td>\n",
       "      <td>2923706026</td>\n",
       "      <td>162</td>\n",
       "      <td>False</td>\n",
       "      <td>/vL5LR6WdxWPjLPFRLe133jXWsh5.jpg</td>\n",
       "      <td>...</td>\n",
       "      <td>Avatar</td>\n",
       "      <td>In the 22nd century, a paraplegic Marine is di...</td>\n",
       "      <td>79.932</td>\n",
       "      <td>/kyeqWdyUXW608qlYkRqosgbbJyK.jpg</td>\n",
       "      <td>Enter the world of Pandora.</td>\n",
       "      <td>Action, Adventure, Fantasy, Science Fiction</td>\n",
       "      <td>Dune Entertainment, Lightstorm Entertainment, ...</td>\n",
       "      <td>United States of America, United Kingdom</td>\n",
       "      <td>English, Spanish</td>\n",
       "      <td>future, society, culture clash, space travel, ...</td>\n",
       "    </tr>\n",
       "    <tr>\n",
       "      <th>4</th>\n",
       "      <td>24428</td>\n",
       "      <td>The Avengers</td>\n",
       "      <td>7.710</td>\n",
       "      <td>29166</td>\n",
       "      <td>Released</td>\n",
       "      <td>2012-04-25</td>\n",
       "      <td>1518815515</td>\n",
       "      <td>143</td>\n",
       "      <td>False</td>\n",
       "      <td>/9BBTo63ANSmhC4e6r62OJFuK2GL.jpg</td>\n",
       "      <td>...</td>\n",
       "      <td>The Avengers</td>\n",
       "      <td>When an unexpected enemy emerges and threatens...</td>\n",
       "      <td>98.082</td>\n",
       "      <td>/RYMX2wcKCBAr24UyPD7xwmjaTn.jpg</td>\n",
       "      <td>Some assembly required.</td>\n",
       "      <td>Science Fiction, Action, Adventure</td>\n",
       "      <td>Marvel Studios</td>\n",
       "      <td>United States of America</td>\n",
       "      <td>English, Hindi, Russian</td>\n",
       "      <td>new york city, superhero, shield, based on com...</td>\n",
       "    </tr>\n",
       "  </tbody>\n",
       "</table>\n",
       "<p>5 rows × 24 columns</p>\n",
       "</div>"
      ],
      "text/plain": [
       "       id            title  vote_average  vote_count    status release_date  \\\n",
       "0   27205        Inception         8.364       34495  Released   2010-07-15   \n",
       "1  157336     Interstellar         8.417       32571  Released   2014-11-05   \n",
       "2     155  The Dark Knight         8.512       30619  Released   2008-07-16   \n",
       "3   19995           Avatar         7.573       29815  Released   2009-12-15   \n",
       "4   24428     The Avengers         7.710       29166  Released   2012-04-25   \n",
       "\n",
       "      revenue  runtime  adult                     backdrop_path  ...  \\\n",
       "0   825532764      148  False  /8ZTVqvKDQ8emSGUEMjsS4yHAwrp.jpg  ...   \n",
       "1   701729206      169  False  /pbrkL804c8yAv3zBZR4QPEafpAR.jpg  ...   \n",
       "2  1004558444      152  False  /nMKdUUepR0i5zn0y1T4CsSB5chy.jpg  ...   \n",
       "3  2923706026      162  False  /vL5LR6WdxWPjLPFRLe133jXWsh5.jpg  ...   \n",
       "4  1518815515      143  False  /9BBTo63ANSmhC4e6r62OJFuK2GL.jpg  ...   \n",
       "\n",
       "    original_title                                           overview  \\\n",
       "0        Inception  Cobb, a skilled thief who commits corporate es...   \n",
       "1     Interstellar  The adventures of a group of explorers who mak...   \n",
       "2  The Dark Knight  Batman raises the stakes in his war on crime. ...   \n",
       "3           Avatar  In the 22nd century, a paraplegic Marine is di...   \n",
       "4     The Avengers  When an unexpected enemy emerges and threatens...   \n",
       "\n",
       "  popularity                       poster_path  \\\n",
       "0     83.952  /oYuLEt3zVCKq57qu2F8dT7NIa6f.jpg   \n",
       "1    140.241  /gEU2QniE6E77NI6lCU6MxlNBvIx.jpg   \n",
       "2    130.643  /qJ2tW6WMUDux911r6m7haRef0WH.jpg   \n",
       "3     79.932  /kyeqWdyUXW608qlYkRqosgbbJyK.jpg   \n",
       "4     98.082   /RYMX2wcKCBAr24UyPD7xwmjaTn.jpg   \n",
       "\n",
       "                                             tagline  \\\n",
       "0               Your mind is the scene of the crime.   \n",
       "1  Mankind was born on Earth. It was never meant ...   \n",
       "2                  Welcome to a world without rules.   \n",
       "3                        Enter the world of Pandora.   \n",
       "4                            Some assembly required.   \n",
       "\n",
       "                                        genres  \\\n",
       "0           Action, Science Fiction, Adventure   \n",
       "1            Adventure, Drama, Science Fiction   \n",
       "2               Drama, Action, Crime, Thriller   \n",
       "3  Action, Adventure, Fantasy, Science Fiction   \n",
       "4           Science Fiction, Action, Adventure   \n",
       "\n",
       "                                production_companies  \\\n",
       "0  Legendary Pictures, Syncopy, Warner Bros. Pict...   \n",
       "1  Legendary Pictures, Syncopy, Lynda Obst Produc...   \n",
       "2  DC Comics, Legendary Pictures, Syncopy, Isobel...   \n",
       "3  Dune Entertainment, Lightstorm Entertainment, ...   \n",
       "4                                     Marvel Studios   \n",
       "\n",
       "                       production_countries  \\\n",
       "0  United Kingdom, United States of America   \n",
       "1  United Kingdom, United States of America   \n",
       "2  United Kingdom, United States of America   \n",
       "3  United States of America, United Kingdom   \n",
       "4                  United States of America   \n",
       "\n",
       "                     spoken_languages  \\\n",
       "0  English, French, Japanese, Swahili   \n",
       "1                             English   \n",
       "2                   English, Mandarin   \n",
       "3                    English, Spanish   \n",
       "4             English, Hindi, Russian   \n",
       "\n",
       "                                            keywords  \n",
       "0  rescue, mission, dream, airplane, paris, franc...  \n",
       "1  rescue, future, spacecraft, race against time,...  \n",
       "2  joker, sadism, chaos, secret identity, crime f...  \n",
       "3  future, society, culture clash, space travel, ...  \n",
       "4  new york city, superhero, shield, based on com...  \n",
       "\n",
       "[5 rows x 24 columns]"
      ]
     },
     "execution_count": 43,
     "metadata": {},
     "output_type": "execute_result"
    }
   ],
   "source": [
    "df.head()"
   ]
  },
  {
   "cell_type": "code",
   "execution_count": 44,
   "id": "810ce842",
   "metadata": {},
   "outputs": [
    {
     "data": {
      "text/plain": [
       "(1234214, 24)"
      ]
     },
     "execution_count": 44,
     "metadata": {},
     "output_type": "execute_result"
    }
   ],
   "source": [
    "df.shape"
   ]
  },
  {
   "cell_type": "markdown",
   "id": "158e2170",
   "metadata": {},
   "source": [
    "NOTE: Data is updated quite frequently. It Daily Update. \\\n",
    "https://www.kaggle.com/code/asaniczka/tmdb-movies-daily-updates/notebook"
   ]
  },
  {
   "cell_type": "code",
   "execution_count": 45,
   "id": "3f6fa9db",
   "metadata": {},
   "outputs": [
    {
     "data": {
      "text/plain": [
       "(1234214, 24)"
      ]
     },
     "execution_count": 45,
     "metadata": {},
     "output_type": "execute_result"
    }
   ],
   "source": [
    "# Other Source From local file\n",
    "# df = pd.read_csv(file_path) \n",
    "\n",
    "# Display the first few rows of the DataFrame\n",
    "df.shape"
   ]
  },
  {
   "cell_type": "markdown",
   "id": "1152f404",
   "metadata": {},
   "source": [
    "##  Data Overview \n",
    "- check dimension column name and column type"
   ]
  },
  {
   "cell_type": "code",
   "execution_count": 46,
   "id": "e57d678d",
   "metadata": {},
   "outputs": [
    {
     "name": "stdout",
     "output_type": "stream",
     "text": [
      "<class 'pandas.core.frame.DataFrame'>\n",
      "RangeIndex: 1234214 entries, 0 to 1234213\n",
      "Data columns (total 24 columns):\n",
      " #   Column                Non-Null Count    Dtype  \n",
      "---  ------                --------------    -----  \n",
      " 0   id                    1234214 non-null  int64  \n",
      " 1   title                 1234201 non-null  object \n",
      " 2   vote_average          1234214 non-null  float64\n",
      " 3   vote_count            1234214 non-null  int64  \n",
      " 4   status                1234214 non-null  object \n",
      " 5   release_date          1004288 non-null  object \n",
      " 6   revenue               1234214 non-null  int64  \n",
      " 7   runtime               1234214 non-null  int64  \n",
      " 8   adult                 1234214 non-null  bool   \n",
      " 9   backdrop_path         319770 non-null   object \n",
      " 10  budget                1234214 non-null  int64  \n",
      " 11  homepage              129205 non-null   object \n",
      " 12  imdb_id               625345 non-null   object \n",
      " 13  original_language     1234214 non-null  object \n",
      " 14  original_title        1234201 non-null  object \n",
      " 15  overview              971136 non-null   object \n",
      " 16  popularity            1234214 non-null  float64\n",
      " 17  poster_path           826213 non-null   object \n",
      " 18  tagline               173279 non-null   object \n",
      " 19  genres                720281 non-null   object \n",
      " 20  production_companies  545137 non-null   object \n",
      " 21  production_countries  666546 non-null   object \n",
      " 22  spoken_languages      688617 non-null   object \n",
      " 23  keywords              322322 non-null   object \n",
      "dtypes: bool(1), float64(2), int64(5), object(16)\n",
      "memory usage: 217.8+ MB\n"
     ]
    }
   ],
   "source": [
    "df.info()"
   ]
  },
  {
   "cell_type": "markdown",
   "id": "be2c831a",
   "metadata": {},
   "source": [
    "NOTE:\n",
    "1,234,214 Rows (Date: 02-06-2568) 24 Columns: \n",
    "1. id = Unique identifier for each movie. (type: int)\n",
    "2. title = Title of the movie. (type: str)\n",
    "3. vote_average = Average vote or rating given by viewers. (type: float)\n",
    "4. vote_count = Total count of votes received for the movie. (type: int)\n",
    "5. status = The status of the movie (e.g., Released, Rumored, Post Production, etc.). (type: str)\n",
    "6. release_date = Date when the movie was released. (type: str)\n",
    "7. revenue = Total revenue generated by the movie. (type: int)\n",
    "8. runtime = Duration of the movie in minutes. (type: int)\n",
    "9. adult = Indicates if the movie is suitable only for adult audiences. (type: bool)\n",
    "10. backdrop_path = URL of the backdrop image for the movie. (type: str)\n",
    "11. budget = Budget allocated for the movie. (type: int)\n",
    "12. homepage = Official homepage URL of the movie. (type: str)\n",
    "13. imdb_id = IMDb ID of the movie. (type: str)\n",
    "14. original_language = Original language in which the movie was produced. (type: str)\n",
    "15. original_title = Original title of the movie. (type: str)\n",
    "16. overview = Brief description or summary of the movie. (type: str)\n",
    "17. popularity = Popularity score of the movie. (Unclear from Source not use.) (type: float)\n",
    "18. poster_path = URL of the movie poster image. (type: str)\n",
    "19. tagline = Catchphrase or memorable line associated with the movie. (type: str)\n",
    "20. genres = List of genres the movie belongs to. (type: str)\n",
    "21. production_companies = List of production companies involved in the movie. (type: str)\n",
    "22. production_countries = List of countries involved in the movie production. (type: str)\n",
    "23. spoken_languages = List of languages spoken in the movie. (type: str)\n",
    "24. keywords = Keywords associated with the movie. Do `.split(\", \")` to convert to a list. (type: str)\n",
    "\n"
   ]
  },
  {
   "cell_type": "markdown",
   "id": "6e586a1a",
   "metadata": {},
   "source": [
    "##  Preview Data"
   ]
  },
  {
   "cell_type": "code",
   "execution_count": 47,
   "id": "95ca7ac0",
   "metadata": {},
   "outputs": [
    {
     "name": "stdout",
     "output_type": "stream",
     "text": [
      "\n",
      "Summary Statistics:\n"
     ]
    },
    {
     "data": {
      "text/html": [
       "<div>\n",
       "<style scoped>\n",
       "    .dataframe tbody tr th:only-of-type {\n",
       "        vertical-align: middle;\n",
       "    }\n",
       "\n",
       "    .dataframe tbody tr th {\n",
       "        vertical-align: top;\n",
       "    }\n",
       "\n",
       "    .dataframe thead th {\n",
       "        text-align: right;\n",
       "    }\n",
       "</style>\n",
       "<table border=\"1\" class=\"dataframe\">\n",
       "  <thead>\n",
       "    <tr style=\"text-align: right;\">\n",
       "      <th></th>\n",
       "      <th>id</th>\n",
       "      <th>vote_average</th>\n",
       "      <th>vote_count</th>\n",
       "      <th>revenue</th>\n",
       "      <th>runtime</th>\n",
       "      <th>budget</th>\n",
       "      <th>popularity</th>\n",
       "    </tr>\n",
       "  </thead>\n",
       "  <tbody>\n",
       "    <tr>\n",
       "      <th>count</th>\n",
       "      <td>1234214.000</td>\n",
       "      <td>1234214.000</td>\n",
       "      <td>1234214.000</td>\n",
       "      <td>1234214.000</td>\n",
       "      <td>1234214.000</td>\n",
       "      <td>1234214.000</td>\n",
       "      <td>1234214.000</td>\n",
       "    </tr>\n",
       "    <tr>\n",
       "      <th>mean</th>\n",
       "      <td>796052.664</td>\n",
       "      <td>1.752</td>\n",
       "      <td>17.381</td>\n",
       "      <td>664489.903</td>\n",
       "      <td>46.355</td>\n",
       "      <td>258161.772</td>\n",
       "      <td>1.161</td>\n",
       "    </tr>\n",
       "    <tr>\n",
       "      <th>std</th>\n",
       "      <td>424442.752</td>\n",
       "      <td>2.962</td>\n",
       "      <td>305.703</td>\n",
       "      <td>18311789.739</td>\n",
       "      <td>61.402</td>\n",
       "      <td>5151625.231</td>\n",
       "      <td>7.287</td>\n",
       "    </tr>\n",
       "    <tr>\n",
       "      <th>min</th>\n",
       "      <td>2.000</td>\n",
       "      <td>0.000</td>\n",
       "      <td>0.000</td>\n",
       "      <td>-12.000</td>\n",
       "      <td>-28.000</td>\n",
       "      <td>0.000</td>\n",
       "      <td>0.000</td>\n",
       "    </tr>\n",
       "    <tr>\n",
       "      <th>25%</th>\n",
       "      <td>440146.250</td>\n",
       "      <td>0.000</td>\n",
       "      <td>0.000</td>\n",
       "      <td>0.000</td>\n",
       "      <td>0.000</td>\n",
       "      <td>0.000</td>\n",
       "      <td>0.600</td>\n",
       "    </tr>\n",
       "    <tr>\n",
       "      <th>50%</th>\n",
       "      <td>805078.500</td>\n",
       "      <td>0.000</td>\n",
       "      <td>0.000</td>\n",
       "      <td>0.000</td>\n",
       "      <td>20.000</td>\n",
       "      <td>0.000</td>\n",
       "      <td>0.600</td>\n",
       "    </tr>\n",
       "    <tr>\n",
       "      <th>75%</th>\n",
       "      <td>1175765.750</td>\n",
       "      <td>4.000</td>\n",
       "      <td>1.000</td>\n",
       "      <td>0.000</td>\n",
       "      <td>87.000</td>\n",
       "      <td>0.000</td>\n",
       "      <td>0.845</td>\n",
       "    </tr>\n",
       "    <tr>\n",
       "      <th>max</th>\n",
       "      <td>1491448.000</td>\n",
       "      <td>10.000</td>\n",
       "      <td>34495.000</td>\n",
       "      <td>4999999999.000</td>\n",
       "      <td>14400.000</td>\n",
       "      <td>999999999.000</td>\n",
       "      <td>2994.357</td>\n",
       "    </tr>\n",
       "  </tbody>\n",
       "</table>\n",
       "</div>"
      ],
      "text/plain": [
       "               id  vote_average  vote_count        revenue     runtime  \\\n",
       "count 1234214.000   1234214.000 1234214.000    1234214.000 1234214.000   \n",
       "mean   796052.664         1.752      17.381     664489.903      46.355   \n",
       "std    424442.752         2.962     305.703   18311789.739      61.402   \n",
       "min         2.000         0.000       0.000        -12.000     -28.000   \n",
       "25%    440146.250         0.000       0.000          0.000       0.000   \n",
       "50%    805078.500         0.000       0.000          0.000      20.000   \n",
       "75%   1175765.750         4.000       1.000          0.000      87.000   \n",
       "max   1491448.000        10.000   34495.000 4999999999.000   14400.000   \n",
       "\n",
       "             budget  popularity  \n",
       "count   1234214.000 1234214.000  \n",
       "mean     258161.772       1.161  \n",
       "std     5151625.231       7.287  \n",
       "min           0.000       0.000  \n",
       "25%           0.000       0.600  \n",
       "50%           0.000       0.600  \n",
       "75%           0.000       0.845  \n",
       "max   999999999.000    2994.357  "
      ]
     },
     "metadata": {},
     "output_type": "display_data"
    }
   ],
   "source": [
    "# Display summary statistics for numeric columns\n",
    "print(\"\\nSummary Statistics:\")\n",
    "pd.set_option('display.float_format', '{:.3f}'.format)  # Adjust 3 decimal places as you like\n",
    "display(df.describe())"
   ]
  },
  {
   "cell_type": "markdown",
   "id": "2798c707",
   "metadata": {},
   "source": [
    "## Missing Value"
   ]
  },
  {
   "cell_type": "code",
   "execution_count": 48,
   "id": "97787a61",
   "metadata": {},
   "outputs": [
    {
     "data": {
      "text/html": [
       "<div>\n",
       "<style scoped>\n",
       "    .dataframe tbody tr th:only-of-type {\n",
       "        vertical-align: middle;\n",
       "    }\n",
       "\n",
       "    .dataframe tbody tr th {\n",
       "        vertical-align: top;\n",
       "    }\n",
       "\n",
       "    .dataframe thead th {\n",
       "        text-align: right;\n",
       "    }\n",
       "</style>\n",
       "<table border=\"1\" class=\"dataframe\">\n",
       "  <thead>\n",
       "    <tr style=\"text-align: right;\">\n",
       "      <th></th>\n",
       "      <th>Missing Values</th>\n",
       "      <th>Percentage</th>\n",
       "      <th>Data Type</th>\n",
       "    </tr>\n",
       "  </thead>\n",
       "  <tbody>\n",
       "    <tr>\n",
       "      <th>homepage</th>\n",
       "      <td>1105009</td>\n",
       "      <td>89.531</td>\n",
       "      <td>object</td>\n",
       "    </tr>\n",
       "    <tr>\n",
       "      <th>tagline</th>\n",
       "      <td>1060935</td>\n",
       "      <td>85.960</td>\n",
       "      <td>object</td>\n",
       "    </tr>\n",
       "    <tr>\n",
       "      <th>backdrop_path</th>\n",
       "      <td>914444</td>\n",
       "      <td>74.091</td>\n",
       "      <td>object</td>\n",
       "    </tr>\n",
       "    <tr>\n",
       "      <th>keywords</th>\n",
       "      <td>911892</td>\n",
       "      <td>73.884</td>\n",
       "      <td>object</td>\n",
       "    </tr>\n",
       "    <tr>\n",
       "      <th>production_companies</th>\n",
       "      <td>689077</td>\n",
       "      <td>55.831</td>\n",
       "      <td>object</td>\n",
       "    </tr>\n",
       "    <tr>\n",
       "      <th>imdb_id</th>\n",
       "      <td>608869</td>\n",
       "      <td>49.333</td>\n",
       "      <td>object</td>\n",
       "    </tr>\n",
       "    <tr>\n",
       "      <th>production_countries</th>\n",
       "      <td>567668</td>\n",
       "      <td>45.994</td>\n",
       "      <td>object</td>\n",
       "    </tr>\n",
       "    <tr>\n",
       "      <th>spoken_languages</th>\n",
       "      <td>545597</td>\n",
       "      <td>44.206</td>\n",
       "      <td>object</td>\n",
       "    </tr>\n",
       "    <tr>\n",
       "      <th>genres</th>\n",
       "      <td>513933</td>\n",
       "      <td>41.641</td>\n",
       "      <td>object</td>\n",
       "    </tr>\n",
       "    <tr>\n",
       "      <th>poster_path</th>\n",
       "      <td>408001</td>\n",
       "      <td>33.058</td>\n",
       "      <td>object</td>\n",
       "    </tr>\n",
       "    <tr>\n",
       "      <th>overview</th>\n",
       "      <td>263078</td>\n",
       "      <td>21.315</td>\n",
       "      <td>object</td>\n",
       "    </tr>\n",
       "    <tr>\n",
       "      <th>release_date</th>\n",
       "      <td>229926</td>\n",
       "      <td>18.629</td>\n",
       "      <td>object</td>\n",
       "    </tr>\n",
       "    <tr>\n",
       "      <th>original_title</th>\n",
       "      <td>13</td>\n",
       "      <td>0.001</td>\n",
       "      <td>object</td>\n",
       "    </tr>\n",
       "    <tr>\n",
       "      <th>title</th>\n",
       "      <td>13</td>\n",
       "      <td>0.001</td>\n",
       "      <td>object</td>\n",
       "    </tr>\n",
       "  </tbody>\n",
       "</table>\n",
       "</div>"
      ],
      "text/plain": [
       "                      Missing Values  Percentage Data Type\n",
       "homepage                     1105009      89.531    object\n",
       "tagline                      1060935      85.960    object\n",
       "backdrop_path                 914444      74.091    object\n",
       "keywords                      911892      73.884    object\n",
       "production_companies          689077      55.831    object\n",
       "imdb_id                       608869      49.333    object\n",
       "production_countries          567668      45.994    object\n",
       "spoken_languages              545597      44.206    object\n",
       "genres                        513933      41.641    object\n",
       "poster_path                   408001      33.058    object\n",
       "overview                      263078      21.315    object\n",
       "release_date                  229926      18.629    object\n",
       "original_title                    13       0.001    object\n",
       "title                             13       0.001    object"
      ]
     },
     "metadata": {},
     "output_type": "display_data"
    }
   ],
   "source": [
    "miss_value_series = df.isnull().sum()\n",
    "miss_value_df = pd.DataFrame({\n",
    "    'Missing Values': miss_value_series.values,\n",
    "    'Percentage': (miss_value_series / len(df)) * 100,\n",
    "    'Data Type': df.dtypes.values\n",
    "})\n",
    "\n",
    "miss_value_df = miss_value_df[miss_value_df['Missing Values'] > 0].sort_values(by='Missing Values', ascending=False)\n",
    "display(miss_value_df)"
   ]
  },
  {
   "cell_type": "markdown",
   "id": "297637cf",
   "metadata": {},
   "source": [
    "## Duplicates"
   ]
  },
  {
   "cell_type": "code",
   "execution_count": 49,
   "id": "8ce35cb2",
   "metadata": {},
   "outputs": [
    {
     "data": {
      "text/plain": [
       "np.True_"
      ]
     },
     "metadata": {},
     "output_type": "display_data"
    },
    {
     "data": {
      "text/plain": [
       "np.int64(375)"
      ]
     },
     "metadata": {},
     "output_type": "display_data"
    },
    {
     "data": {
      "text/html": [
       "<div>\n",
       "<style scoped>\n",
       "    .dataframe tbody tr th:only-of-type {\n",
       "        vertical-align: middle;\n",
       "    }\n",
       "\n",
       "    .dataframe tbody tr th {\n",
       "        vertical-align: top;\n",
       "    }\n",
       "\n",
       "    .dataframe thead th {\n",
       "        text-align: right;\n",
       "    }\n",
       "</style>\n",
       "<table border=\"1\" class=\"dataframe\">\n",
       "  <thead>\n",
       "    <tr style=\"text-align: right;\">\n",
       "      <th></th>\n",
       "      <th>id</th>\n",
       "      <th>title</th>\n",
       "      <th>vote_average</th>\n",
       "      <th>vote_count</th>\n",
       "      <th>status</th>\n",
       "      <th>release_date</th>\n",
       "      <th>revenue</th>\n",
       "      <th>runtime</th>\n",
       "      <th>adult</th>\n",
       "      <th>backdrop_path</th>\n",
       "      <th>...</th>\n",
       "      <th>original_title</th>\n",
       "      <th>overview</th>\n",
       "      <th>popularity</th>\n",
       "      <th>poster_path</th>\n",
       "      <th>tagline</th>\n",
       "      <th>genres</th>\n",
       "      <th>production_companies</th>\n",
       "      <th>production_countries</th>\n",
       "      <th>spoken_languages</th>\n",
       "      <th>keywords</th>\n",
       "    </tr>\n",
       "  </thead>\n",
       "  <tbody>\n",
       "    <tr>\n",
       "      <th>229479</th>\n",
       "      <td>1199990</td>\n",
       "      <td>The Undead</td>\n",
       "      <td>10.000</td>\n",
       "      <td>1</td>\n",
       "      <td>Released</td>\n",
       "      <td>2023-10-27</td>\n",
       "      <td>0</td>\n",
       "      <td>66</td>\n",
       "      <td>False</td>\n",
       "      <td>NaN</td>\n",
       "      <td>...</td>\n",
       "      <td>The Undead</td>\n",
       "      <td>At the end of times a dysfunctional family tak...</td>\n",
       "      <td>1.400</td>\n",
       "      <td>/jsKHGufgfXgVXuiQ23MK6CtFPvN.jpg</td>\n",
       "      <td>The end is just the beginning</td>\n",
       "      <td>Horror, Thriller</td>\n",
       "      <td>Bud Rebel Productions, TEGMENTAL</td>\n",
       "      <td>United States of America</td>\n",
       "      <td>NaN</td>\n",
       "      <td>undead, religion, dead children, religious horror</td>\n",
       "    </tr>\n",
       "    <tr>\n",
       "      <th>241774</th>\n",
       "      <td>1192952</td>\n",
       "      <td>Rowntree vs Cadbury: A Rivalry Through Time</td>\n",
       "      <td>10.000</td>\n",
       "      <td>1</td>\n",
       "      <td>Released</td>\n",
       "      <td>2023-10-13</td>\n",
       "      <td>0</td>\n",
       "      <td>45</td>\n",
       "      <td>False</td>\n",
       "      <td>/hDFXXt6KD14DEYU4H27kU1gZhEd.jpg</td>\n",
       "      <td>...</td>\n",
       "      <td>Rowntree vs Cadbury: A Rivalry Through Time</td>\n",
       "      <td>Eggwork Media's latest historical documentary ...</td>\n",
       "      <td>2.300</td>\n",
       "      <td>/mlyvQFjHH8HxcbmwRZcIt8Zltbn.jpg</td>\n",
       "      <td>Reformers. Pioneers. Adversaries.</td>\n",
       "      <td>Documentary, History</td>\n",
       "      <td>Eggwork Media</td>\n",
       "      <td>United Kingdom</td>\n",
       "      <td>NaN</td>\n",
       "      <td>NaN</td>\n",
       "    </tr>\n",
       "    <tr>\n",
       "      <th>245553</th>\n",
       "      <td>1226029</td>\n",
       "      <td>Dima Koval: Stand-up from Vegas</td>\n",
       "      <td>10.000</td>\n",
       "      <td>1</td>\n",
       "      <td>Released</td>\n",
       "      <td>2023-12-05</td>\n",
       "      <td>0</td>\n",
       "      <td>0</td>\n",
       "      <td>False</td>\n",
       "      <td>NaN</td>\n",
       "      <td>...</td>\n",
       "      <td>Dima Koval: Stand-up from Vegas</td>\n",
       "      <td>NaN</td>\n",
       "      <td>1.400</td>\n",
       "      <td>/gMREsQHG7Na3Tmhdg4OH51LPHt.jpg</td>\n",
       "      <td>NaN</td>\n",
       "      <td>Comedy</td>\n",
       "      <td>Standup-view</td>\n",
       "      <td>Russia</td>\n",
       "      <td>Russian</td>\n",
       "      <td>stand-up comedy, stand-up russia</td>\n",
       "    </tr>\n",
       "    <tr>\n",
       "      <th>250614</th>\n",
       "      <td>1236071</td>\n",
       "      <td>Semetua</td>\n",
       "      <td>9.000</td>\n",
       "      <td>1</td>\n",
       "      <td>Released</td>\n",
       "      <td>2018-02-07</td>\n",
       "      <td>0</td>\n",
       "      <td>44</td>\n",
       "      <td>False</td>\n",
       "      <td>NaN</td>\n",
       "      <td>...</td>\n",
       "      <td>Semetua</td>\n",
       "      <td>Semetua was Sem Manutahi, master of ceremonies...</td>\n",
       "      <td>0.600</td>\n",
       "      <td>/yulre2ndAtvrLJ09u1R4wSKLtep.jpg</td>\n",
       "      <td>Semetua was Sem Manutahi, master of ceremonies...</td>\n",
       "      <td>Documentary</td>\n",
       "      <td>In Vivo Prod</td>\n",
       "      <td>French Polynesia</td>\n",
       "      <td>French</td>\n",
       "      <td>NaN</td>\n",
       "    </tr>\n",
       "    <tr>\n",
       "      <th>269718</th>\n",
       "      <td>1214170</td>\n",
       "      <td>Frienemies</td>\n",
       "      <td>10.000</td>\n",
       "      <td>1</td>\n",
       "      <td>Released</td>\n",
       "      <td>2013-07-15</td>\n",
       "      <td>0</td>\n",
       "      <td>11</td>\n",
       "      <td>False</td>\n",
       "      <td>/kssDqwfU82S2h1omqkuvCr9CJ8p.jpg</td>\n",
       "      <td>...</td>\n",
       "      <td>Frienemies</td>\n",
       "      <td>Four friends Mike, Shane, Diego and Matt plan ...</td>\n",
       "      <td>0.600</td>\n",
       "      <td>/vRjOyfbNFb85JN8oeCMmBSu1oXx.jpg</td>\n",
       "      <td>Friendships come and go.</td>\n",
       "      <td>Comedy, Action, Thriller</td>\n",
       "      <td>NaN</td>\n",
       "      <td>NaN</td>\n",
       "      <td>NaN</td>\n",
       "      <td>NaN</td>\n",
       "    </tr>\n",
       "  </tbody>\n",
       "</table>\n",
       "<p>5 rows × 24 columns</p>\n",
       "</div>"
      ],
      "text/plain": [
       "             id                                        title  vote_average  \\\n",
       "229479  1199990                                   The Undead        10.000   \n",
       "241774  1192952  Rowntree vs Cadbury: A Rivalry Through Time        10.000   \n",
       "245553  1226029              Dima Koval: Stand-up from Vegas        10.000   \n",
       "250614  1236071                                      Semetua         9.000   \n",
       "269718  1214170                                   Frienemies        10.000   \n",
       "\n",
       "        vote_count    status release_date  revenue  runtime  adult  \\\n",
       "229479           1  Released   2023-10-27        0       66  False   \n",
       "241774           1  Released   2023-10-13        0       45  False   \n",
       "245553           1  Released   2023-12-05        0        0  False   \n",
       "250614           1  Released   2018-02-07        0       44  False   \n",
       "269718           1  Released   2013-07-15        0       11  False   \n",
       "\n",
       "                           backdrop_path  ...  \\\n",
       "229479                               NaN  ...   \n",
       "241774  /hDFXXt6KD14DEYU4H27kU1gZhEd.jpg  ...   \n",
       "245553                               NaN  ...   \n",
       "250614                               NaN  ...   \n",
       "269718  /kssDqwfU82S2h1omqkuvCr9CJ8p.jpg  ...   \n",
       "\n",
       "                                     original_title  \\\n",
       "229479                                   The Undead   \n",
       "241774  Rowntree vs Cadbury: A Rivalry Through Time   \n",
       "245553              Dima Koval: Stand-up from Vegas   \n",
       "250614                                      Semetua   \n",
       "269718                                   Frienemies   \n",
       "\n",
       "                                                 overview popularity  \\\n",
       "229479  At the end of times a dysfunctional family tak...      1.400   \n",
       "241774  Eggwork Media's latest historical documentary ...      2.300   \n",
       "245553                                                NaN      1.400   \n",
       "250614  Semetua was Sem Manutahi, master of ceremonies...      0.600   \n",
       "269718  Four friends Mike, Shane, Diego and Matt plan ...      0.600   \n",
       "\n",
       "                             poster_path  \\\n",
       "229479  /jsKHGufgfXgVXuiQ23MK6CtFPvN.jpg   \n",
       "241774  /mlyvQFjHH8HxcbmwRZcIt8Zltbn.jpg   \n",
       "245553   /gMREsQHG7Na3Tmhdg4OH51LPHt.jpg   \n",
       "250614  /yulre2ndAtvrLJ09u1R4wSKLtep.jpg   \n",
       "269718  /vRjOyfbNFb85JN8oeCMmBSu1oXx.jpg   \n",
       "\n",
       "                                                  tagline  \\\n",
       "229479                      The end is just the beginning   \n",
       "241774                  Reformers. Pioneers. Adversaries.   \n",
       "245553                                                NaN   \n",
       "250614  Semetua was Sem Manutahi, master of ceremonies...   \n",
       "269718                           Friendships come and go.   \n",
       "\n",
       "                          genres              production_companies  \\\n",
       "229479          Horror, Thriller  Bud Rebel Productions, TEGMENTAL   \n",
       "241774      Documentary, History                     Eggwork Media   \n",
       "245553                    Comedy                      Standup-view   \n",
       "250614               Documentary                      In Vivo Prod   \n",
       "269718  Comedy, Action, Thriller                               NaN   \n",
       "\n",
       "            production_countries spoken_languages  \\\n",
       "229479  United States of America              NaN   \n",
       "241774            United Kingdom              NaN   \n",
       "245553                    Russia          Russian   \n",
       "250614          French Polynesia           French   \n",
       "269718                       NaN              NaN   \n",
       "\n",
       "                                                 keywords  \n",
       "229479  undead, religion, dead children, religious horror  \n",
       "241774                                                NaN  \n",
       "245553                   stand-up comedy, stand-up russia  \n",
       "250614                                                NaN  \n",
       "269718                                                NaN  \n",
       "\n",
       "[5 rows x 24 columns]"
      ]
     },
     "metadata": {},
     "output_type": "display_data"
    }
   ],
   "source": [
    "# Check if any duplicates exist:\n",
    "display(df.duplicated().any())\n",
    "\n",
    "# Count the number of duplicate rows:\n",
    "display(df.duplicated().sum())\n",
    "\n",
    "# View the duplicate rows themselves:\n",
    "duplicates = df[df.duplicated()] # This shows all rows that are duplicates (except the first occurrence).\n",
    "display(duplicates.head())"
   ]
  },
  {
   "cell_type": "code",
   "execution_count": 50,
   "id": "0a90c2fb",
   "metadata": {},
   "outputs": [],
   "source": [
    "# drop duplicates and keep the first occurrence\n",
    "df_no_duplicates = df.drop_duplicates()"
   ]
  },
  {
   "cell_type": "code",
   "execution_count": 51,
   "id": "113980cf",
   "metadata": {},
   "outputs": [
    {
     "data": {
      "text/plain": [
       "np.False_"
      ]
     },
     "metadata": {},
     "output_type": "display_data"
    },
    {
     "data": {
      "text/plain": [
       "np.int64(0)"
      ]
     },
     "metadata": {},
     "output_type": "display_data"
    }
   ],
   "source": [
    "# Check if any duplicates exist:\n",
    "display(df_no_duplicates.duplicated().any())\n",
    "\n",
    "# Count the number of duplicate rows:\n",
    "display(df_no_duplicates.duplicated().sum())"
   ]
  },
  {
   "cell_type": "code",
   "execution_count": 52,
   "id": "86b0610b",
   "metadata": {},
   "outputs": [],
   "source": [
    "# id columns as a index\n",
    "df_no_duplicates.set_index('id', inplace=True)"
   ]
  },
  {
   "cell_type": "markdown",
   "id": "3f19ca29",
   "metadata": {},
   "source": [
    "## Outlier"
   ]
  },
  {
   "cell_type": "markdown",
   "id": "9c033495",
   "metadata": {},
   "source": [
    "### Check Numeric Columns"
   ]
  },
  {
   "cell_type": "code",
   "execution_count": 68,
   "id": "d290da0e",
   "metadata": {},
   "outputs": [],
   "source": [
    "import matplotlib.pyplot as plt\n",
    "import seaborn as sns\n",
    "from matplotlib.ticker import FuncFormatter"
   ]
  },
  {
   "cell_type": "code",
   "execution_count": 70,
   "id": "db2ddf66",
   "metadata": {},
   "outputs": [],
   "source": [
    "def create_box_plot (df, column):\n",
    "    \"\"\"\n",
    "    Create a box plot for a given column in the DataFrame.\n",
    "    \n",
    "    Parameters:\n",
    "    df (DataFrame): The DataFrame containing the data.\n",
    "    column (str): The name of the column to plot.\n",
    "    \"\"\"\n",
    "    plt.figure(figsize=(10, 8))\n",
    "    sns.boxplot(x=df[column])\n",
    "    plt.title(f'Boxplot of {column}')\n",
    "    plt.xlabel(column)\n",
    "    # Set x-axis to regular number format with commas\n",
    "    plt.gca().xaxis.set_major_formatter(FuncFormatter(lambda x, _: f'{int(x):,}'))\n",
    "    plt.show()"
   ]
  },
  {
   "cell_type": "code",
   "execution_count": 71,
   "id": "89ed425d",
   "metadata": {},
   "outputs": [
    {
     "name": "stdout",
     "output_type": "stream",
     "text": [
      "Numeric columns: Index(['vote_average', 'vote_count', 'revenue', 'runtime', 'budget',\n",
      "       'popularity'],\n",
      "      dtype='object')\n"
     ]
    },
    {
     "data": {
      "image/png": "[encoded data removed]",
      "text/plain": [
       "<Figure size 1000x800 with 1 Axes>"
      ]
     },
     "metadata": {},
     "output_type": "display_data"
    },
    {
     "data": {
      "image/png": "[encoded data removed]",
      "text/plain": [
       "<Figure size 1000x800 with 1 Axes>"
      ]
     },
     "metadata": {},
     "output_type": "display_data"
    },
    {
     "data": {
      "image/png": "[encoded data removed]",
      "text/plain": [
       "<Figure size 1000x800 with 1 Axes>"
      ]
     },
     "metadata": {},
     "output_type": "display_data"
    },
    {
     "data": {
      "image/png": "[encoded data removed]",
      "text/plain": [
       "<Figure size 1000x800 with 1 Axes>"
      ]
     },
     "metadata": {},
     "output_type": "display_data"
    },
    {
     "data": {
      "image/png": "[encoded data removed]",
      "text/plain": [
       "<Figure size 1000x800 with 1 Axes>"
      ]
     },
     "metadata": {},
     "output_type": "display_data"
    },
    {
     "data": {
      "image/png": "[encoded data removed]",
      "text/plain": [
       "<Figure size 1000x800 with 1 Axes>"
      ]
     },
     "metadata": {},
     "output_type": "display_data"
    }
   ],
   "source": [
    "# Select numeric columns for visualization int64 and float64\n",
    "numeric_columns = df_no_duplicates.select_dtypes(include=['int64', 'float64']).columns\n",
    "\n",
    "print(\"Numeric columns:\", numeric_columns)\n",
    "\n",
    "# Create box plots for each numeric column\n",
    "for column in numeric_columns:\n",
    "    create_box_plot(df_no_duplicates, column)"
   ]
  },
  {
   "cell_type": "markdown",
   "id": "29932ba0",
   "metadata": {},
   "source": [
    "### Detect (numeric columns) outlier with IQR Method\n"
   ]
  },
  {
   "cell_type": "code",
   "execution_count": 72,
   "id": "4c45c0a0",
   "metadata": {},
   "outputs": [
    {
     "name": "stdout",
     "output_type": "stream",
     "text": [
      "vote_average: [-6.0 10.0] outlier_idx=[]... total=0\n",
      "vote_count: [-1.5 2.5] outlier_idx=[0, 1, 2, 3, 4]... total=175446\n",
      "revenue: [0.0 0.0] outlier_idx=[0, 1, 2, 3, 4]... total=22013\n",
      "runtime: [-130.5 217.5] outlier_idx=[328, 864, 1193, 1664, 1800]... total=10382\n",
      "budget: [0.0 0.0] outlier_idx=[0, 1, 2, 3, 4]... total=66373\n",
      "popularity: [0.23249999999999998 1.2125] outlier_idx=[0, 1, 2, 3, 4]... total=400389\n"
     ]
    },
    {
     "data": {
      "text/html": [
       "<div>\n",
       "<style scoped>\n",
       "    .dataframe tbody tr th:only-of-type {\n",
       "        vertical-align: middle;\n",
       "    }\n",
       "\n",
       "    .dataframe tbody tr th {\n",
       "        vertical-align: top;\n",
       "    }\n",
       "\n",
       "    .dataframe thead th {\n",
       "        text-align: right;\n",
       "    }\n",
       "</style>\n",
       "<table border=\"1\" class=\"dataframe\">\n",
       "  <thead>\n",
       "    <tr style=\"text-align: right;\">\n",
       "      <th></th>\n",
       "      <th>title</th>\n",
       "      <th>vote_average</th>\n",
       "      <th>vote_count</th>\n",
       "      <th>status</th>\n",
       "      <th>release_date</th>\n",
       "      <th>revenue</th>\n",
       "      <th>runtime</th>\n",
       "      <th>adult</th>\n",
       "      <th>backdrop_path</th>\n",
       "      <th>budget</th>\n",
       "      <th>...</th>\n",
       "      <th>original_title</th>\n",
       "      <th>overview</th>\n",
       "      <th>popularity</th>\n",
       "      <th>poster_path</th>\n",
       "      <th>tagline</th>\n",
       "      <th>genres</th>\n",
       "      <th>production_companies</th>\n",
       "      <th>production_countries</th>\n",
       "      <th>spoken_languages</th>\n",
       "      <th>keywords</th>\n",
       "    </tr>\n",
       "    <tr>\n",
       "      <th>id</th>\n",
       "      <th></th>\n",
       "      <th></th>\n",
       "      <th></th>\n",
       "      <th></th>\n",
       "      <th></th>\n",
       "      <th></th>\n",
       "      <th></th>\n",
       "      <th></th>\n",
       "      <th></th>\n",
       "      <th></th>\n",
       "      <th></th>\n",
       "      <th></th>\n",
       "      <th></th>\n",
       "      <th></th>\n",
       "      <th></th>\n",
       "      <th></th>\n",
       "      <th></th>\n",
       "      <th></th>\n",
       "      <th></th>\n",
       "      <th></th>\n",
       "      <th></th>\n",
       "    </tr>\n",
       "  </thead>\n",
       "  <tbody>\n",
       "    <tr>\n",
       "      <th>27205</th>\n",
       "      <td>Inception</td>\n",
       "      <td>8.364</td>\n",
       "      <td>34495</td>\n",
       "      <td>Released</td>\n",
       "      <td>2010-07-15</td>\n",
       "      <td>825532764</td>\n",
       "      <td>148</td>\n",
       "      <td>False</td>\n",
       "      <td>/8ZTVqvKDQ8emSGUEMjsS4yHAwrp.jpg</td>\n",
       "      <td>160000000</td>\n",
       "      <td>...</td>\n",
       "      <td>Inception</td>\n",
       "      <td>Cobb, a skilled thief who commits corporate es...</td>\n",
       "      <td>83.952</td>\n",
       "      <td>/oYuLEt3zVCKq57qu2F8dT7NIa6f.jpg</td>\n",
       "      <td>Your mind is the scene of the crime.</td>\n",
       "      <td>Action, Science Fiction, Adventure</td>\n",
       "      <td>Legendary Pictures, Syncopy, Warner Bros. Pict...</td>\n",
       "      <td>United Kingdom, United States of America</td>\n",
       "      <td>English, French, Japanese, Swahili</td>\n",
       "      <td>rescue, mission, dream, airplane, paris, franc...</td>\n",
       "    </tr>\n",
       "    <tr>\n",
       "      <th>157336</th>\n",
       "      <td>Interstellar</td>\n",
       "      <td>8.417</td>\n",
       "      <td>32571</td>\n",
       "      <td>Released</td>\n",
       "      <td>2014-11-05</td>\n",
       "      <td>701729206</td>\n",
       "      <td>169</td>\n",
       "      <td>False</td>\n",
       "      <td>/pbrkL804c8yAv3zBZR4QPEafpAR.jpg</td>\n",
       "      <td>165000000</td>\n",
       "      <td>...</td>\n",
       "      <td>Interstellar</td>\n",
       "      <td>The adventures of a group of explorers who mak...</td>\n",
       "      <td>140.241</td>\n",
       "      <td>/gEU2QniE6E77NI6lCU6MxlNBvIx.jpg</td>\n",
       "      <td>Mankind was born on Earth. It was never meant ...</td>\n",
       "      <td>Adventure, Drama, Science Fiction</td>\n",
       "      <td>Legendary Pictures, Syncopy, Lynda Obst Produc...</td>\n",
       "      <td>United Kingdom, United States of America</td>\n",
       "      <td>English</td>\n",
       "      <td>rescue, future, spacecraft, race against time,...</td>\n",
       "    </tr>\n",
       "    <tr>\n",
       "      <th>155</th>\n",
       "      <td>The Dark Knight</td>\n",
       "      <td>8.512</td>\n",
       "      <td>30619</td>\n",
       "      <td>Released</td>\n",
       "      <td>2008-07-16</td>\n",
       "      <td>1004558444</td>\n",
       "      <td>152</td>\n",
       "      <td>False</td>\n",
       "      <td>/nMKdUUepR0i5zn0y1T4CsSB5chy.jpg</td>\n",
       "      <td>185000000</td>\n",
       "      <td>...</td>\n",
       "      <td>The Dark Knight</td>\n",
       "      <td>Batman raises the stakes in his war on crime. ...</td>\n",
       "      <td>130.643</td>\n",
       "      <td>/qJ2tW6WMUDux911r6m7haRef0WH.jpg</td>\n",
       "      <td>Welcome to a world without rules.</td>\n",
       "      <td>Drama, Action, Crime, Thriller</td>\n",
       "      <td>DC Comics, Legendary Pictures, Syncopy, Isobel...</td>\n",
       "      <td>United Kingdom, United States of America</td>\n",
       "      <td>English, Mandarin</td>\n",
       "      <td>joker, sadism, chaos, secret identity, crime f...</td>\n",
       "    </tr>\n",
       "    <tr>\n",
       "      <th>19995</th>\n",
       "      <td>Avatar</td>\n",
       "      <td>7.573</td>\n",
       "      <td>29815</td>\n",
       "      <td>Released</td>\n",
       "      <td>2009-12-15</td>\n",
       "      <td>2923706026</td>\n",
       "      <td>162</td>\n",
       "      <td>False</td>\n",
       "      <td>/vL5LR6WdxWPjLPFRLe133jXWsh5.jpg</td>\n",
       "      <td>237000000</td>\n",
       "      <td>...</td>\n",
       "      <td>Avatar</td>\n",
       "      <td>In the 22nd century, a paraplegic Marine is di...</td>\n",
       "      <td>79.932</td>\n",
       "      <td>/kyeqWdyUXW608qlYkRqosgbbJyK.jpg</td>\n",
       "      <td>Enter the world of Pandora.</td>\n",
       "      <td>Action, Adventure, Fantasy, Science Fiction</td>\n",
       "      <td>Dune Entertainment, Lightstorm Entertainment, ...</td>\n",
       "      <td>United States of America, United Kingdom</td>\n",
       "      <td>English, Spanish</td>\n",
       "      <td>future, society, culture clash, space travel, ...</td>\n",
       "    </tr>\n",
       "    <tr>\n",
       "      <th>24428</th>\n",
       "      <td>The Avengers</td>\n",
       "      <td>7.710</td>\n",
       "      <td>29166</td>\n",
       "      <td>Released</td>\n",
       "      <td>2012-04-25</td>\n",
       "      <td>1518815515</td>\n",
       "      <td>143</td>\n",
       "      <td>False</td>\n",
       "      <td>/9BBTo63ANSmhC4e6r62OJFuK2GL.jpg</td>\n",
       "      <td>220000000</td>\n",
       "      <td>...</td>\n",
       "      <td>The Avengers</td>\n",
       "      <td>When an unexpected enemy emerges and threatens...</td>\n",
       "      <td>98.082</td>\n",
       "      <td>/RYMX2wcKCBAr24UyPD7xwmjaTn.jpg</td>\n",
       "      <td>Some assembly required.</td>\n",
       "      <td>Science Fiction, Action, Adventure</td>\n",
       "      <td>Marvel Studios</td>\n",
       "      <td>United States of America</td>\n",
       "      <td>English, Hindi, Russian</td>\n",
       "      <td>new york city, superhero, shield, based on com...</td>\n",
       "    </tr>\n",
       "  </tbody>\n",
       "</table>\n",
       "<p>5 rows × 23 columns</p>\n",
       "</div>"
      ],
      "text/plain": [
       "                  title  vote_average  vote_count    status release_date  \\\n",
       "id                                                                         \n",
       "27205         Inception         8.364       34495  Released   2010-07-15   \n",
       "157336     Interstellar         8.417       32571  Released   2014-11-05   \n",
       "155     The Dark Knight         8.512       30619  Released   2008-07-16   \n",
       "19995            Avatar         7.573       29815  Released   2009-12-15   \n",
       "24428      The Avengers         7.710       29166  Released   2012-04-25   \n",
       "\n",
       "           revenue  runtime  adult                     backdrop_path  \\\n",
       "id                                                                     \n",
       "27205    825532764      148  False  /8ZTVqvKDQ8emSGUEMjsS4yHAwrp.jpg   \n",
       "157336   701729206      169  False  /pbrkL804c8yAv3zBZR4QPEafpAR.jpg   \n",
       "155     1004558444      152  False  /nMKdUUepR0i5zn0y1T4CsSB5chy.jpg   \n",
       "19995   2923706026      162  False  /vL5LR6WdxWPjLPFRLe133jXWsh5.jpg   \n",
       "24428   1518815515      143  False  /9BBTo63ANSmhC4e6r62OJFuK2GL.jpg   \n",
       "\n",
       "           budget  ...   original_title  \\\n",
       "id                 ...                    \n",
       "27205   160000000  ...        Inception   \n",
       "157336  165000000  ...     Interstellar   \n",
       "155     185000000  ...  The Dark Knight   \n",
       "19995   237000000  ...           Avatar   \n",
       "24428   220000000  ...     The Avengers   \n",
       "\n",
       "                                                 overview popularity  \\\n",
       "id                                                                     \n",
       "27205   Cobb, a skilled thief who commits corporate es...     83.952   \n",
       "157336  The adventures of a group of explorers who mak...    140.241   \n",
       "155     Batman raises the stakes in his war on crime. ...    130.643   \n",
       "19995   In the 22nd century, a paraplegic Marine is di...     79.932   \n",
       "24428   When an unexpected enemy emerges and threatens...     98.082   \n",
       "\n",
       "                             poster_path  \\\n",
       "id                                         \n",
       "27205   /oYuLEt3zVCKq57qu2F8dT7NIa6f.jpg   \n",
       "157336  /gEU2QniE6E77NI6lCU6MxlNBvIx.jpg   \n",
       "155     /qJ2tW6WMUDux911r6m7haRef0WH.jpg   \n",
       "19995   /kyeqWdyUXW608qlYkRqosgbbJyK.jpg   \n",
       "24428    /RYMX2wcKCBAr24UyPD7xwmjaTn.jpg   \n",
       "\n",
       "                                                  tagline  \\\n",
       "id                                                          \n",
       "27205                Your mind is the scene of the crime.   \n",
       "157336  Mankind was born on Earth. It was never meant ...   \n",
       "155                     Welcome to a world without rules.   \n",
       "19995                         Enter the world of Pandora.   \n",
       "24428                             Some assembly required.   \n",
       "\n",
       "                                             genres  \\\n",
       "id                                                    \n",
       "27205            Action, Science Fiction, Adventure   \n",
       "157336            Adventure, Drama, Science Fiction   \n",
       "155                  Drama, Action, Crime, Thriller   \n",
       "19995   Action, Adventure, Fantasy, Science Fiction   \n",
       "24428            Science Fiction, Action, Adventure   \n",
       "\n",
       "                                     production_companies  \\\n",
       "id                                                          \n",
       "27205   Legendary Pictures, Syncopy, Warner Bros. Pict...   \n",
       "157336  Legendary Pictures, Syncopy, Lynda Obst Produc...   \n",
       "155     DC Comics, Legendary Pictures, Syncopy, Isobel...   \n",
       "19995   Dune Entertainment, Lightstorm Entertainment, ...   \n",
       "24428                                      Marvel Studios   \n",
       "\n",
       "                            production_countries  \\\n",
       "id                                                 \n",
       "27205   United Kingdom, United States of America   \n",
       "157336  United Kingdom, United States of America   \n",
       "155     United Kingdom, United States of America   \n",
       "19995   United States of America, United Kingdom   \n",
       "24428                   United States of America   \n",
       "\n",
       "                          spoken_languages  \\\n",
       "id                                           \n",
       "27205   English, French, Japanese, Swahili   \n",
       "157336                             English   \n",
       "155                      English, Mandarin   \n",
       "19995                     English, Spanish   \n",
       "24428              English, Hindi, Russian   \n",
       "\n",
       "                                                 keywords  \n",
       "id                                                         \n",
       "27205   rescue, mission, dream, airplane, paris, franc...  \n",
       "157336  rescue, future, spacecraft, race against time,...  \n",
       "155     joker, sadism, chaos, secret identity, crime f...  \n",
       "19995   future, society, culture clash, space travel, ...  \n",
       "24428   new york city, superhero, shield, based on com...  \n",
       "\n",
       "[5 rows x 23 columns]"
      ]
     },
     "metadata": {},
     "output_type": "display_data"
    }
   ],
   "source": [
    "def find_IQR(df, col):\n",
    "    ''' Find IQR and Upper bound and Lower bound for a column return tuple of (IQR, upper_bound, lower_bound) '''\n",
    "    Q1 = df[col].quantile(0.25)\n",
    "    Q3 = df[col].quantile(0.75)\n",
    "    IQR = Q3 - Q1\n",
    "    upper_bound = Q3 + (IQR * 1.5)\n",
    "    lower_bound = Q1 - (IQR * 1.5)\n",
    "    return IQR, upper_bound, lower_bound\n",
    "\n",
    "# Clean Outliers Function\n",
    "def iqr_outlier(df: pd.DataFrame, numeric_columns_list: list) -> pd.Series:\n",
    "    '''\n",
    "    Identify outliers in the DataFrame using the IQR method.\n",
    "    Args:\n",
    "        df (pd.DataFrame): The DataFrame to check for outliers.\n",
    "        numeric_columns (list): List of numeric columns to check for outliers.\n",
    "    Returns:\n",
    "        pd.Series: A boolean Series indicating which rows are not outliers.\n",
    "    '''\n",
    "    clean_idx = []\n",
    "    for col in df.columns.values:\n",
    "        if col not in numeric_columns_list:\n",
    "            continue\n",
    "\n",
    "        IQR_results = find_IQR(df, col)\n",
    "        iqr_upper_limit = IQR_results[1]\n",
    "        iqr_lower_limit = IQR_results[2]\n",
    "\n",
    "        idx = (df[col] >= iqr_lower_limit) & (df[col] <= iqr_upper_limit) \n",
    "        outlier_idx = [i for i, is_clean in enumerate(idx) if not is_clean]\n",
    "        print(f\"{col}: [{iqr_lower_limit} {iqr_upper_limit}] outlier_idx={outlier_idx[:5]}... total={len(outlier_idx)}\")\n",
    "        clean_idx.append(idx)\n",
    "        \n",
    "    clean_idx = np.logical_and.reduce(clean_idx)\n",
    "    return clean_idx\n",
    "\n",
    "numeric_column_lst = list(numeric_columns)\n",
    "iqr_clean_idx = iqr_outlier(df_no_duplicates, numeric_column_lst)\n",
    "display(df_no_duplicates[~iqr_clean_idx].head())"
   ]
  },
  {
   "cell_type": "markdown",
   "id": "0b6a14f7",
   "metadata": {},
   "source": [
    "NOTE: \n",
    "* `[popularity]` = I think I will drop the column because the source is unclear and the exact data range is unknown.\n",
    "* `[runtime, revenue, budget]` clean minus values, and zero value\n",
    "* `[runtime, revenue, budget]` I think I should clean outlier with IQR Method"
   ]
  },
  {
   "cell_type": "markdown",
   "id": "a409a3b4",
   "metadata": {},
   "source": [
    "### Clean Outlier"
   ]
  },
  {
   "cell_type": "code",
   "execution_count": 73,
   "id": "5f78902e",
   "metadata": {},
   "outputs": [],
   "source": [
    "# Drop populated columns\n",
    "df_cleaned_outlier = df_no_duplicates.drop(columns=['popularity'], errors='ignore')\n",
    "\n",
    "# Drop value of [runtime, revenue] that negative integer or float\n",
    "df_cleaned_outlier = df_cleaned_outlier[(df_cleaned_outlier['runtime'] > 0) \\\n",
    "                                         & (df_cleaned_outlier['revenue'] > 0) \\\n",
    "                                         & (df_cleaned_outlier['budget'] > 0)]"
   ]
  },
  {
   "cell_type": "code",
   "execution_count": 74,
   "id": "0b18a864",
   "metadata": {},
   "outputs": [
    {
     "name": "stdout",
     "output_type": "stream",
     "text": [
      "revenue: [-57088968.5 95214957.5] outlier_idx=[0, 1, 2, 3, 4]... total=1894\n",
      "runtime: [34.5 166.5] outlier_idx=[1, 15, 17, 19, 20]... total=2483\n",
      "budget: [-29950000.0 49970000.0] outlier_idx=[0, 1, 2, 3, 4]... total=1498\n"
     ]
    }
   ],
   "source": [
    "# Select only the rows that are not outliers\n",
    "select_clean_outlier_columns = ['runtime', 'revenue', 'budget']\n",
    "iqr_clean_idx = iqr_outlier(df_cleaned_outlier, select_clean_outlier_columns)\n",
    "df_cleaned_outlier = df_cleaned_outlier.loc[iqr_clean_idx]"
   ]
  },
  {
   "cell_type": "code",
   "execution_count": 75,
   "id": "90f44971",
   "metadata": {},
   "outputs": [
    {
     "data": {
      "text/plain": [
       "(13418, 23)"
      ]
     },
     "execution_count": 75,
     "metadata": {},
     "output_type": "execute_result"
    }
   ],
   "source": [
    "# Check the shape of the cleaned DataFrame runtime, revenue, budget > 0\n",
    "df_no_duplicates[(df_no_duplicates['runtime'] > 0) & (df_no_duplicates['revenue'] > 0) & (df_no_duplicates['budget'] > 0)].shape"
   ]
  },
  {
   "cell_type": "code",
   "execution_count": 76,
   "id": "f3760bf0",
   "metadata": {},
   "outputs": [
    {
     "data": {
      "image/png": "[encoded data removed]",
      "text/plain": [
       "<Figure size 1000x800 with 1 Axes>"
      ]
     },
     "metadata": {},
     "output_type": "display_data"
    },
    {
     "data": {
      "image/png": "[encoded data removed]",
      "text/plain": [
       "<Figure size 1000x800 with 1 Axes>"
      ]
     },
     "metadata": {},
     "output_type": "display_data"
    },
    {
     "data": {
      "image/png": "[encoded data removed]",
      "text/plain": [
       "<Figure size 1000x800 with 1 Axes>"
      ]
     },
     "metadata": {},
     "output_type": "display_data"
    },
    {
     "data": {
      "image/png": "[encoded data removed]",
      "text/plain": [
       "<Figure size 1000x800 with 1 Axes>"
      ]
     },
     "metadata": {},
     "output_type": "display_data"
    },
    {
     "data": {
      "image/png": "[encoded data removed]",
      "text/plain": [
       "<Figure size 1000x800 with 1 Axes>"
      ]
     },
     "metadata": {},
     "output_type": "display_data"
    }
   ],
   "source": [
    "numeric_column_lst = ['vote_average', 'vote_count', 'revenue', 'runtime', 'budget']\n",
    "for col in numeric_column_lst:\n",
    "    create_box_plot (df_cleaned_outlier, col)"
   ]
  },
  {
   "cell_type": "code",
   "execution_count": 77,
   "id": "3c669b3e",
   "metadata": {},
   "outputs": [
    {
     "data": {
      "text/plain": [
       "'Shape after clean outlier and duplicate:'"
      ]
     },
     "metadata": {},
     "output_type": "display_data"
    },
    {
     "data": {
      "text/plain": [
       "(8755, 22)"
      ]
     },
     "metadata": {},
     "output_type": "display_data"
    },
    {
     "data": {
      "text/html": [
       "<div>\n",
       "<style scoped>\n",
       "    .dataframe tbody tr th:only-of-type {\n",
       "        vertical-align: middle;\n",
       "    }\n",
       "\n",
       "    .dataframe tbody tr th {\n",
       "        vertical-align: top;\n",
       "    }\n",
       "\n",
       "    .dataframe thead th {\n",
       "        text-align: right;\n",
       "    }\n",
       "</style>\n",
       "<table border=\"1\" class=\"dataframe\">\n",
       "  <thead>\n",
       "    <tr style=\"text-align: right;\">\n",
       "      <th></th>\n",
       "      <th>vote_average</th>\n",
       "      <th>vote_count</th>\n",
       "      <th>revenue</th>\n",
       "      <th>runtime</th>\n",
       "      <th>budget</th>\n",
       "    </tr>\n",
       "  </thead>\n",
       "  <tbody>\n",
       "    <tr>\n",
       "      <th>count</th>\n",
       "      <td>8755.000</td>\n",
       "      <td>8755.000</td>\n",
       "      <td>8755.000</td>\n",
       "      <td>8755.000</td>\n",
       "      <td>8755.000</td>\n",
       "    </tr>\n",
       "    <tr>\n",
       "      <th>mean</th>\n",
       "      <td>5.570</td>\n",
       "      <td>586.846</td>\n",
       "      <td>14552239.227</td>\n",
       "      <td>103.199</td>\n",
       "      <td>8843741.546</td>\n",
       "    </tr>\n",
       "    <tr>\n",
       "      <th>std</th>\n",
       "      <td>2.393</td>\n",
       "      <td>1216.556</td>\n",
       "      <td>21198723.877</td>\n",
       "      <td>22.573</td>\n",
       "      <td>10884204.236</td>\n",
       "    </tr>\n",
       "    <tr>\n",
       "      <th>min</th>\n",
       "      <td>0.000</td>\n",
       "      <td>0.000</td>\n",
       "      <td>1.000</td>\n",
       "      <td>35.000</td>\n",
       "      <td>1.000</td>\n",
       "    </tr>\n",
       "    <tr>\n",
       "      <th>25%</th>\n",
       "      <td>5.300</td>\n",
       "      <td>11.000</td>\n",
       "      <td>312271.000</td>\n",
       "      <td>90.000</td>\n",
       "      <td>500000.000</td>\n",
       "    </tr>\n",
       "    <tr>\n",
       "      <th>50%</th>\n",
       "      <td>6.200</td>\n",
       "      <td>150.000</td>\n",
       "      <td>4308390.000</td>\n",
       "      <td>101.000</td>\n",
       "      <td>4000000.000</td>\n",
       "    </tr>\n",
       "    <tr>\n",
       "      <th>75%</th>\n",
       "      <td>6.918</td>\n",
       "      <td>633.000</td>\n",
       "      <td>19886891.500</td>\n",
       "      <td>116.000</td>\n",
       "      <td>14000000.000</td>\n",
       "    </tr>\n",
       "    <tr>\n",
       "      <th>max</th>\n",
       "      <td>10.000</td>\n",
       "      <td>24649.000</td>\n",
       "      <td>95146283.000</td>\n",
       "      <td>166.000</td>\n",
       "      <td>49900000.000</td>\n",
       "    </tr>\n",
       "  </tbody>\n",
       "</table>\n",
       "</div>"
      ],
      "text/plain": [
       "       vote_average  vote_count      revenue  runtime       budget\n",
       "count      8755.000    8755.000     8755.000 8755.000     8755.000\n",
       "mean          5.570     586.846 14552239.227  103.199  8843741.546\n",
       "std           2.393    1216.556 21198723.877   22.573 10884204.236\n",
       "min           0.000       0.000        1.000   35.000        1.000\n",
       "25%           5.300      11.000   312271.000   90.000   500000.000\n",
       "50%           6.200     150.000  4308390.000  101.000  4000000.000\n",
       "75%           6.918     633.000 19886891.500  116.000 14000000.000\n",
       "max          10.000   24649.000 95146283.000  166.000 49900000.000"
      ]
     },
     "metadata": {},
     "output_type": "display_data"
    }
   ],
   "source": [
    "display(\"Shape after clean outlier and duplicate:\",df_cleaned_outlier.shape)\n",
    "display(df_cleaned_outlier.describe())"
   ]
  },
  {
   "cell_type": "markdown",
   "id": "019fe2fd",
   "metadata": {},
   "source": [
    "### Z-score Method"
   ]
  },
  {
   "cell_type": "code",
   "execution_count": 78,
   "id": "89f88e15",
   "metadata": {},
   "outputs": [],
   "source": [
    "# Use Z-score method to detect outliers\n",
    "from scipy import stats\n",
    "def z_score_outlier(df: pd.DataFrame, numeric_columns_list: list) -> pd.Series:\n",
    "    '''\n",
    "    Identify outliers in the DataFrame using the Z-score method.\n",
    "    Args:\n",
    "        df (pd.DataFrame): The DataFrame to check for outliers.\n",
    "        numeric_columns (list): List of numeric columns to check for outliers.\n",
    "    Returns:\n",
    "        pd.Series: A boolean Series indicating which rows are not outliers.\n",
    "    '''\n",
    "    clean_idx = []\n",
    "    for col in df.columns.values:\n",
    "        if col not in numeric_columns_list:\n",
    "            continue\n",
    "\n",
    "        z_scores = np.abs(stats.zscore(df[col]))\n",
    "        idx = z_scores < 3  # Common threshold for Z-score\n",
    "        outlier_idx = [i for i, is_clean in enumerate(idx) if not is_clean]\n",
    "        print(f\"{col}: outlier_idx={outlier_idx[:5]}... total={len(outlier_idx)}\")\n",
    "        clean_idx.append(idx)\n",
    "        \n",
    "    clean_idx = np.logical_and.reduce(clean_idx)\n",
    "    return clean_idx"
   ]
  },
  {
   "cell_type": "code",
   "execution_count": 79,
   "id": "690fca86",
   "metadata": {},
   "outputs": [],
   "source": [
    "# Drop populated columns\n",
    "df_cleaned_outlier = df_no_duplicates.drop(columns=['popularity'], errors='ignore')\n",
    "\n",
    "# Drop value of [runtime, revenue] that negative integer or float\n",
    "df_cleaned_outlier = df_cleaned_outlier[(df_cleaned_outlier['runtime'] > 0) \\\n",
    "                                         & (df_cleaned_outlier['revenue'] > 0) \\\n",
    "                                         & (df_cleaned_outlier['budget'] > 0)]"
   ]
  },
  {
   "cell_type": "code",
   "execution_count": 80,
   "id": "e5fbd2ea",
   "metadata": {},
   "outputs": [
    {
     "name": "stdout",
     "output_type": "stream",
     "text": [
      "revenue: outlier_idx=[0, 1, 2, 3, 4]... total=259\n",
      "runtime: outlier_idx=[6383, 8675, 9051, 9387, 9575]... total=76\n",
      "budget: outlier_idx=[0, 1, 2, 3, 4]... total=353\n"
     ]
    }
   ],
   "source": [
    "# Select only the rows that are not outliers\n",
    "select_clean_outlier_columns = ['runtime', 'revenue', 'budget']\n",
    "iqr_clean_idx = z_score_outlier(df_cleaned_outlier, select_clean_outlier_columns)\n",
    "df_cleaned_outlier = df_cleaned_outlier.loc[iqr_clean_idx]"
   ]
  },
  {
   "cell_type": "code",
   "execution_count": 81,
   "id": "3edfc89c",
   "metadata": {},
   "outputs": [
    {
     "data": {
      "image/png": "[encoded data removed]",
      "text/plain": [
       "<Figure size 1000x800 with 1 Axes>"
      ]
     },
     "metadata": {},
     "output_type": "display_data"
    },
    {
     "data": {
      "image/png": "[encoded data removed]",
      "text/plain": [
       "<Figure size 1000x800 with 1 Axes>"
      ]
     },
     "metadata": {},
     "output_type": "display_data"
    },
    {
     "data": {
      "image/png": "[encoded data removed]",
      "text/plain": [
       "<Figure size 1000x800 with 1 Axes>"
      ]
     },
     "metadata": {},
     "output_type": "display_data"
    },
    {
     "data": {
      "image/png": "[encoded data removed]",
      "text/plain": [
       "<Figure size 1000x800 with 1 Axes>"
      ]
     },
     "metadata": {},
     "output_type": "display_data"
    },
    {
     "data": {
      "image/png": "[encoded data removed]",
      "text/plain": [
       "<Figure size 1000x800 with 1 Axes>"
      ]
     },
     "metadata": {},
     "output_type": "display_data"
    }
   ],
   "source": [
    "numeric_column_lst = ['vote_average', 'vote_count', 'revenue', 'runtime', 'budget']\n",
    "for col in numeric_column_lst:\n",
    "    create_box_plot (df_cleaned_outlier, col)"
   ]
  },
  {
   "cell_type": "markdown",
   "id": "de2517bd",
   "metadata": {},
   "source": [
    "### Isolation Forest Method"
   ]
  },
  {
   "cell_type": "code",
   "execution_count": 82,
   "id": "a4b73619",
   "metadata": {},
   "outputs": [],
   "source": [
    "# Use Isolation Forest to detect outliers\n",
    "from sklearn.ensemble import IsolationForest\n",
    "\n",
    "def isolation_forest_outlier(df: pd.DataFrame, numeric_columns_list: list) -> pd.Series:\n",
    "    '''\n",
    "    Identify outliers in the DataFrame using the Isolation Forest method.\n",
    "    Args:\n",
    "        df (pd.DataFrame): The DataFrame to check for outliers.\n",
    "        numeric_columns (list): List of numeric columns to check for outliers.\n",
    "    Returns:\n",
    "        pd.Series: A boolean Series indicating which rows are not outliers.\n",
    "    '''\n",
    "    clean_idx = np.ones(len(df), dtype=bool)  # Start with all True\n",
    "    for col in numeric_columns_list:\n",
    "        if col not in df.columns:\n",
    "            continue\n",
    "\n",
    "        iso_forest = IsolationForest(contamination=0.05, random_state=42)\n",
    "        outliers = iso_forest.fit_predict(df[[col]])\n",
    "        idx = outliers != -1  # -1 indicates an outlier\n",
    "        clean_idx &= idx  # Combine results with AND operation\n",
    "        \n",
    "        outlier_idx = [i for i, is_clean in enumerate(idx) if not is_clean]\n",
    "        print(f\"{col}: outlier_idx={outlier_idx[:5]}... total={len(outlier_idx)}\")\n",
    "        \n",
    "    return clean_idx"
   ]
  },
  {
   "cell_type": "code",
   "execution_count": 83,
   "id": "ce3c3415",
   "metadata": {},
   "outputs": [],
   "source": [
    "# Drop populated columns\n",
    "df_cleaned_outlier = df_no_duplicates.drop(columns=['popularity'], errors='ignore')\n",
    "\n",
    "# Drop value of [runtime, revenue] that negative integer or float\n",
    "df_cleaned_outlier = df_cleaned_outlier[(df_cleaned_outlier['runtime'] > 0) \\\n",
    "                                         & (df_cleaned_outlier['revenue'] > 0) \\\n",
    "                                         & (df_cleaned_outlier['budget'] > 0)]"
   ]
  },
  {
   "cell_type": "code",
   "execution_count": 84,
   "id": "59746f78",
   "metadata": {},
   "outputs": [
    {
     "name": "stdout",
     "output_type": "stream",
     "text": [
      "runtime: outlier_idx=[1, 15, 17, 19, 20]... total=668\n",
      "revenue: outlier_idx=[0, 1, 2, 3, 4]... total=668\n",
      "budget: outlier_idx=[0, 1, 2, 3, 4]... total=660\n"
     ]
    }
   ],
   "source": [
    "# Select only the rows that are not outliers\n",
    "select_clean_outlier_columns = ['runtime', 'revenue', 'budget']\n",
    "iqr_clean_idx = isolation_forest_outlier(df_cleaned_outlier, select_clean_outlier_columns)\n",
    "df_cleaned_outlier = df_cleaned_outlier.loc[iqr_clean_idx]"
   ]
  },
  {
   "cell_type": "code",
   "execution_count": 85,
   "id": "6050a3a6",
   "metadata": {},
   "outputs": [
    {
     "data": {
      "image/png": "[encoded data removed]",
      "text/plain": [
       "<Figure size 1000x800 with 1 Axes>"
      ]
     },
     "metadata": {},
     "output_type": "display_data"
    },
    {
     "data": {
      "image/png": "[encoded data removed]",
      "text/plain": [
       "<Figure size 1000x800 with 1 Axes>"
      ]
     },
     "metadata": {},
     "output_type": "display_data"
    },
    {
     "data": {
      "image/png": "[encoded data removed]",
      "text/plain": [
       "<Figure size 1000x800 with 1 Axes>"
      ]
     },
     "metadata": {},
     "output_type": "display_data"
    },
    {
     "data": {
      "image/png": "[encoded data removed]",
      "text/plain": [
       "<Figure size 1000x800 with 1 Axes>"
      ]
     },
     "metadata": {},
     "output_type": "display_data"
    },
    {
     "data": {
      "image/png": "[encoded data removed]",
      "text/plain": [
       "<Figure size 1000x800 with 1 Axes>"
      ]
     },
     "metadata": {},
     "output_type": "display_data"
    }
   ],
   "source": [
    "numeric_column_lst = ['vote_average', 'vote_count', 'revenue', 'runtime', 'budget']\n",
    "for col in numeric_column_lst:\n",
    "    create_box_plot (df_cleaned_outlier, col)"
   ]
  },
  {
   "cell_type": "markdown",
   "id": "98ddd12f",
   "metadata": {},
   "source": [
    "### Obj (String) Column Outlier "
   ]
  },
  {
   "cell_type": "markdown",
   "id": "0f531f99",
   "metadata": {},
   "source": [
    "NOTE: \n",
    "* id = set to index  \n",
    "* title = small missing value, clean missing value, check length\n",
    "* original_title = small missing value, clean missing value, check length\n",
    "* status = category data, check list value\n",
    "* releae_date = check format, check missing              \n",
    "* adult = check datatype\n",
    "* backdrop_path = check object pattern, string, check length\n",
    "* homepage = check object pattern, string, There are so many missing values , check length\n",
    "* imdb_id  = simply check \n",
    "* original_language = check value count\n",
    "* overview  = check length\n",
    "* poster_path = check object pattern, string, missing values are so many, check length\n",
    "* tagline = There are so many missing values , check length\n",
    "* genres  = category data, check list value, missing value, check format\n",
    "* production_companies =  check length, missing value check format\n",
    "* production_countries = check length, missing value, check format\n",
    "* spoken_languages  = check length, missing value, check format \n",
    "* keywords = check length, There are so many missing values"
   ]
  },
  {
   "cell_type": "markdown",
   "id": "9ca56170",
   "metadata": {},
   "source": [
    "### Explore \"title\" Column"
   ]
  },
  {
   "cell_type": "code",
   "execution_count": 98,
   "id": "98c42818",
   "metadata": {},
   "outputs": [
    {
     "data": {
      "text/plain": [
       "'Missing titles:'"
      ]
     },
     "metadata": {},
     "output_type": "display_data"
    },
    {
     "data": {
      "text/html": [
       "<div>\n",
       "<style scoped>\n",
       "    .dataframe tbody tr th:only-of-type {\n",
       "        vertical-align: middle;\n",
       "    }\n",
       "\n",
       "    .dataframe tbody tr th {\n",
       "        vertical-align: top;\n",
       "    }\n",
       "\n",
       "    .dataframe thead th {\n",
       "        text-align: right;\n",
       "    }\n",
       "</style>\n",
       "<table border=\"1\" class=\"dataframe\">\n",
       "  <thead>\n",
       "    <tr style=\"text-align: right;\">\n",
       "      <th></th>\n",
       "      <th>title</th>\n",
       "      <th>vote_average</th>\n",
       "      <th>vote_count</th>\n",
       "      <th>status</th>\n",
       "      <th>release_date</th>\n",
       "      <th>revenue</th>\n",
       "      <th>runtime</th>\n",
       "      <th>adult</th>\n",
       "      <th>backdrop_path</th>\n",
       "      <th>budget</th>\n",
       "      <th>...</th>\n",
       "      <th>original_title</th>\n",
       "      <th>overview</th>\n",
       "      <th>popularity</th>\n",
       "      <th>poster_path</th>\n",
       "      <th>tagline</th>\n",
       "      <th>genres</th>\n",
       "      <th>production_companies</th>\n",
       "      <th>production_countries</th>\n",
       "      <th>spoken_languages</th>\n",
       "      <th>keywords</th>\n",
       "    </tr>\n",
       "    <tr>\n",
       "      <th>id</th>\n",
       "      <th></th>\n",
       "      <th></th>\n",
       "      <th></th>\n",
       "      <th></th>\n",
       "      <th></th>\n",
       "      <th></th>\n",
       "      <th></th>\n",
       "      <th></th>\n",
       "      <th></th>\n",
       "      <th></th>\n",
       "      <th></th>\n",
       "      <th></th>\n",
       "      <th></th>\n",
       "      <th></th>\n",
       "      <th></th>\n",
       "      <th></th>\n",
       "      <th></th>\n",
       "      <th></th>\n",
       "      <th></th>\n",
       "      <th></th>\n",
       "      <th></th>\n",
       "    </tr>\n",
       "  </thead>\n",
       "  <tbody>\n",
       "    <tr>\n",
       "      <th>1225818</th>\n",
       "      <td>NaN</td>\n",
       "      <td>0.000</td>\n",
       "      <td>0</td>\n",
       "      <td>Released</td>\n",
       "      <td>NaN</td>\n",
       "      <td>0</td>\n",
       "      <td>8</td>\n",
       "      <td>False</td>\n",
       "      <td>/s79lh1vTtmejKdYRtZZXh6vd7e4.jpg</td>\n",
       "      <td>0</td>\n",
       "      <td>...</td>\n",
       "      <td>NaN</td>\n",
       "      <td>In this directorial debut of Eden Ewardson, he...</td>\n",
       "      <td>0.000</td>\n",
       "      <td>NaN</td>\n",
       "      <td>NaN</td>\n",
       "      <td>NaN</td>\n",
       "      <td>NaN</td>\n",
       "      <td>NaN</td>\n",
       "      <td>Burmese</td>\n",
       "      <td>NaN</td>\n",
       "    </tr>\n",
       "    <tr>\n",
       "      <th>1104880</th>\n",
       "      <td>NaN</td>\n",
       "      <td>0.000</td>\n",
       "      <td>0</td>\n",
       "      <td>Canceled</td>\n",
       "      <td>NaN</td>\n",
       "      <td>0</td>\n",
       "      <td>0</td>\n",
       "      <td>False</td>\n",
       "      <td>NaN</td>\n",
       "      <td>0</td>\n",
       "      <td>...</td>\n",
       "      <td>NaN</td>\n",
       "      <td>NaN</td>\n",
       "      <td>0.600</td>\n",
       "      <td>/oXvQVlS7ZR7d5t130rVZH7ATxcQ.jpg</td>\n",
       "      <td>NaN</td>\n",
       "      <td>Horror, Mystery, Thriller</td>\n",
       "      <td>NaN</td>\n",
       "      <td>United States of America</td>\n",
       "      <td>English</td>\n",
       "      <td>NaN</td>\n",
       "    </tr>\n",
       "    <tr>\n",
       "      <th>1120517</th>\n",
       "      <td>NaN</td>\n",
       "      <td>0.000</td>\n",
       "      <td>0</td>\n",
       "      <td>Released</td>\n",
       "      <td>2008-03-02</td>\n",
       "      <td>0</td>\n",
       "      <td>0</td>\n",
       "      <td>False</td>\n",
       "      <td>NaN</td>\n",
       "      <td>0</td>\n",
       "      <td>...</td>\n",
       "      <td>NaN</td>\n",
       "      <td>NaN</td>\n",
       "      <td>0.600</td>\n",
       "      <td>/hTZwKG59EhnszkN1S2JCQziVn7y.jpg</td>\n",
       "      <td>NaN</td>\n",
       "      <td>Documentary</td>\n",
       "      <td>NaN</td>\n",
       "      <td>United States of America</td>\n",
       "      <td>NaN</td>\n",
       "      <td>NaN</td>\n",
       "    </tr>\n",
       "    <tr>\n",
       "      <th>1161361</th>\n",
       "      <td>NaN</td>\n",
       "      <td>0.000</td>\n",
       "      <td>0</td>\n",
       "      <td>Released</td>\n",
       "      <td>NaN</td>\n",
       "      <td>0</td>\n",
       "      <td>3</td>\n",
       "      <td>True</td>\n",
       "      <td>NaN</td>\n",
       "      <td>0</td>\n",
       "      <td>...</td>\n",
       "      <td>NaN</td>\n",
       "      <td>“My Body, My Rules, and Them” is an exploratio...</td>\n",
       "      <td>0.750</td>\n",
       "      <td>/gq70HT1nXkgMi3pyMFQrvYihXIB.jpg</td>\n",
       "      <td>NaN</td>\n",
       "      <td>NaN</td>\n",
       "      <td>NaN</td>\n",
       "      <td>NaN</td>\n",
       "      <td>NaN</td>\n",
       "      <td>gawad alternatibo</td>\n",
       "    </tr>\n",
       "    <tr>\n",
       "      <th>1161605</th>\n",
       "      <td>NaN</td>\n",
       "      <td>0.000</td>\n",
       "      <td>0</td>\n",
       "      <td>Released</td>\n",
       "      <td>2021-05-21</td>\n",
       "      <td>0</td>\n",
       "      <td>10</td>\n",
       "      <td>False</td>\n",
       "      <td>NaN</td>\n",
       "      <td>0</td>\n",
       "      <td>...</td>\n",
       "      <td>NaN</td>\n",
       "      <td>A hitman is tasked to take out ex-mobsters whe...</td>\n",
       "      <td>0.861</td>\n",
       "      <td>/oDFMsLYPPRquWxF7zFuhe9qHwGa.jpg</td>\n",
       "      <td>NaN</td>\n",
       "      <td>NaN</td>\n",
       "      <td>NaN</td>\n",
       "      <td>NaN</td>\n",
       "      <td>NaN</td>\n",
       "      <td>NaN</td>\n",
       "    </tr>\n",
       "  </tbody>\n",
       "</table>\n",
       "<p>5 rows × 23 columns</p>\n",
       "</div>"
      ],
      "text/plain": [
       "        title  vote_average  vote_count    status release_date  revenue  \\\n",
       "id                                                                        \n",
       "1225818   NaN         0.000           0  Released          NaN        0   \n",
       "1104880   NaN         0.000           0  Canceled          NaN        0   \n",
       "1120517   NaN         0.000           0  Released   2008-03-02        0   \n",
       "1161361   NaN         0.000           0  Released          NaN        0   \n",
       "1161605   NaN         0.000           0  Released   2021-05-21        0   \n",
       "\n",
       "         runtime  adult                     backdrop_path  budget  ...  \\\n",
       "id                                                                 ...   \n",
       "1225818        8  False  /s79lh1vTtmejKdYRtZZXh6vd7e4.jpg       0  ...   \n",
       "1104880        0  False                               NaN       0  ...   \n",
       "1120517        0  False                               NaN       0  ...   \n",
       "1161361        3   True                               NaN       0  ...   \n",
       "1161605       10  False                               NaN       0  ...   \n",
       "\n",
       "        original_title                                           overview  \\\n",
       "id                                                                          \n",
       "1225818            NaN  In this directorial debut of Eden Ewardson, he...   \n",
       "1104880            NaN                                                NaN   \n",
       "1120517            NaN                                                NaN   \n",
       "1161361            NaN  “My Body, My Rules, and Them” is an exploratio...   \n",
       "1161605            NaN  A hitman is tasked to take out ex-mobsters whe...   \n",
       "\n",
       "        popularity                       poster_path tagline  \\\n",
       "id                                                             \n",
       "1225818      0.000                               NaN     NaN   \n",
       "1104880      0.600  /oXvQVlS7ZR7d5t130rVZH7ATxcQ.jpg     NaN   \n",
       "1120517      0.600  /hTZwKG59EhnszkN1S2JCQziVn7y.jpg     NaN   \n",
       "1161361      0.750  /gq70HT1nXkgMi3pyMFQrvYihXIB.jpg     NaN   \n",
       "1161605      0.861  /oDFMsLYPPRquWxF7zFuhe9qHwGa.jpg     NaN   \n",
       "\n",
       "                            genres production_companies  \\\n",
       "id                                                        \n",
       "1225818                        NaN                  NaN   \n",
       "1104880  Horror, Mystery, Thriller                  NaN   \n",
       "1120517                Documentary                  NaN   \n",
       "1161361                        NaN                  NaN   \n",
       "1161605                        NaN                  NaN   \n",
       "\n",
       "             production_countries spoken_languages           keywords  \n",
       "id                                                                     \n",
       "1225818                       NaN          Burmese                NaN  \n",
       "1104880  United States of America          English                NaN  \n",
       "1120517  United States of America              NaN                NaN  \n",
       "1161361                       NaN              NaN  gawad alternatibo  \n",
       "1161605                       NaN              NaN                NaN  \n",
       "\n",
       "[5 rows x 23 columns]"
      ]
     },
     "metadata": {},
     "output_type": "display_data"
    },
    {
     "data": {
      "text/plain": [
       "'Min title length: 1.0, Max title length: 324.0'"
      ]
     },
     "metadata": {},
     "output_type": "display_data"
    },
    {
     "data": {
      "text/plain": [
       "'Titles with minimum length:'"
      ]
     },
     "metadata": {},
     "output_type": "display_data"
    },
    {
     "data": {
      "text/plain": [
       "id\n",
       "12244     9\n",
       "760104    X\n",
       "832       M\n",
       "2721      Z\n",
       "27726     Q\n",
       "         ..\n",
       "756862    水\n",
       "758531    0\n",
       "788770    B\n",
       "795248    8\n",
       "774928    M\n",
       "Name: title, Length: 610, dtype: object"
      ]
     },
     "metadata": {},
     "output_type": "display_data"
    },
    {
     "data": {
      "text/plain": [
       "'Titles with maximum length:'"
      ]
     },
     "metadata": {},
     "output_type": "display_data"
    },
    {
     "data": {
      "text/plain": [
       "id\n",
       "622274    NHDTA-775 Climaxing Over and Over! Repeated Fa...\n",
       "Name: title, dtype: object"
      ]
     },
     "metadata": {},
     "output_type": "display_data"
    },
    {
     "data": {
      "text/plain": [
       "'Title length counts:'"
      ]
     },
     "metadata": {},
     "output_type": "display_data"
    },
    {
     "data": {
      "text/plain": [
       "title\n",
       "1.000        610\n",
       "2.000       2228\n",
       "3.000       6913\n",
       "4.000      21812\n",
       "5.000      28255\n",
       "           ...  \n",
       "255.000        6\n",
       "256.000        6\n",
       "273.000        1\n",
       "318.000        1\n",
       "324.000        1\n",
       "Name: count, Length: 258, dtype: int64"
      ]
     },
     "metadata": {},
     "output_type": "display_data"
    }
   ],
   "source": [
    "#  title column = check small missing value, clean missing value, check length\n",
    "\n",
    "# Check for missing values in the 'title' column\n",
    "missing_titles = df_no_duplicates['title'].isnull()\n",
    "display(\"Missing titles:\")\n",
    "display(df_no_duplicates[missing_titles].head())\n",
    "\n",
    "# Check the length of titles Max and Min and Show title that have Min , Max Length and value counting.\n",
    "title_lengths = df_no_duplicates['title'].str.len()\n",
    "min_length = title_lengths.min()\n",
    "max_length = title_lengths.max()\n",
    "display(f\"Min title length: {min_length}, Max title length: {max_length}\")\n",
    "\n",
    "# Titles with minimum length\n",
    "min_length_titles = df_no_duplicates[title_lengths == min_length]['title']\n",
    "display(\"Titles with minimum length:\")\n",
    "display(min_length_titles)\n",
    "\n",
    "# Titles with maximum length\n",
    "max_length_titles = df_no_duplicates[title_lengths == max_length]['title']\n",
    "display(\"Titles with maximum length:\")\n",
    "display(max_length_titles)\n",
    "\n",
    "# Value count of length of titles\n",
    "title_length_counts = title_lengths.value_counts().sort_index()\n",
    "display(\"Title length counts:\")\n",
    "display(title_length_counts)   "
   ]
  },
  {
   "cell_type": "markdown",
   "id": "c73228f8",
   "metadata": {},
   "source": [
    "### Explore original_title columns"
   ]
  },
  {
   "cell_type": "code",
   "execution_count": 99,
   "id": "8d42d398",
   "metadata": {},
   "outputs": [
    {
     "data": {
      "text/plain": [
       "'Missing titles:'"
      ]
     },
     "metadata": {},
     "output_type": "display_data"
    },
    {
     "data": {
      "text/html": [
       "<div>\n",
       "<style scoped>\n",
       "    .dataframe tbody tr th:only-of-type {\n",
       "        vertical-align: middle;\n",
       "    }\n",
       "\n",
       "    .dataframe tbody tr th {\n",
       "        vertical-align: top;\n",
       "    }\n",
       "\n",
       "    .dataframe thead th {\n",
       "        text-align: right;\n",
       "    }\n",
       "</style>\n",
       "<table border=\"1\" class=\"dataframe\">\n",
       "  <thead>\n",
       "    <tr style=\"text-align: right;\">\n",
       "      <th></th>\n",
       "      <th>title</th>\n",
       "      <th>vote_average</th>\n",
       "      <th>vote_count</th>\n",
       "      <th>status</th>\n",
       "      <th>release_date</th>\n",
       "      <th>revenue</th>\n",
       "      <th>runtime</th>\n",
       "      <th>adult</th>\n",
       "      <th>backdrop_path</th>\n",
       "      <th>budget</th>\n",
       "      <th>...</th>\n",
       "      <th>original_title</th>\n",
       "      <th>overview</th>\n",
       "      <th>popularity</th>\n",
       "      <th>poster_path</th>\n",
       "      <th>tagline</th>\n",
       "      <th>genres</th>\n",
       "      <th>production_companies</th>\n",
       "      <th>production_countries</th>\n",
       "      <th>spoken_languages</th>\n",
       "      <th>keywords</th>\n",
       "    </tr>\n",
       "    <tr>\n",
       "      <th>id</th>\n",
       "      <th></th>\n",
       "      <th></th>\n",
       "      <th></th>\n",
       "      <th></th>\n",
       "      <th></th>\n",
       "      <th></th>\n",
       "      <th></th>\n",
       "      <th></th>\n",
       "      <th></th>\n",
       "      <th></th>\n",
       "      <th></th>\n",
       "      <th></th>\n",
       "      <th></th>\n",
       "      <th></th>\n",
       "      <th></th>\n",
       "      <th></th>\n",
       "      <th></th>\n",
       "      <th></th>\n",
       "      <th></th>\n",
       "      <th></th>\n",
       "      <th></th>\n",
       "    </tr>\n",
       "  </thead>\n",
       "  <tbody>\n",
       "    <tr>\n",
       "      <th>1225818</th>\n",
       "      <td>NaN</td>\n",
       "      <td>0.000</td>\n",
       "      <td>0</td>\n",
       "      <td>Released</td>\n",
       "      <td>NaN</td>\n",
       "      <td>0</td>\n",
       "      <td>8</td>\n",
       "      <td>False</td>\n",
       "      <td>/s79lh1vTtmejKdYRtZZXh6vd7e4.jpg</td>\n",
       "      <td>0</td>\n",
       "      <td>...</td>\n",
       "      <td>NaN</td>\n",
       "      <td>In this directorial debut of Eden Ewardson, he...</td>\n",
       "      <td>0.000</td>\n",
       "      <td>NaN</td>\n",
       "      <td>NaN</td>\n",
       "      <td>NaN</td>\n",
       "      <td>NaN</td>\n",
       "      <td>NaN</td>\n",
       "      <td>Burmese</td>\n",
       "      <td>NaN</td>\n",
       "    </tr>\n",
       "    <tr>\n",
       "      <th>1104880</th>\n",
       "      <td>NaN</td>\n",
       "      <td>0.000</td>\n",
       "      <td>0</td>\n",
       "      <td>Canceled</td>\n",
       "      <td>NaN</td>\n",
       "      <td>0</td>\n",
       "      <td>0</td>\n",
       "      <td>False</td>\n",
       "      <td>NaN</td>\n",
       "      <td>0</td>\n",
       "      <td>...</td>\n",
       "      <td>NaN</td>\n",
       "      <td>NaN</td>\n",
       "      <td>0.600</td>\n",
       "      <td>/oXvQVlS7ZR7d5t130rVZH7ATxcQ.jpg</td>\n",
       "      <td>NaN</td>\n",
       "      <td>Horror, Mystery, Thriller</td>\n",
       "      <td>NaN</td>\n",
       "      <td>United States of America</td>\n",
       "      <td>English</td>\n",
       "      <td>NaN</td>\n",
       "    </tr>\n",
       "    <tr>\n",
       "      <th>1120517</th>\n",
       "      <td>NaN</td>\n",
       "      <td>0.000</td>\n",
       "      <td>0</td>\n",
       "      <td>Released</td>\n",
       "      <td>2008-03-02</td>\n",
       "      <td>0</td>\n",
       "      <td>0</td>\n",
       "      <td>False</td>\n",
       "      <td>NaN</td>\n",
       "      <td>0</td>\n",
       "      <td>...</td>\n",
       "      <td>NaN</td>\n",
       "      <td>NaN</td>\n",
       "      <td>0.600</td>\n",
       "      <td>/hTZwKG59EhnszkN1S2JCQziVn7y.jpg</td>\n",
       "      <td>NaN</td>\n",
       "      <td>Documentary</td>\n",
       "      <td>NaN</td>\n",
       "      <td>United States of America</td>\n",
       "      <td>NaN</td>\n",
       "      <td>NaN</td>\n",
       "    </tr>\n",
       "    <tr>\n",
       "      <th>1161361</th>\n",
       "      <td>NaN</td>\n",
       "      <td>0.000</td>\n",
       "      <td>0</td>\n",
       "      <td>Released</td>\n",
       "      <td>NaN</td>\n",
       "      <td>0</td>\n",
       "      <td>3</td>\n",
       "      <td>True</td>\n",
       "      <td>NaN</td>\n",
       "      <td>0</td>\n",
       "      <td>...</td>\n",
       "      <td>NaN</td>\n",
       "      <td>“My Body, My Rules, and Them” is an exploratio...</td>\n",
       "      <td>0.750</td>\n",
       "      <td>/gq70HT1nXkgMi3pyMFQrvYihXIB.jpg</td>\n",
       "      <td>NaN</td>\n",
       "      <td>NaN</td>\n",
       "      <td>NaN</td>\n",
       "      <td>NaN</td>\n",
       "      <td>NaN</td>\n",
       "      <td>gawad alternatibo</td>\n",
       "    </tr>\n",
       "    <tr>\n",
       "      <th>1161605</th>\n",
       "      <td>NaN</td>\n",
       "      <td>0.000</td>\n",
       "      <td>0</td>\n",
       "      <td>Released</td>\n",
       "      <td>2021-05-21</td>\n",
       "      <td>0</td>\n",
       "      <td>10</td>\n",
       "      <td>False</td>\n",
       "      <td>NaN</td>\n",
       "      <td>0</td>\n",
       "      <td>...</td>\n",
       "      <td>NaN</td>\n",
       "      <td>A hitman is tasked to take out ex-mobsters whe...</td>\n",
       "      <td>0.861</td>\n",
       "      <td>/oDFMsLYPPRquWxF7zFuhe9qHwGa.jpg</td>\n",
       "      <td>NaN</td>\n",
       "      <td>NaN</td>\n",
       "      <td>NaN</td>\n",
       "      <td>NaN</td>\n",
       "      <td>NaN</td>\n",
       "      <td>NaN</td>\n",
       "    </tr>\n",
       "  </tbody>\n",
       "</table>\n",
       "<p>5 rows × 23 columns</p>\n",
       "</div>"
      ],
      "text/plain": [
       "        title  vote_average  vote_count    status release_date  revenue  \\\n",
       "id                                                                        \n",
       "1225818   NaN         0.000           0  Released          NaN        0   \n",
       "1104880   NaN         0.000           0  Canceled          NaN        0   \n",
       "1120517   NaN         0.000           0  Released   2008-03-02        0   \n",
       "1161361   NaN         0.000           0  Released          NaN        0   \n",
       "1161605   NaN         0.000           0  Released   2021-05-21        0   \n",
       "\n",
       "         runtime  adult                     backdrop_path  budget  ...  \\\n",
       "id                                                                 ...   \n",
       "1225818        8  False  /s79lh1vTtmejKdYRtZZXh6vd7e4.jpg       0  ...   \n",
       "1104880        0  False                               NaN       0  ...   \n",
       "1120517        0  False                               NaN       0  ...   \n",
       "1161361        3   True                               NaN       0  ...   \n",
       "1161605       10  False                               NaN       0  ...   \n",
       "\n",
       "        original_title                                           overview  \\\n",
       "id                                                                          \n",
       "1225818            NaN  In this directorial debut of Eden Ewardson, he...   \n",
       "1104880            NaN                                                NaN   \n",
       "1120517            NaN                                                NaN   \n",
       "1161361            NaN  “My Body, My Rules, and Them” is an exploratio...   \n",
       "1161605            NaN  A hitman is tasked to take out ex-mobsters whe...   \n",
       "\n",
       "        popularity                       poster_path tagline  \\\n",
       "id                                                             \n",
       "1225818      0.000                               NaN     NaN   \n",
       "1104880      0.600  /oXvQVlS7ZR7d5t130rVZH7ATxcQ.jpg     NaN   \n",
       "1120517      0.600  /hTZwKG59EhnszkN1S2JCQziVn7y.jpg     NaN   \n",
       "1161361      0.750  /gq70HT1nXkgMi3pyMFQrvYihXIB.jpg     NaN   \n",
       "1161605      0.861  /oDFMsLYPPRquWxF7zFuhe9qHwGa.jpg     NaN   \n",
       "\n",
       "                            genres production_companies  \\\n",
       "id                                                        \n",
       "1225818                        NaN                  NaN   \n",
       "1104880  Horror, Mystery, Thriller                  NaN   \n",
       "1120517                Documentary                  NaN   \n",
       "1161361                        NaN                  NaN   \n",
       "1161605                        NaN                  NaN   \n",
       "\n",
       "             production_countries spoken_languages           keywords  \n",
       "id                                                                     \n",
       "1225818                       NaN          Burmese                NaN  \n",
       "1104880  United States of America          English                NaN  \n",
       "1120517  United States of America              NaN                NaN  \n",
       "1161361                       NaN              NaN  gawad alternatibo  \n",
       "1161605                       NaN              NaN                NaN  \n",
       "\n",
       "[5 rows x 23 columns]"
      ]
     },
     "metadata": {},
     "output_type": "display_data"
    },
    {
     "data": {
      "text/plain": [
       "'Min title length: 1.0, Max title length: 254.0'"
      ]
     },
     "metadata": {},
     "output_type": "display_data"
    },
    {
     "data": {
      "text/plain": [
       "'Titles with minimum length:'"
      ]
     },
     "metadata": {},
     "output_type": "display_data"
    },
    {
     "data": {
      "text/plain": [
       "id\n",
       "12244     9\n",
       "760104    X\n",
       "11645     乱\n",
       "86331     Q\n",
       "575604    콜\n",
       "         ..\n",
       "791811    猫\n",
       "792056    熵\n",
       "777498    缝\n",
       "774928    M\n",
       "780534    兆\n",
       "Name: original_title, Length: 1110, dtype: object"
      ]
     },
     "metadata": {},
     "output_type": "display_data"
    },
    {
     "data": {
      "text/plain": [
       "'Titles with maximum length:'"
      ]
     },
     "metadata": {},
     "output_type": "display_data"
    },
    {
     "data": {
      "text/plain": [
       "id\n",
       "1459491    EYAN-156 Two Indoor Exhibitionist MILF Buddies...\n",
       "Name: original_title, dtype: object"
      ]
     },
     "metadata": {},
     "output_type": "display_data"
    },
    {
     "data": {
      "text/plain": [
       "'Title length counts:'"
      ]
     },
     "metadata": {},
     "output_type": "display_data"
    },
    {
     "data": {
      "text/plain": [
       "original_title\n",
       "1.000       1110\n",
       "2.000       7310\n",
       "3.000      12912\n",
       "4.000      32998\n",
       "5.000      35713\n",
       "           ...  \n",
       "249.000        1\n",
       "250.000        4\n",
       "251.000        1\n",
       "252.000        1\n",
       "254.000        1\n",
       "Name: count, Length: 221, dtype: int64"
      ]
     },
     "metadata": {},
     "output_type": "display_data"
    }
   ],
   "source": [
    "# original_title = small missing value, clean missing value, check length\n",
    "\n",
    "column_name = 'original_title'\n",
    "missing_titles = df_no_duplicates[column_name].isnull()\n",
    "display(\"Missing titles:\")\n",
    "display(df_no_duplicates[missing_titles].head())\n",
    "\n",
    "# Check the length of titles Max and Min and Show title that have Min , Max Length and value counting.\n",
    "title_lengths = df_no_duplicates[column_name].str.len()\n",
    "min_length = title_lengths.min()\n",
    "max_length = title_lengths.max()\n",
    "display(f\"Min title length: {min_length}, Max title length: {max_length}\")\n",
    "\n",
    "# Titles with minimum length\n",
    "min_length_titles = df_no_duplicates[title_lengths == min_length][column_name]\n",
    "display(\"Titles with minimum length:\")\n",
    "display(min_length_titles)\n",
    "\n",
    "# Titles with maximum length\n",
    "max_length_titles = df_no_duplicates[title_lengths == max_length][column_name]\n",
    "display(\"Titles with maximum length:\")\n",
    "display(max_length_titles)\n",
    "\n",
    "# Value count of length of titles\n",
    "title_length_counts = title_lengths.value_counts().sort_index()\n",
    "display(\"Title length counts:\")\n",
    "display(title_length_counts)   "
   ]
  },
  {
   "cell_type": "code",
   "execution_count": null,
   "id": "ab716062",
   "metadata": {},
   "outputs": [],
   "source": []
  }
 ],
 "metadata": {
  "kernelspec": {
   "display_name": "venv (3.13.3)",
   "language": "python",
   "name": "python3"
  },
  "language_info": {
   "codemirror_mode": {
    "name": "ipython",
    "version": 3
   },
   "file_extension": ".py",
   "mimetype": "text/x-python",
   "name": "python",
   "nbconvert_exporter": "python",
   "pygments_lexer": "ipython3",
   "version": "3.13.3"
  }
 },
 "nbformat": 4,
 "nbformat_minor": 5
}
